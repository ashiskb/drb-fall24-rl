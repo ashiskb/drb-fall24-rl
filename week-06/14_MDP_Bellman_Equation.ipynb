{
 "cells": [
  {
   "cell_type": "markdown",
   "metadata": {
    "id": "C9LspitiAK83"
   },
   "source": [
    "## Markov Decision Processes (MDP)\n",
    "\n",
    "### Solving MDP : Electric Cart\n",
    "![electric-cart-MDP](figs/electric_cart_0.png)\n"
   ]
  },
  {
   "cell_type": "code",
   "execution_count": 65,
   "metadata": {},
   "outputs": [],
   "source": [
    "#The input parameters\n",
    "a_val = 5\n",
    "b_val = 5\n",
    "alpha = 0.2\n",
    "beta = 0.8\n",
    "gamma = 0.9\n"
   ]
  },
  {
   "cell_type": "code",
   "execution_count": 66,
   "metadata": {},
   "outputs": [],
   "source": [
    "#state space\n",
    "S = {'LOW_CHARGE':0, 'HIGH_CHARGE':1}\n",
    "#action space\n",
    "A = {'IDLE':0, 'FERRY':1, 'RECHARGE':2}\n"
   ]
  },
  {
   "cell_type": "code",
   "execution_count": 67,
   "metadata": {},
   "outputs": [],
   "source": [
    "def step(s,a):\n",
    "\t#returns probability of transition to state s1 with a reward r given agent is at state s taking action a\n",
    "\t#as a tuple (p(s',r|s,a), r, s')\n",
    "\tif s==S['LOW_CHARGE'] and a == A['IDLE']:\n",
    "\t\treturn [(0.0,0,S['HIGH_CHARGE']), (1.0,a_val,S['LOW_CHARGE'])]\n",
    "\telif s==S['LOW_CHARGE'] and a==A['FERRY']:\n",
    "\t\treturn [(1-alpha, -10, S['HIGH_CHARGE']), (alpha, b_val, S['LOW_CHARGE'])]\n",
    "\telif s==S['LOW_CHARGE'] and a==A['RECHARGE']:\n",
    "\t\treturn [ (1.0,0.0,S['HIGH_CHARGE']), (0,0,S['LOW_CHARGE'])]\n",
    "\telif s==S['HIGH_CHARGE'] and a==A['IDLE']:\n",
    "\t\treturn [(1.0, a_val, S['HIGH_CHARGE']), (0,0,S['LOW_CHARGE'])]\n",
    "\telif s==S['HIGH_CHARGE'] and a==A['FERRY']:\n",
    "\t\treturn [(beta, b_val, S['HIGH_CHARGE']),(1-beta,b,S['LOW_CHARGE'])] \n",
    "\telif s==S['HIGH_CHARGE'] and a==A['RECHARGE']:\n",
    "\t\treturn [(0.0, 0.0, S['HIGH_CHARGE']),(0,0,S['LOW_CHARGE'])]\n",
    "\t\t"
   ]
  },
  {
   "cell_type": "markdown",
   "metadata": {},
   "source": [
    "### Optimal Value function\n",
    "$v^*(s) = \\underset{a}{\\text{max}} \\quad \\sum_{s',r}p(s',r|s,a)[ r + \\gamma v^*(s')]$"
   ]
  },
  {
   "cell_type": "code",
   "execution_count": 71,
   "metadata": {},
   "outputs": [],
   "source": [
    "import numpy as np\n"
   ]
  },
  {
   "cell_type": "code",
   "execution_count": 72,
   "metadata": {},
   "outputs": [],
   "source": [
    "#initialization\n",
    "v = np.zeros((2,1)) #v[LOW_CHARGE] and v[HIGH_CHARGE]\n",
    "v_old = np.zeros((2,1))"
   ]
  },
  {
   "cell_type": "code",
   "execution_count": 73,
   "metadata": {},
   "outputs": [
    {
     "name": "stdout",
     "output_type": "stream",
     "text": [
      "v[LOW_CHARGE]:[0.] updated to [5.]\n",
      "v[HIGH_CHARGE]:[0.] updated to [5.]\n",
      "v[HIGH_CHARGE]:[5.] updated to [9.5]\n",
      "v[LOW_CHARGE]:[5.] updated to [9.5]\n",
      "v[HIGH_CHARGE]:[9.5] updated to [13.55]\n",
      "v[HIGH_CHARGE]:[13.55] updated to [16.466]\n"
     ]
    }
   ],
   "source": [
    "#off-policy iterations\n",
    "eps=1e-6\n",
    "#repeat until convergence\n",
    "while True:\n",
    "\tfor state_name,s in S.items():\n",
    "\t\tfor action_name,a in A.items():\n",
    "\t\t\tv_current = 0\n",
    "\t\t\tfor x in step(s,a): #loop through all possible steps given action a from state s\n",
    "\t\t\t\tp,r,s1 = x\n",
    "\t\t\t\tv_current += p*(r + gamma*v[s1])\n",
    "\t\t\tif v_current > v[s]:\n",
    "\t\t\t\tprint(f'v[{state_name}]:{v[s]} updated to {v_current}')\n",
    "\t\t\t\tv[s] = v_current\n",
    "\t\t\t\n",
    "\tif np.sqrt(np.sum((v-v_old)**2)) < eps: #convergence criteria\n",
    "\t\tbreak \n",
    "\t#move on to next iteration\n",
    "\tv_old = v\n",
    "\t\t\n",
    "\t\t\n",
    "\t"
   ]
  },
  {
   "cell_type": "code",
   "execution_count": 74,
   "metadata": {},
   "outputs": [
    {
     "name": "stdout",
     "output_type": "stream",
     "text": [
      "v*(LOW_CHARGE) = [9.5]\n",
      "v*(HIGH_CHARGE) = [16.466]\n"
     ]
    }
   ],
   "source": [
    "#optimal v\n",
    "for state_name,s in S.items():\n",
    "\tprint(f'v*({state_name}) = {v[s]}')\n"
   ]
  },
  {
   "cell_type": "code",
   "execution_count": null,
   "metadata": {},
   "outputs": [],
   "source": []
  }
 ],
 "metadata": {
  "colab": {
   "provenance": []
  },
  "kernelspec": {
   "display_name": "Python 3 (ipykernel)",
   "language": "python",
   "name": "python3"
  },
  "language_info": {
   "codemirror_mode": {
    "name": "ipython",
    "version": 3
   },
   "file_extension": ".py",
   "mimetype": "text/x-python",
   "name": "python",
   "nbconvert_exporter": "python",
   "pygments_lexer": "ipython3",
   "version": "3.10.15"
  }
 },
 "nbformat": 4,
 "nbformat_minor": 4
}
