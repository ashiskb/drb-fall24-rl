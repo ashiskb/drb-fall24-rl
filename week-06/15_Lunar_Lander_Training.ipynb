{
 "cells": [
  {
   "cell_type": "markdown",
   "metadata": {
    "id": "hyyN-2qyK_T2"
   },
   "source": [
    "# Train Lunar Lander Agent\n",
    "\n",
    "In this Notebook we will train the agent and then share the result using Huggingface ecosystem. We will be using following libraries:\n",
    "\n",
    "1. [gymnasium](https://gymnasium.farama.org/) is a standard API for reinforcement learning, and a diverse collection of reference environments.\n",
    "2. While, to gain understanding, we will be writing our own implementation code for lots of algorithms taught in the book, for actual work it makes sense to use standard libraries for all such RL tasks. One such library is [`Stable Baselines3 SB3`](https://stable-baselines3.readthedocs.io/en/master/) which is a set of reliable implementations of reinforcement learning algorithms in PyTorch. Accompanying this there is another library[`RL Baseline Zoo`](https://github.com/DLR-RM/rl-baselines3-zoo) which provides a collection of pre-trained agents, scripts for training, evaluating agents, tuning hyperparameters, plotting results and recording.\n",
    "3. We will also be using Huggingface to host the trained agents and be able to share the results with others. The book walks you through details of what is Huggingface and what all is available under huggingface ecosystem. Here, we will be using it to upload trained agents and demo videos so that the same can be shared with others. We will be using [`Huggingface sb3`](https://github.com/huggingface/huggingface_sb3) which is a library to load and upload Stable-baselines3.  models from the Hub. Before we can use it, we need a login to be created on [`Huggingface`](https://huggingface.co/join). You can follow the link to create an account."
   ]
  },
  {
   "cell_type": "markdown",
   "metadata": {
    "id": "gpyVcmMPIMJZ"
   },
   "source": [
    "#### Running in Colab/Kaggle\n",
    "\n",
    "If you are running this on Colab or Kaggle, please uncomment below cell and run this to install required dependencies."
   ]
  },
  {
   "cell_type": "code",
   "execution_count": 1,
   "metadata": {},
   "outputs": [],
   "source": [
    "## uncomment and execute this cell to install all the the dependencies if running in Google Colab or Kaggle\n",
    "\n",
    "# !apt-get update \n",
    "# !apt-get install -y swig cmake ffmpeg freeglut3-dev xvfb"
   ]
  },
  {
   "cell_type": "code",
   "execution_count": 16,
   "metadata": {
    "id": "gWskDE2c9WoN"
   },
   "outputs": [],
   "source": [
    "## uncomment and execute this cell to install all the the dependencies if running in Google Colab or Kaggle\n",
    "\n",
    "#!pip install \"box2d-py==2.3.8\"\n",
    "#!pip install \"stable-baselines3[extra]==2.1.0\"\n",
    "#!pip install \"huggingface_sb3>=3.0\"\n",
    "#!pip install \"moviepy==1.0.3\"\n",
    "#!pip install ipywidgets"
   ]
  },
  {
   "cell_type": "markdown",
   "metadata": {
    "id": "FtY8FhliLsGm"
   },
   "source": [
    "## Import policy, RL agent\n",
    "\n",
    "We will using DQN (Deep Q Network) policy to train the agent. For now we will treat this as a black box, diving deeper into it in a subsequent chapter."
   ]
  },
  {
   "cell_type": "code",
   "execution_count": 1,
   "metadata": {
    "colab": {
     "base_uri": "https://localhost:8080/"
    },
    "id": "BIedd7Pz9sOs",
    "outputId": "a0082d96-8669-4b40-d9ce-6cffcc9d3f96"
   },
   "outputs": [],
   "source": [
    "import gymnasium as gym\n",
    "\n",
    "from stable_baselines3 import DQN"
   ]
  },
  {
   "cell_type": "markdown",
   "metadata": {
    "id": "RapkYvTXL7Cd"
   },
   "source": [
    "## Create the Gym env and instantiate the agent\n",
    "\n",
    "For this example, we will use Lunar Lander environment.\n",
    "\n",
    "\"Landing outside landing pad is possible. Fuel is infinite, so an agent can learn to fly and then land on its first attempt. Four discrete actions available: do nothing, fire left orientation engine, fire main engine, fire right orientation engine. \"\n",
    "\n",
    "[Lunar Lander environment](https://gymnasium.farama.org/environments/box2d/lunar_lander/)\n",
    "\n",
    "![Lunar Lander](figs/lunar_lander.gif)\n",
    "\n",
    "\n",
    "We chose the MlpPolicy because input of Lunar Lander is a feature vector, not images. The type of action to use (discrete/continuous) will be automatically deduced from the environment action space\n",
    "\n"
   ]
  },
  {
   "cell_type": "code",
   "execution_count": 2,
   "metadata": {
    "colab": {
     "base_uri": "https://localhost:8080/"
    },
    "id": "pUWGZp3i9wyf",
    "outputId": "af792e1a-17cb-4048-b31d-0fad4426f626"
   },
   "outputs": [
    {
     "name": "stdout",
     "output_type": "stream",
     "text": [
      "Using cpu device\n",
      "Creating environment from the given name 'LunarLander-v2'\n",
      "Wrapping the env with a `Monitor` wrapper\n",
      "Wrapping the env in a DummyVecEnv.\n"
     ]
    }
   ],
   "source": [
    "model = DQN(\n",
    "    \"MlpPolicy\", #policy\n",
    "    \"LunarLander-v2\", #env\n",
    "    verbose=1, #verbosity level\n",
    "    target_update_interval=250,\n",
    "    train_freq=16,\n",
    "    gradient_steps=8,\n",
    "    gamma=0.99,\n",
    "    exploration_fraction=0.2,\n",
    "    exploration_final_eps=0.1,\n",
    "    learning_starts=1000,\n",
    "    buffer_size=10000,\n",
    "    batch_size=128,\n",
    "    learning_rate=4e-3,\n",
    "    policy_kwargs=dict(net_arch=[256, 256]),\n",
    "    seed=2,\n",
    ")"
   ]
  },
  {
   "cell_type": "markdown",
   "metadata": {
    "id": "4efFdrQ7MBvl"
   },
   "source": [
    "We load a helper function to evaluate the agent:"
   ]
  },
  {
   "cell_type": "code",
   "execution_count": 3,
   "metadata": {
    "id": "PeaVBGuJwK97"
   },
   "outputs": [],
   "source": [
    "from stable_baselines3.common.evaluation import evaluate_policy"
   ]
  },
  {
   "cell_type": "markdown",
   "metadata": {
    "id": "zjEVOIY8NVeK"
   },
   "source": [
    "Let's evaluate the un-trained agent, this should be a random agent."
   ]
  },
  {
   "cell_type": "code",
   "execution_count": 7,
   "metadata": {
    "colab": {
     "base_uri": "https://localhost:8080/"
    },
    "id": "xDHLMA6NFk95",
    "outputId": "0605d334-37f8-4ea6-dbb8-5179bfeb28dc"
   },
   "outputs": [
    {
     "name": "stdout",
     "output_type": "stream",
     "text": [
      "mean_reward=-553.20 +/- 201.27844859413986\n"
     ]
    }
   ],
   "source": [
    "# Separate env for evaluation\n",
    "eval_env = gym.make(\"LunarLander-v2\")\n",
    "\n",
    "# Random Agent, before training\n",
    "mean_reward, std_reward = evaluate_policy(\n",
    "    model,\n",
    "    eval_env, #or, model.get_env()\n",
    "    n_eval_episodes=10,\n",
    "    deterministic=True,\n",
    ")\n",
    "\n",
    "print(f\"mean_reward={mean_reward:.2f} +/- {std_reward}\")"
   ]
  },
  {
   "cell_type": "markdown",
   "metadata": {
    "id": "r5UoXTZPNdFE"
   },
   "source": [
    "## Train the agent and save it\n",
    "\n",
    "Warning: this may take a while"
   ]
  },
  {
   "cell_type": "code",
   "execution_count": 8,
   "metadata": {
    "colab": {
     "base_uri": "https://localhost:8080/",
     "height": 241,
     "referenced_widgets": [
      "1489b32e36794bb0ad04f8250cba921a",
      "060c33f79563429983f38920ea56501d"
     ]
    },
    "id": "e4cfSXIB-pTF",
    "outputId": "fc800a57-0740-47d2-f63a-6fd43df5c0f6"
   },
   "outputs": [
    {
     "data": {
      "application/vnd.jupyter.widget-view+json": {
       "model_id": "d6897e72d91c44018ccb3d55e0bd93f7",
       "version_major": 2,
       "version_minor": 0
      },
      "text/plain": [
       "Output()"
      ]
     },
     "metadata": {},
     "output_type": "display_data"
    },
    {
     "name": "stdout",
     "output_type": "stream",
     "text": [
      "----------------------------------\n",
      "| rollout/            |          |\n",
      "|    ep_len_mean      | 381      |\n",
      "|    ep_rew_mean      | 119      |\n",
      "|    exploration_rate | 0.1      |\n",
      "| time/               |          |\n",
      "|    episodes         | 400      |\n",
      "|    fps              | 227      |\n",
      "|    time_elapsed     | 411      |\n",
      "|    total_timesteps  | 93524    |\n",
      "| train/              |          |\n",
      "|    learning_rate    | 0.004    |\n",
      "|    loss             | 0.707    |\n",
      "|    n_updates        | 46264    |\n",
      "----------------------------------\n"
     ]
    },
    {
     "data": {
      "text/html": [
       "<pre style=\"white-space:pre;overflow-x:auto;line-height:normal;font-family:Menlo,'DejaVu Sans Mono',consolas,'Courier New',monospace\"></pre>\n"
      ],
      "text/plain": []
     },
     "metadata": {},
     "output_type": "display_data"
    },
    {
     "name": "stdout",
     "output_type": "stream",
     "text": [
      "CPU times: user 21min 36s, sys: 1min 1s, total: 22min 37s\n",
      "Wall time: 7min 23s\n"
     ]
    }
   ],
   "source": [
    "%%time\n",
    "# Train the agent\n",
    "model.learn(total_timesteps=int(1e5), log_interval=400, progress_bar=True)\n",
    "# Save the agent\n",
    "model.save(\"dqn_lunar\")\n",
    "del model  # delete trained model to demonstrate loading"
   ]
  },
  {
   "cell_type": "markdown",
   "metadata": {
    "id": "T31dZJYNrJwF"
   },
   "source": [
    "## Load the trained agent"
   ]
  },
  {
   "cell_type": "code",
   "execution_count": 9,
   "metadata": {
    "id": "K1ExgtyZrIA6"
   },
   "outputs": [],
   "source": [
    "model = DQN.load(\"dqn_lunar\")"
   ]
  },
  {
   "cell_type": "code",
   "execution_count": 11,
   "metadata": {
    "colab": {
     "base_uri": "https://localhost:8080/"
    },
    "id": "ygl_gVmV_QP7",
    "outputId": "a9e4e267-0b20-40c0-83c7-73c7de84856c"
   },
   "outputs": [
    {
     "name": "stdout",
     "output_type": "stream",
     "text": [
      "mean_reward=229.20 +/- 92.29589424939502\n"
     ]
    }
   ],
   "source": [
    "# Evaluate the trained agent\n",
    "mean_reward, std_reward = evaluate_policy(model, eval_env, n_eval_episodes=10, deterministic=True)\n",
    "\n",
    "print(f\"mean_reward={mean_reward:.2f} +/- {std_reward}\")"
   ]
  },
  {
   "cell_type": "markdown",
   "metadata": {
    "id": "AdlkHUBVIMJf"
   },
   "source": [
    "## Record the video of trained agent"
   ]
  },
  {
   "cell_type": "code",
   "execution_count": 12,
   "metadata": {
    "colab": {
     "base_uri": "https://localhost:8080/"
    },
    "id": "aQDZI5VEGnUq",
    "outputId": "edc264a2-da02-4604-8c3c-984e15865e84"
   },
   "outputs": [
    {
     "name": "stdout",
     "output_type": "stream",
     "text": [
      "Saving video to /Users/ashis/Documents/Teaching/Reinforcement-Learning/Lectures/2024-lectures/drb-fall24-rl/week-06/videos/random-agent-LunarLander-v2-step-0-to-step-1000.mp4\n",
      "Moviepy - Building video /Users/ashis/Documents/Teaching/Reinforcement-Learning/Lectures/2024-lectures/drb-fall24-rl/week-06/videos/random-agent-LunarLander-v2-step-0-to-step-1000.mp4.\n",
      "Moviepy - Writing video /Users/ashis/Documents/Teaching/Reinforcement-Learning/Lectures/2024-lectures/drb-fall24-rl/week-06/videos/random-agent-LunarLander-v2-step-0-to-step-1000.mp4\n",
      "\n"
     ]
    },
    {
     "name": "stderr",
     "output_type": "stream",
     "text": [
      "                                                                \r"
     ]
    },
    {
     "name": "stdout",
     "output_type": "stream",
     "text": [
      "Moviepy - Done !\n",
      "Moviepy - video ready /Users/ashis/Documents/Teaching/Reinforcement-Learning/Lectures/2024-lectures/drb-fall24-rl/week-06/videos/random-agent-LunarLander-v2-step-0-to-step-1000.mp4\n"
     ]
    }
   ],
   "source": [
    "import gymnasium as gym\n",
    "from stable_baselines3.common.vec_env import VecVideoRecorder, DummyVecEnv\n",
    "\n",
    "env_id = \"LunarLander-v2\"\n",
    "video_folder = \"videos/\"\n",
    "video_length = 1000\n",
    "\n",
    "vec_env = DummyVecEnv([lambda: gym.make(env_id, render_mode=\"rgb_array\")])\n",
    "\n",
    "obs = vec_env.reset()\n",
    "\n",
    "# Record the video starting at the first step\n",
    "vec_env = VecVideoRecorder(vec_env, video_folder,\n",
    "                       record_video_trigger=lambda x: x == 0, video_length=video_length,\n",
    "                       name_prefix=f\"random-agent-{env_id}\")\n",
    "\n",
    "vec_env.reset()\n",
    "for _ in range(video_length + 1):\n",
    "  action, _state = model.predict(obs)\n",
    "  obs, _, _, _ = vec_env.step(action)\n",
    "# Save the video\n",
    "vec_env.close()"
   ]
  },
  {
   "cell_type": "code",
   "execution_count": 13,
   "metadata": {
    "colab": {
     "base_uri": "https://localhost:8080/",
     "height": 288
    },
    "id": "QdFnRIDYDNzI",
    "outputId": "e68d7e93-7eba-410a-b7d5-8402b7d8bc17"
   },
   "outputs": [
    {
     "data": {
      "text/html": [
       "\n",
       "<video width=400 controls>\n",
       "      <source src=\"data:video/mp4;base64,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\" type=\"video/mp4\">\n",
       "</video>\n"
      ],
      "text/plain": [
       "<IPython.core.display.HTML object>"
      ]
     },
     "execution_count": 13,
     "metadata": {},
     "output_type": "execute_result"
    }
   ],
   "source": [
    "from IPython.display import HTML\n",
    "from base64 import b64encode\n",
    "\n",
    "mp4 = open('videos/random-agent-LunarLander-v2-step-0-to-step-1000.mp4','rb').read()\n",
    "data_url = \"data:video/mp4;base64,\" + b64encode(mp4).decode()\n",
    "HTML(\"\"\"\n",
    "<video width=400 controls>\n",
    "      <source src=\"%s\" type=\"video/mp4\">\n",
    "</video>\n",
    "\"\"\" % data_url)"
   ]
  },
  {
   "cell_type": "markdown",
   "metadata": {
    "id": "hHWlV9U-EBar",
    "outputId": "d908af0f-abf4-45e4-fddb-661e1e636832"
   },
   "source": [
    "## Upload the Video to Huggingface\n",
    "\n",
    "We will need to login into huggingface using token which will allow this notebook to be able to upload files into your huggingface account. You can create/find huggingface token at https://huggingface.co/settings/tokens. This token will need to be inputed when we run `login()` below."
   ]
  },
  {
   "cell_type": "code",
   "execution_count": 1,
   "metadata": {},
   "outputs": [],
   "source": [
    "from huggingface_hub import login"
   ]
  },
  {
   "cell_type": "code",
   "execution_count": 2,
   "metadata": {},
   "outputs": [
    {
     "data": {
      "application/vnd.jupyter.widget-view+json": {
       "model_id": "8021aaa0f9f3476f8938a48ffb821e34",
       "version_major": 2,
       "version_minor": 0
      },
      "text/plain": [
       "VBox(children=(HTML(value='<center> <img\\nsrc=https://huggingface.co/front/assets/huggingface_logo-noborder.sv…"
      ]
     },
     "metadata": {},
     "output_type": "display_data"
    }
   ],
   "source": [
    "login()\n"
   ]
  },
  {
   "cell_type": "code",
   "execution_count": 12,
   "metadata": {
    "colab": {
     "base_uri": "https://localhost:8080/",
     "height": 162,
     "referenced_widgets": [
      "faedbb1b2bda4fdaaae073b2328b6662",
      "baea74c5772849778d1d06bb3edc275e",
      "cbb8e24978294ea0a9ee3e3e637d4c6f",
      "65ac3f1c152b41c18ef1f95f493b227e",
      "7617909aea4e45429c7e03f7cca25fd7",
      "7696f605258941e291fc4b347e796dc3",
      "d37f751babc649bfac92a80d2fef5b87",
      "a0c9daf9dad84703bd57e30b02b6c362",
      "cb7ec37a494344278e5dcede2409fec8",
      "0ebe55af4f694e12997eba593291c69d",
      "fcf67a330d7f4c03815abb9b50664256",
      "7d958616100c462b81ba2441e6c9cd16",
      "bc07f5e200c144f0bfc6be1dd67501f6",
      "fd40b11f0ba942ae97d4e2ce376b1e3b",
      "a965c6a74a4d4a17bef4ab2e036abaff",
      "913b9c9d13394149a5ac2b25714e53ca",
      "2792bfde7dec44b7863fb34dcfd76003",
      "691c9c940faa4d1c8458cd69d4a6314a",
      "dbc54c1695d149c6ae11fbe20f8652df",
      "67c06224c2ab4d299279893dfd9f50c9",
      "4bcce309087643a1982cbf898736e842",
      "4a82c737e0984deb9e3bffe62e94d60b",
      "6d2d1b203e3344d88f5134441ec1b567",
      "1d1efa33832e45c98a2c7bcb5e1164eb",
      "f12dfb7c74124ddb8c5339756ed5d14c",
      "0d65dee0591c421eaade75278e889de4",
      "f19dfe5c1b2848de96a3d3601916cc7c",
      "6dc937b73756450daec9b3c59e8332b1",
      "754e0c2a4ecb4de895df76e10cde16ef",
      "1c408b269a914663bd8c6c00d3b0ed4a",
      "64d2d28c8d294e518d75900b5193cbab",
      "0587c605a85b4502936fd1fec25630a7"
     ]
    },
    "id": "7byeWx0bEGL5",
    "outputId": "b86cc4bb-44c9-4018-8f14-58b9fd598649"
   },
   "outputs": [],
   "source": [
    "from huggingface_sb3 import load_from_hub, package_to_hub, push_to_hub\n",
    "#from huggingface_hub import notebook_login # To log to our Hugging Face account to be able to upload models to the Hub.\n",
    "\n",
    "#notebook_login()\n",
    "#!git config --global credential.helper store"
   ]
  },
  {
   "cell_type": "markdown",
   "metadata": {},
   "source": [
    "**IMPORTANT**\n",
    "Some users have reported facing following error while running the `package_to_hub` upload function. \n",
    "\n",
    "```\n",
    "\"Token is required (write-access action) but no token found. You need to provide a token or be logged in to Hugging Face with `huggingface-cli login` or `huggingface_hub.login`. See https://huggingface.co/settings/tokens.\"\n",
    "```\n",
    "\n",
    "In such a case the following command will help you over come the issue\n",
    "\n",
    "```\n",
    "import huggingface_hub\n",
    "\n",
    "huggingface_hub.login(token= <YOUR_HF_TOKEN>,\n",
    "                     write_permission = True,\n",
    "                    add_to_git_credential = True)\n",
    "\t\t\t\t\t\n",
    "```\n",
    "\n",
    "Another alternative is to use following command from command shell where the `venv` or `conda` environment for this repository has been activated and then follow the instructions to set the HuggingFace token.\n",
    "\n",
    "```\n",
    "huggingface-cli login\n",
    "\n",
    "```"
   ]
  },
  {
   "cell_type": "code",
   "execution_count": 13,
   "metadata": {
    "colab": {
     "base_uri": "https://localhost:8080/",
     "height": 446,
     "referenced_widgets": [
      "8c6d30bc5ada4f6a989ec5cd06a152a3",
      "8cdda61684e34019af451e5e8d0aba5d",
      "67b07c3edb5a41e7adf557a320cd594f",
      "f5dc0ad331fa4d7f80d8b608b60c9e44",
      "f36e66d04b7c48709ae886e78601eaf0",
      "f0e2ae53f45d4f61a28092303f8c2368",
      "ff486779d1754ada97cd7ceb16389967",
      "3eed6282686743aa88d26c7415670198",
      "927c65b5f12340afb35c073a25854efb",
      "18b620a0db8e43db8674d0b7899ea788",
      "ab566bdbbd564393a5355afb61470a2a",
      "391f473a1d3e4e2fbb95a89015e5f7bf",
      "de95f370a2644d79a1b18692393daed9",
      "fd7a614d07bd4c629f419965961730f8",
      "0e4046a1ee004d09a5de6fe25359df9e",
      "8d9c72cd5fba4b359595f609918dd618",
      "c32973a22ccd4f6bb4e54a47a1171065",
      "fca263ee57744f4d8d451715904d9790",
      "7688f0b367484ab8b3e4e7359a5642d5",
      "06ada10b2c264218896da24f6857fecc",
      "4e7672f426674a32adcd749b24d45c6d",
      "065fa85413064f60a8a28894ec3fa759",
      "97a1ba6ceea74b89b6a482d629d8881c",
      "35560bdfb97343759e8b194f343e7377",
      "e253b23702bb498ca25ce8d54a33e795",
      "311ee09963c646f8866fed7251954c10",
      "e0d645e8ccd3452481e7676bf34b06f1",
      "415cbfa6c36d46bc9f269e760c03acb1",
      "3e85b50b62244209af90462431fc32d8",
      "67878ea260a544baa780e44da6616bea",
      "b25775e2ed9142b79e16556dfa8e44b7",
      "2e4be5aa34a84297935fc95f3253b1ff",
      "c0f5db8683a54051ba8e09c18b937735"
     ]
    },
    "id": "vUfaMkSAD4L9",
    "outputId": "49598cd9-b970-46a6-d5f8-e888960a54c4"
   },
   "outputs": [
    {
     "name": "stdout",
     "output_type": "stream",
     "text": [
      "\u001b[38;5;4mℹ This function will save, evaluate, generate a video of your agent,\n",
      "create a model card and push everything to the hub. It might take up to 1min.\n",
      "This is a work in progress: if you encounter a bug, please open an issue.\u001b[0m\n"
     ]
    },
    {
     "name": "stderr",
     "output_type": "stream",
     "text": [
      "/Users/ashis/venv-directory/venv-p310-RL-workspace/lib/python3.10/site-packages/stable_baselines3/common/evaluation.py:67: UserWarning: Evaluation environment is not wrapped with a ``Monitor`` wrapper. This may result in reporting modified episode lengths and rewards, if other wrappers happen to modify these. Consider wrapping environment first with ``Monitor`` wrapper.\n",
      "  warnings.warn(\n"
     ]
    },
    {
     "name": "stdout",
     "output_type": "stream",
     "text": [
      "Saving video to /var/folders/12/sb6k1cdx1dn2gkn_2l4ty8dr0000gn/T/tmpsq0dj9j3/-step-0-to-step-1000.mp4\n",
      "Moviepy - Building video /var/folders/12/sb6k1cdx1dn2gkn_2l4ty8dr0000gn/T/tmpsq0dj9j3/-step-0-to-step-1000.mp4.\n",
      "Moviepy - Writing video /var/folders/12/sb6k1cdx1dn2gkn_2l4ty8dr0000gn/T/tmpsq0dj9j3/-step-0-to-step-1000.mp4\n",
      "\n"
     ]
    },
    {
     "name": "stderr",
     "output_type": "stream",
     "text": [
      "                                                                \r"
     ]
    },
    {
     "name": "stdout",
     "output_type": "stream",
     "text": [
      "Moviepy - Done !\n",
      "Moviepy - video ready /var/folders/12/sb6k1cdx1dn2gkn_2l4ty8dr0000gn/T/tmpsq0dj9j3/-step-0-to-step-1000.mp4\n"
     ]
    },
    {
     "name": "stderr",
     "output_type": "stream",
     "text": [
      "ffmpeg version 7.0.2 Copyright (c) 2000-2024 the FFmpeg developers\n",
      "  built with Apple clang version 15.0.0 (clang-1500.3.9.4)\n",
      "  configuration: --prefix=/usr/local/Cellar/ffmpeg/7.0.2 --enable-shared --enable-pthreads --enable-version3 --cc=clang --host-cflags= --host-ldflags='-Wl,-ld_classic' --enable-ffplay --enable-gnutls --enable-gpl --enable-libaom --enable-libaribb24 --enable-libbluray --enable-libdav1d --enable-libharfbuzz --enable-libjxl --enable-libmp3lame --enable-libopus --enable-librav1e --enable-librist --enable-librubberband --enable-libsnappy --enable-libsrt --enable-libssh --enable-libsvtav1 --enable-libtesseract --enable-libtheora --enable-libvidstab --enable-libvmaf --enable-libvorbis --enable-libvpx --enable-libwebp --enable-libx264 --enable-libx265 --enable-libxml2 --enable-libxvid --enable-lzma --enable-libfontconfig --enable-libfreetype --enable-frei0r --enable-libass --enable-libopencore-amrnb --enable-libopencore-amrwb --enable-libopenjpeg --enable-libspeex --enable-libsoxr --enable-libzmq --enable-libzimg --disable-libjack --disable-indev=jack --enable-videotoolbox --enable-audiotoolbox\n",
      "  libavutil      59.  8.100 / 59.  8.100\n",
      "  libavcodec     61.  3.100 / 61.  3.100\n",
      "  libavformat    61.  1.100 / 61.  1.100\n",
      "  libavdevice    61.  1.100 / 61.  1.100\n",
      "  libavfilter    10.  1.100 / 10.  1.100\n",
      "  libswscale      8.  1.100 /  8.  1.100\n",
      "  libswresample   5.  1.100 /  5.  1.100\n",
      "  libpostproc    58.  1.100 / 58.  1.100\n",
      "Input #0, mov,mp4,m4a,3gp,3g2,mj2, from '/var/folders/12/sb6k1cdx1dn2gkn_2l4ty8dr0000gn/T/tmpsq0dj9j3/-step-0-to-step-1000.mp4':\n",
      "  Metadata:\n",
      "    major_brand     : isom\n",
      "    minor_version   : 512\n",
      "    compatible_brands: isomiso2avc1mp41\n",
      "    encoder         : Lavf58.29.100\n",
      "  Duration: 00:00:20.02, start: 0.000000, bitrate: 74 kb/s\n",
      "  Stream #0:0[0x1](und): Video: h264 (High) (avc1 / 0x31637661), yuv420p(progressive), 600x400, 69 kb/s, 50 fps, 50 tbr, 12800 tbn (default)\n",
      "      Metadata:\n",
      "        handler_name    : VideoHandler\n",
      "        vendor_id       : [0][0][0][0]\n",
      "Stream mapping:\n",
      "  Stream #0:0 -> #0:0 (h264 (native) -> h264 (libx264))\n",
      "Press [q] to stop, [?] for help\n",
      "[libx264 @ 0x7fd199920500] using cpu capabilities: MMX2 SSE2Fast SSSE3 SSE4.2 AVX FMA3 BMI2 AVX2\n",
      "[libx264 @ 0x7fd199920500] profile High, level 3.1, 4:2:0, 8-bit\n",
      "[libx264 @ 0x7fd199920500] 264 - core 164 r3108 31e19f9 - H.264/MPEG-4 AVC codec - Copyleft 2003-2023 - http://www.videolan.org/x264.html - options: cabac=1 ref=3 deblock=1:0:0 analyse=0x3:0x113 me=hex subme=7 psy=1 psy_rd=1.00:0.00 mixed_ref=1 me_range=16 chroma_me=1 trellis=1 8x8dct=1 cqm=0 deadzone=21,11 fast_pskip=1 chroma_qp_offset=-2 threads=12 lookahead_threads=2 sliced_threads=0 nr=0 decimate=1 interlaced=0 bluray_compat=0 constrained_intra=0 bframes=3 b_pyramid=2 b_adapt=1 b_bias=0 direct=1 weightb=1 open_gop=0 weightp=2 keyint=250 keyint_min=25 scenecut=40 intra_refresh=0 rc_lookahead=40 rc=crf mbtree=1 crf=23.0 qcomp=0.60 qpmin=0 qpmax=69 qpstep=4 ip_ratio=1.40 aq=1:1.00\n",
      "Output #0, mp4, to '/var/folders/12/sb6k1cdx1dn2gkn_2l4ty8dr0000gn/T/tmpd64t_a5x/replay.mp4':\n",
      "  Metadata:\n",
      "    major_brand     : isom\n",
      "    minor_version   : 512\n",
      "    compatible_brands: isomiso2avc1mp41\n",
      "    encoder         : Lavf61.1.100\n",
      "  Stream #0:0(und): Video: h264 (avc1 / 0x31637661), yuv420p(progressive), 600x400, q=2-31, 50 fps, 12800 tbn (default)\n",
      "      Metadata:\n",
      "        handler_name    : VideoHandler\n",
      "        vendor_id       : [0][0][0][0]\n",
      "        encoder         : Lavc61.3.100 libx264\n",
      "      Side data:\n",
      "        cpb: bitrate max/min/avg: 0/0/0 buffer size: 0 vbv_delay: N/A\n",
      "[out#0/mp4 @ 0x7fd199a04200] video:164KiB audio:0KiB subtitle:0KiB other streams:0KiB global headers:0KiB muxing overhead: 7.619586%\n",
      "frame= 1001 fps=0.0 q=-1.0 Lsize=     177KiB time=00:00:19.98 bitrate=  72.4kbits/s speed=26.8x    \n",
      "[libx264 @ 0x7fd199920500] frame I:5     Avg QP:10.94  size:  1779\n",
      "[libx264 @ 0x7fd199920500] frame P:258   Avg QP:23.09  size:   226\n",
      "[libx264 @ 0x7fd199920500] frame B:738   Avg QP:25.61  size:   136\n",
      "[libx264 @ 0x7fd199920500] consecutive B-frames:  0.6%  2.4%  2.7% 94.3%\n",
      "[libx264 @ 0x7fd199920500] mb I  I16..4: 93.2%  1.0%  5.8%\n",
      "[libx264 @ 0x7fd199920500] mb P  I16..4:  0.1%  0.4%  0.1%  P16..4:  1.7%  0.5%  0.2%  0.0%  0.0%    skip:97.0%\n",
      "[libx264 @ 0x7fd199920500] mb B  I16..4:  0.0%  0.0%  0.1%  B16..8:  2.7%  0.2%  0.0%  direct: 0.1%  skip:96.7%  L0:54.8% L1:44.3% BI: 0.8%\n",
      "[libx264 @ 0x7fd199920500] 8x8 transform intra:17.3% inter:18.5%\n",
      "[libx264 @ 0x7fd199920500] coded y,uvDC,uvAC intra: 7.9% 13.0% 12.0% inter: 0.2% 0.3% 0.3%\n",
      "[libx264 @ 0x7fd199920500] i16 v,h,dc,p: 88%  8%  4%  0%\n",
      "[libx264 @ 0x7fd199920500] i8 v,h,dc,ddl,ddr,vr,hd,vl,hu:  3%  3% 94%  0%  0%  0%  0%  0%  0%\n",
      "[libx264 @ 0x7fd199920500] i4 v,h,dc,ddl,ddr,vr,hd,vl,hu: 10% 12% 67%  2%  3%  1%  2%  1%  2%\n",
      "[libx264 @ 0x7fd199920500] i8c dc,h,v,p: 91%  5%  4%  0%\n",
      "[libx264 @ 0x7fd199920500] Weighted P-Frames: Y:0.0% UV:0.0%\n",
      "[libx264 @ 0x7fd199920500] ref P L0: 57.7%  1.9% 24.9% 15.5%\n",
      "[libx264 @ 0x7fd199920500] ref B L0: 68.5% 27.0%  4.5%\n",
      "[libx264 @ 0x7fd199920500] ref B L1: 92.8%  7.2%\n",
      "[libx264 @ 0x7fd199920500] kb/s:66.89\n"
     ]
    },
    {
     "name": "stdout",
     "output_type": "stream",
     "text": [
      "\u001b[38;5;4mℹ Pushing repo ashiskb/dqn-LunarLander-v2 to the Hugging Face Hub\u001b[0m\n"
     ]
    },
    {
     "data": {
      "application/vnd.jupyter.widget-view+json": {
       "model_id": "20ae810e181d443792eadc18c77828c9",
       "version_major": 2,
       "version_minor": 0
      },
      "text/plain": [
       "policy.optimizer.pth:   0%|          | 0.00/45.2k [00:00<?, ?B/s]"
      ]
     },
     "metadata": {},
     "output_type": "display_data"
    },
    {
     "data": {
      "application/vnd.jupyter.widget-view+json": {
       "model_id": "f7e296b7ec2b4e30844be3605d14a6af",
       "version_major": 2,
       "version_minor": 0
      },
      "text/plain": [
       "dqn-LunarLander-v2.zip:   0%|          | 0.00/107k [00:00<?, ?B/s]"
      ]
     },
     "metadata": {},
     "output_type": "display_data"
    },
    {
     "data": {
      "application/vnd.jupyter.widget-view+json": {
       "model_id": "58185952cb7a49f78af7ac2edfe71ddd",
       "version_major": 2,
       "version_minor": 0
      },
      "text/plain": [
       "Upload 4 LFS files:   0%|          | 0/4 [00:00<?, ?it/s]"
      ]
     },
     "metadata": {},
     "output_type": "display_data"
    },
    {
     "data": {
      "application/vnd.jupyter.widget-view+json": {
       "model_id": "697346bba42447fa9af93ae78d3dcc2b",
       "version_major": 2,
       "version_minor": 0
      },
      "text/plain": [
       "policy.pth:   0%|          | 0.00/44.3k [00:00<?, ?B/s]"
      ]
     },
     "metadata": {},
     "output_type": "display_data"
    },
    {
     "data": {
      "application/vnd.jupyter.widget-view+json": {
       "model_id": "9769d49a60544dd9be7d3ae07425ba3a",
       "version_major": 2,
       "version_minor": 0
      },
      "text/plain": [
       "pytorch_variables.pth:   0%|          | 0.00/864 [00:00<?, ?B/s]"
      ]
     },
     "metadata": {},
     "output_type": "display_data"
    },
    {
     "name": "stdout",
     "output_type": "stream",
     "text": [
      "\u001b[38;5;4mℹ Your model is pushed to the Hub. You can view your model here:\n",
      "https://huggingface.co/ashiskb/dqn-LunarLander-v2/tree/main/\u001b[0m\n"
     ]
    },
    {
     "data": {
      "text/plain": [
       "CommitInfo(commit_url='https://huggingface.co/ashiskb/dqn-LunarLander-v2/commit/7a0d2ff861fa154bbcb8ec9cef0038dd47bf99d8', commit_message='Push to Hub', commit_description='', oid='7a0d2ff861fa154bbcb8ec9cef0038dd47bf99d8', pr_url=None, repo_url=RepoUrl('https://huggingface.co/ashiskb/dqn-LunarLander-v2', endpoint='https://huggingface.co', repo_type='model', repo_id='ashiskb/dqn-LunarLander-v2'), pr_revision=None, pr_num=None)"
      ]
     },
     "execution_count": 13,
     "metadata": {},
     "output_type": "execute_result"
    }
   ],
   "source": [
    "eval_env = gym.make(\"LunarLander-v2\", render_mode='rgb_array')\n",
    "\n",
    "# method save, evaluate, generate a model card and record a replay video of your agent before pushing the repo to the hub\n",
    "\n",
    "# Please note repo_id is of the form <huggingface_id>/<name of repo>\n",
    "# you will need to change this to \"<your_huggingface_id>/dqn-LunarLander-v2\"\n",
    "\n",
    "package_to_hub(model=model, # Our trained model\n",
    "               model_name=\"dqn-LunarLander-v2\", # The name of our trained model\n",
    "               model_architecture=\"DQN\", # The model architecture we used: in our case PPO\n",
    "               env_id=\"LunarLander-v2\", # Name of the environment\n",
    "               eval_env=eval_env, # Evaluation Environment\n",
    "               repo_id=\"ashiskb/dqn-LunarLander-v2\", # id of the model repository from the Hugging Face Hub (repo_id = {organization}/{repo_name} for instance ashiskb/dqn-LunarLander-v2\n",
    "               commit_message=\"Push to Hub\")"
   ]
  },
  {
   "cell_type": "markdown",
   "metadata": {
    "id": "ShY8CHnLIMJg"
   },
   "source": [
    "## Checking the Results on Huggingface\n",
    "\n",
    "After successful upload, you will see a message at the end of above cell output giving you a link where you can view the model. **It will have a pattern like `https://huggingface.co/<yourusername>/dqn-LunarLander-v2/`**\n",
    "\n",
    "Please click on this link to access the trained agent. You can also share this link with others to show the result of training. Share the url without the ending paths \"tree/main\" so that the link takes them to Model Card tab where they can see the animation. e.g. in my case it will be:<br/>\n",
    "`https://huggingface.co/ashiskb/dqn-LunarLander-v2/`<br/>\n",
    "instead of<br/>\n",
    "`https://huggingface.co/ashiskb/dqn-LunarLander-v2/tree/main/`\n",
    "\n",
    "\n"
   ]
  },
  {
   "cell_type": "markdown",
   "metadata": {},
   "source": []
  }
 ],
 "metadata": {
  "kernelspec": {
   "display_name": "Python 3 (ipykernel)",
   "language": "python",
   "name": "python3"
  },
  "language_info": {
   "codemirror_mode": {
    "name": "ipython",
    "version": 3
   },
   "file_extension": ".py",
   "mimetype": "text/x-python",
   "name": "python",
   "nbconvert_exporter": "python",
   "pygments_lexer": "ipython3",
   "version": "3.10.15"
  },
  "vscode": {
   "interpreter": {
    "hash": "3201c96db5836b171d01fee72ea1be894646622d4b41771abf25c98b548a611d"
   }
  },
  "widgets": {
   "application/vnd.jupyter.widget-state+json": {
    "0587c605a85b4502936fd1fec25630a7": {
     "model_module": "@jupyter-widgets/controls",
     "model_module_version": "1.5.0",
     "model_name": "DescriptionStyleModel",
     "state": {
      "_model_module": "@jupyter-widgets/controls",
      "_model_module_version": "1.5.0",
      "_model_name": "DescriptionStyleModel",
      "_view_count": null,
      "_view_module": "@jupyter-widgets/base",
      "_view_module_version": "1.2.0",
      "_view_name": "StyleView",
      "description_width": ""
     }
    },
    "060c33f79563429983f38920ea56501d": {
     "model_module": "@jupyter-widgets/base",
     "model_module_version": "1.2.0",
     "model_name": "LayoutModel",
     "state": {
      "_model_module": "@jupyter-widgets/base",
      "_model_module_version": "1.2.0",
      "_model_name": "LayoutModel",
      "_view_count": null,
      "_view_module": "@jupyter-widgets/base",
      "_view_module_version": "1.2.0",
      "_view_name": "LayoutView",
      "align_content": null,
      "align_items": null,
      "align_self": null,
      "border": null,
      "bottom": null,
      "display": null,
      "flex": null,
      "flex_flow": null,
      "grid_area": null,
      "grid_auto_columns": null,
      "grid_auto_flow": null,
      "grid_auto_rows": null,
      "grid_column": null,
      "grid_gap": null,
      "grid_row": null,
      "grid_template_areas": null,
      "grid_template_columns": null,
      "grid_template_rows": null,
      "height": null,
      "justify_content": null,
      "justify_items": null,
      "left": null,
      "margin": null,
      "max_height": null,
      "max_width": null,
      "min_height": null,
      "min_width": null,
      "object_fit": null,
      "object_position": null,
      "order": null,
      "overflow": null,
      "overflow_x": null,
      "overflow_y": null,
      "padding": null,
      "right": null,
      "top": null,
      "visibility": null,
      "width": null
     }
    },
    "065fa85413064f60a8a28894ec3fa759": {
     "model_module": "@jupyter-widgets/controls",
     "model_module_version": "1.5.0",
     "model_name": "DescriptionStyleModel",
     "state": {
      "_model_module": "@jupyter-widgets/controls",
      "_model_module_version": "1.5.0",
      "_model_name": "DescriptionStyleModel",
      "_view_count": null,
      "_view_module": "@jupyter-widgets/base",
      "_view_module_version": "1.2.0",
      "_view_name": "StyleView",
      "description_width": ""
     }
    },
    "06ada10b2c264218896da24f6857fecc": {
     "model_module": "@jupyter-widgets/controls",
     "model_module_version": "1.5.0",
     "model_name": "ProgressStyleModel",
     "state": {
      "_model_module": "@jupyter-widgets/controls",
      "_model_module_version": "1.5.0",
      "_model_name": "ProgressStyleModel",
      "_view_count": null,
      "_view_module": "@jupyter-widgets/base",
      "_view_module_version": "1.2.0",
      "_view_name": "StyleView",
      "bar_color": null,
      "description_width": ""
     }
    },
    "0d65dee0591c421eaade75278e889de4": {
     "model_module": "@jupyter-widgets/controls",
     "model_module_version": "1.5.0",
     "model_name": "DescriptionStyleModel",
     "state": {
      "_model_module": "@jupyter-widgets/controls",
      "_model_module_version": "1.5.0",
      "_model_name": "DescriptionStyleModel",
      "_view_count": null,
      "_view_module": "@jupyter-widgets/base",
      "_view_module_version": "1.2.0",
      "_view_name": "StyleView",
      "description_width": ""
     }
    },
    "0e4046a1ee004d09a5de6fe25359df9e": {
     "model_module": "@jupyter-widgets/controls",
     "model_module_version": "1.5.0",
     "model_name": "HTMLModel",
     "state": {
      "_dom_classes": [],
      "_model_module": "@jupyter-widgets/controls",
      "_model_module_version": "1.5.0",
      "_model_name": "HTMLModel",
      "_view_count": null,
      "_view_module": "@jupyter-widgets/controls",
      "_view_module_version": "1.5.0",
      "_view_name": "HTMLView",
      "description": "",
      "description_tooltip": null,
      "layout": "IPY_MODEL_4e7672f426674a32adcd749b24d45c6d",
      "placeholder": "​",
      "style": "IPY_MODEL_065fa85413064f60a8a28894ec3fa759",
      "value": " 105k/105k [00:00&lt;00:00, 473kB/s]"
     }
    },
    "0ebe55af4f694e12997eba593291c69d": {
     "model_module": "@jupyter-widgets/base",
     "model_module_version": "1.2.0",
     "model_name": "LayoutModel",
     "state": {
      "_model_module": "@jupyter-widgets/base",
      "_model_module_version": "1.2.0",
      "_model_name": "LayoutModel",
      "_view_count": null,
      "_view_module": "@jupyter-widgets/base",
      "_view_module_version": "1.2.0",
      "_view_name": "LayoutView",
      "align_content": null,
      "align_items": null,
      "align_self": null,
      "border": null,
      "bottom": null,
      "display": null,
      "flex": null,
      "flex_flow": null,
      "grid_area": null,
      "grid_auto_columns": null,
      "grid_auto_flow": null,
      "grid_auto_rows": null,
      "grid_column": null,
      "grid_gap": null,
      "grid_row": null,
      "grid_template_areas": null,
      "grid_template_columns": null,
      "grid_template_rows": null,
      "height": null,
      "justify_content": null,
      "justify_items": null,
      "left": null,
      "margin": null,
      "max_height": null,
      "max_width": null,
      "min_height": null,
      "min_width": null,
      "object_fit": null,
      "object_position": null,
      "order": null,
      "overflow": null,
      "overflow_x": null,
      "overflow_y": null,
      "padding": null,
      "right": null,
      "top": null,
      "visibility": null,
      "width": null
     }
    },
    "1489b32e36794bb0ad04f8250cba921a": {
     "model_module": "@jupyter-widgets/output",
     "model_module_version": "1.0.0",
     "model_name": "OutputModel",
     "state": {
      "_dom_classes": [],
      "_model_module": "@jupyter-widgets/output",
      "_model_module_version": "1.0.0",
      "_model_name": "OutputModel",
      "_view_count": null,
      "_view_module": "@jupyter-widgets/output",
      "_view_module_version": "1.0.0",
      "_view_name": "OutputView",
      "layout": "IPY_MODEL_060c33f79563429983f38920ea56501d",
      "msg_id": "",
      "outputs": [
       {
        "data": {
         "text/html": "<pre style=\"white-space:pre;overflow-x:auto;line-height:normal;font-family:Menlo,'DejaVu Sans Mono',consolas,'Courier New',monospace\"><span style=\"color: #800080; text-decoration-color: #800080\"> 100%</span> <span style=\"color: #f92672; text-decoration-color: #f92672\">━━━━━━━━━━━━━━━━━━━━━━━━━━━━━━━━━━━━━━━━━━━━━━━━━━━━━━━━━━━╸</span> <span style=\"color: #008000; text-decoration-color: #008000\">99,970/100,000 </span> [ <span style=\"color: #808000; text-decoration-color: #808000\">0:02:27</span> &lt; <span style=\"color: #008080; text-decoration-color: #008080\">0:00:01</span> , <span style=\"color: #800000; text-decoration-color: #800000\">400 it/s</span> ]\n</pre>\n",
         "text/plain": "\u001b[35m 100%\u001b[0m \u001b[38;2;249;38;114m━━━━━━━━━━━━━━━━━━━━━━━━━━━━━━━━━━━━━━━━━━━━━━━━━━━━━━━━━━━\u001b[0m\u001b[38;2;249;38;114m╸\u001b[0m \u001b[32m99,970/100,000 \u001b[0m [ \u001b[33m0:02:27\u001b[0m < \u001b[36m0:00:01\u001b[0m , \u001b[31m400 it/s\u001b[0m ]\n"
        },
        "metadata": {},
        "output_type": "display_data"
       }
      ]
     }
    },
    "18b620a0db8e43db8674d0b7899ea788": {
     "model_module": "@jupyter-widgets/base",
     "model_module_version": "1.2.0",
     "model_name": "LayoutModel",
     "state": {
      "_model_module": "@jupyter-widgets/base",
      "_model_module_version": "1.2.0",
      "_model_name": "LayoutModel",
      "_view_count": null,
      "_view_module": "@jupyter-widgets/base",
      "_view_module_version": "1.2.0",
      "_view_name": "LayoutView",
      "align_content": null,
      "align_items": null,
      "align_self": null,
      "border": null,
      "bottom": null,
      "display": null,
      "flex": null,
      "flex_flow": null,
      "grid_area": null,
      "grid_auto_columns": null,
      "grid_auto_flow": null,
      "grid_auto_rows": null,
      "grid_column": null,
      "grid_gap": null,
      "grid_row": null,
      "grid_template_areas": null,
      "grid_template_columns": null,
      "grid_template_rows": null,
      "height": null,
      "justify_content": null,
      "justify_items": null,
      "left": null,
      "margin": null,
      "max_height": null,
      "max_width": null,
      "min_height": null,
      "min_width": null,
      "object_fit": null,
      "object_position": null,
      "order": null,
      "overflow": null,
      "overflow_x": null,
      "overflow_y": null,
      "padding": null,
      "right": null,
      "top": null,
      "visibility": null,
      "width": null
     }
    },
    "1c408b269a914663bd8c6c00d3b0ed4a": {
     "model_module": "@jupyter-widgets/controls",
     "model_module_version": "1.5.0",
     "model_name": "DescriptionStyleModel",
     "state": {
      "_model_module": "@jupyter-widgets/controls",
      "_model_module_version": "1.5.0",
      "_model_name": "DescriptionStyleModel",
      "_view_count": null,
      "_view_module": "@jupyter-widgets/base",
      "_view_module_version": "1.2.0",
      "_view_name": "StyleView",
      "description_width": ""
     }
    },
    "1d1efa33832e45c98a2c7bcb5e1164eb": {
     "model_module": "@jupyter-widgets/controls",
     "model_module_version": "1.5.0",
     "model_name": "LabelModel",
     "state": {
      "_dom_classes": [],
      "_model_module": "@jupyter-widgets/controls",
      "_model_module_version": "1.5.0",
      "_model_name": "LabelModel",
      "_view_count": null,
      "_view_module": "@jupyter-widgets/controls",
      "_view_module_version": "1.5.0",
      "_view_name": "LabelView",
      "description": "",
      "description_tooltip": null,
      "layout": "IPY_MODEL_64d2d28c8d294e518d75900b5193cbab",
      "placeholder": "​",
      "style": "IPY_MODEL_0587c605a85b4502936fd1fec25630a7",
      "value": "Login successful"
     }
    },
    "2792bfde7dec44b7863fb34dcfd76003": {
     "model_module": "@jupyter-widgets/controls",
     "model_module_version": "1.5.0",
     "model_name": "DescriptionStyleModel",
     "state": {
      "_model_module": "@jupyter-widgets/controls",
      "_model_module_version": "1.5.0",
      "_model_name": "DescriptionStyleModel",
      "_view_count": null,
      "_view_module": "@jupyter-widgets/base",
      "_view_module_version": "1.2.0",
      "_view_name": "StyleView",
      "description_width": ""
     }
    },
    "2e4be5aa34a84297935fc95f3253b1ff": {
     "model_module": "@jupyter-widgets/base",
     "model_module_version": "1.2.0",
     "model_name": "LayoutModel",
     "state": {
      "_model_module": "@jupyter-widgets/base",
      "_model_module_version": "1.2.0",
      "_model_name": "LayoutModel",
      "_view_count": null,
      "_view_module": "@jupyter-widgets/base",
      "_view_module_version": "1.2.0",
      "_view_name": "LayoutView",
      "align_content": null,
      "align_items": null,
      "align_self": null,
      "border": null,
      "bottom": null,
      "display": null,
      "flex": null,
      "flex_flow": null,
      "grid_area": null,
      "grid_auto_columns": null,
      "grid_auto_flow": null,
      "grid_auto_rows": null,
      "grid_column": null,
      "grid_gap": null,
      "grid_row": null,
      "grid_template_areas": null,
      "grid_template_columns": null,
      "grid_template_rows": null,
      "height": null,
      "justify_content": null,
      "justify_items": null,
      "left": null,
      "margin": null,
      "max_height": null,
      "max_width": null,
      "min_height": null,
      "min_width": null,
      "object_fit": null,
      "object_position": null,
      "order": null,
      "overflow": null,
      "overflow_x": null,
      "overflow_y": null,
      "padding": null,
      "right": null,
      "top": null,
      "visibility": null,
      "width": null
     }
    },
    "311ee09963c646f8866fed7251954c10": {
     "model_module": "@jupyter-widgets/controls",
     "model_module_version": "1.5.0",
     "model_name": "HTMLModel",
     "state": {
      "_dom_classes": [],
      "_model_module": "@jupyter-widgets/controls",
      "_model_module_version": "1.5.0",
      "_model_name": "HTMLModel",
      "_view_count": null,
      "_view_module": "@jupyter-widgets/controls",
      "_view_module_version": "1.5.0",
      "_view_name": "HTMLView",
      "description": "",
      "description_tooltip": null,
      "layout": "IPY_MODEL_2e4be5aa34a84297935fc95f3253b1ff",
      "placeholder": "​",
      "style": "IPY_MODEL_c0f5db8683a54051ba8e09c18b937735",
      "value": " 146k/146k [00:00&lt;00:00, 431kB/s]"
     }
    },
    "35560bdfb97343759e8b194f343e7377": {
     "model_module": "@jupyter-widgets/controls",
     "model_module_version": "1.5.0",
     "model_name": "HTMLModel",
     "state": {
      "_dom_classes": [],
      "_model_module": "@jupyter-widgets/controls",
      "_model_module_version": "1.5.0",
      "_model_name": "HTMLModel",
      "_view_count": null,
      "_view_module": "@jupyter-widgets/controls",
      "_view_module_version": "1.5.0",
      "_view_name": "HTMLView",
      "description": "",
      "description_tooltip": null,
      "layout": "IPY_MODEL_415cbfa6c36d46bc9f269e760c03acb1",
      "placeholder": "​",
      "style": "IPY_MODEL_3e85b50b62244209af90462431fc32d8",
      "value": "replay.mp4: 100%"
     }
    },
    "391f473a1d3e4e2fbb95a89015e5f7bf": {
     "model_module": "@jupyter-widgets/controls",
     "model_module_version": "1.5.0",
     "model_name": "HBoxModel",
     "state": {
      "_dom_classes": [],
      "_model_module": "@jupyter-widgets/controls",
      "_model_module_version": "1.5.0",
      "_model_name": "HBoxModel",
      "_view_count": null,
      "_view_module": "@jupyter-widgets/controls",
      "_view_module_version": "1.5.0",
      "_view_name": "HBoxView",
      "box_style": "",
      "children": [
       "IPY_MODEL_de95f370a2644d79a1b18692393daed9",
       "IPY_MODEL_fd7a614d07bd4c629f419965961730f8",
       "IPY_MODEL_0e4046a1ee004d09a5de6fe25359df9e"
      ],
      "layout": "IPY_MODEL_8d9c72cd5fba4b359595f609918dd618"
     }
    },
    "3e85b50b62244209af90462431fc32d8": {
     "model_module": "@jupyter-widgets/controls",
     "model_module_version": "1.5.0",
     "model_name": "DescriptionStyleModel",
     "state": {
      "_model_module": "@jupyter-widgets/controls",
      "_model_module_version": "1.5.0",
      "_model_name": "DescriptionStyleModel",
      "_view_count": null,
      "_view_module": "@jupyter-widgets/base",
      "_view_module_version": "1.2.0",
      "_view_name": "StyleView",
      "description_width": ""
     }
    },
    "3eed6282686743aa88d26c7415670198": {
     "model_module": "@jupyter-widgets/base",
     "model_module_version": "1.2.0",
     "model_name": "LayoutModel",
     "state": {
      "_model_module": "@jupyter-widgets/base",
      "_model_module_version": "1.2.0",
      "_model_name": "LayoutModel",
      "_view_count": null,
      "_view_module": "@jupyter-widgets/base",
      "_view_module_version": "1.2.0",
      "_view_name": "LayoutView",
      "align_content": null,
      "align_items": null,
      "align_self": null,
      "border": null,
      "bottom": null,
      "display": null,
      "flex": null,
      "flex_flow": null,
      "grid_area": null,
      "grid_auto_columns": null,
      "grid_auto_flow": null,
      "grid_auto_rows": null,
      "grid_column": null,
      "grid_gap": null,
      "grid_row": null,
      "grid_template_areas": null,
      "grid_template_columns": null,
      "grid_template_rows": null,
      "height": null,
      "justify_content": null,
      "justify_items": null,
      "left": null,
      "margin": null,
      "max_height": null,
      "max_width": null,
      "min_height": null,
      "min_width": null,
      "object_fit": null,
      "object_position": null,
      "order": null,
      "overflow": null,
      "overflow_x": null,
      "overflow_y": null,
      "padding": null,
      "right": null,
      "top": null,
      "visibility": null,
      "width": null
     }
    },
    "415cbfa6c36d46bc9f269e760c03acb1": {
     "model_module": "@jupyter-widgets/base",
     "model_module_version": "1.2.0",
     "model_name": "LayoutModel",
     "state": {
      "_model_module": "@jupyter-widgets/base",
      "_model_module_version": "1.2.0",
      "_model_name": "LayoutModel",
      "_view_count": null,
      "_view_module": "@jupyter-widgets/base",
      "_view_module_version": "1.2.0",
      "_view_name": "LayoutView",
      "align_content": null,
      "align_items": null,
      "align_self": null,
      "border": null,
      "bottom": null,
      "display": null,
      "flex": null,
      "flex_flow": null,
      "grid_area": null,
      "grid_auto_columns": null,
      "grid_auto_flow": null,
      "grid_auto_rows": null,
      "grid_column": null,
      "grid_gap": null,
      "grid_row": null,
      "grid_template_areas": null,
      "grid_template_columns": null,
      "grid_template_rows": null,
      "height": null,
      "justify_content": null,
      "justify_items": null,
      "left": null,
      "margin": null,
      "max_height": null,
      "max_width": null,
      "min_height": null,
      "min_width": null,
      "object_fit": null,
      "object_position": null,
      "order": null,
      "overflow": null,
      "overflow_x": null,
      "overflow_y": null,
      "padding": null,
      "right": null,
      "top": null,
      "visibility": null,
      "width": null
     }
    },
    "4a82c737e0984deb9e3bffe62e94d60b": {
     "model_module": "@jupyter-widgets/controls",
     "model_module_version": "1.5.0",
     "model_name": "LabelModel",
     "state": {
      "_dom_classes": [],
      "_model_module": "@jupyter-widgets/controls",
      "_model_module_version": "1.5.0",
      "_model_name": "LabelModel",
      "_view_count": null,
      "_view_module": "@jupyter-widgets/controls",
      "_view_module_version": "1.5.0",
      "_view_name": "LabelView",
      "description": "",
      "description_tooltip": null,
      "layout": "IPY_MODEL_f19dfe5c1b2848de96a3d3601916cc7c",
      "placeholder": "​",
      "style": "IPY_MODEL_6dc937b73756450daec9b3c59e8332b1",
      "value": "Your token has been saved in your configured git credential helpers (store)."
     }
    },
    "4bcce309087643a1982cbf898736e842": {
     "model_module": "@jupyter-widgets/controls",
     "model_module_version": "1.5.0",
     "model_name": "LabelModel",
     "state": {
      "_dom_classes": [],
      "_model_module": "@jupyter-widgets/controls",
      "_model_module_version": "1.5.0",
      "_model_name": "LabelModel",
      "_view_count": null,
      "_view_module": "@jupyter-widgets/controls",
      "_view_module_version": "1.5.0",
      "_view_name": "LabelView",
      "description": "",
      "description_tooltip": null,
      "layout": "IPY_MODEL_f12dfb7c74124ddb8c5339756ed5d14c",
      "placeholder": "​",
      "style": "IPY_MODEL_0d65dee0591c421eaade75278e889de4",
      "value": "Token is valid (permission: write)."
     }
    },
    "4e7672f426674a32adcd749b24d45c6d": {
     "model_module": "@jupyter-widgets/base",
     "model_module_version": "1.2.0",
     "model_name": "LayoutModel",
     "state": {
      "_model_module": "@jupyter-widgets/base",
      "_model_module_version": "1.2.0",
      "_model_name": "LayoutModel",
      "_view_count": null,
      "_view_module": "@jupyter-widgets/base",
      "_view_module_version": "1.2.0",
      "_view_name": "LayoutView",
      "align_content": null,
      "align_items": null,
      "align_self": null,
      "border": null,
      "bottom": null,
      "display": null,
      "flex": null,
      "flex_flow": null,
      "grid_area": null,
      "grid_auto_columns": null,
      "grid_auto_flow": null,
      "grid_auto_rows": null,
      "grid_column": null,
      "grid_gap": null,
      "grid_row": null,
      "grid_template_areas": null,
      "grid_template_columns": null,
      "grid_template_rows": null,
      "height": null,
      "justify_content": null,
      "justify_items": null,
      "left": null,
      "margin": null,
      "max_height": null,
      "max_width": null,
      "min_height": null,
      "min_width": null,
      "object_fit": null,
      "object_position": null,
      "order": null,
      "overflow": null,
      "overflow_x": null,
      "overflow_y": null,
      "padding": null,
      "right": null,
      "top": null,
      "visibility": null,
      "width": null
     }
    },
    "64d2d28c8d294e518d75900b5193cbab": {
     "model_module": "@jupyter-widgets/base",
     "model_module_version": "1.2.0",
     "model_name": "LayoutModel",
     "state": {
      "_model_module": "@jupyter-widgets/base",
      "_model_module_version": "1.2.0",
      "_model_name": "LayoutModel",
      "_view_count": null,
      "_view_module": "@jupyter-widgets/base",
      "_view_module_version": "1.2.0",
      "_view_name": "LayoutView",
      "align_content": null,
      "align_items": null,
      "align_self": null,
      "border": null,
      "bottom": null,
      "display": null,
      "flex": null,
      "flex_flow": null,
      "grid_area": null,
      "grid_auto_columns": null,
      "grid_auto_flow": null,
      "grid_auto_rows": null,
      "grid_column": null,
      "grid_gap": null,
      "grid_row": null,
      "grid_template_areas": null,
      "grid_template_columns": null,
      "grid_template_rows": null,
      "height": null,
      "justify_content": null,
      "justify_items": null,
      "left": null,
      "margin": null,
      "max_height": null,
      "max_width": null,
      "min_height": null,
      "min_width": null,
      "object_fit": null,
      "object_position": null,
      "order": null,
      "overflow": null,
      "overflow_x": null,
      "overflow_y": null,
      "padding": null,
      "right": null,
      "top": null,
      "visibility": null,
      "width": null
     }
    },
    "65ac3f1c152b41c18ef1f95f493b227e": {
     "model_module": "@jupyter-widgets/controls",
     "model_module_version": "1.5.0",
     "model_name": "CheckboxModel",
     "state": {
      "_dom_classes": [],
      "_model_module": "@jupyter-widgets/controls",
      "_model_module_version": "1.5.0",
      "_model_name": "CheckboxModel",
      "_view_count": null,
      "_view_module": "@jupyter-widgets/controls",
      "_view_module_version": "1.5.0",
      "_view_name": "CheckboxView",
      "description": "Add token as git credential?",
      "description_tooltip": null,
      "disabled": false,
      "indent": true,
      "layout": "IPY_MODEL_7d958616100c462b81ba2441e6c9cd16",
      "style": "IPY_MODEL_bc07f5e200c144f0bfc6be1dd67501f6",
      "value": true
     }
    },
    "67878ea260a544baa780e44da6616bea": {
     "model_module": "@jupyter-widgets/base",
     "model_module_version": "1.2.0",
     "model_name": "LayoutModel",
     "state": {
      "_model_module": "@jupyter-widgets/base",
      "_model_module_version": "1.2.0",
      "_model_name": "LayoutModel",
      "_view_count": null,
      "_view_module": "@jupyter-widgets/base",
      "_view_module_version": "1.2.0",
      "_view_name": "LayoutView",
      "align_content": null,
      "align_items": null,
      "align_self": null,
      "border": null,
      "bottom": null,
      "display": null,
      "flex": null,
      "flex_flow": null,
      "grid_area": null,
      "grid_auto_columns": null,
      "grid_auto_flow": null,
      "grid_auto_rows": null,
      "grid_column": null,
      "grid_gap": null,
      "grid_row": null,
      "grid_template_areas": null,
      "grid_template_columns": null,
      "grid_template_rows": null,
      "height": null,
      "justify_content": null,
      "justify_items": null,
      "left": null,
      "margin": null,
      "max_height": null,
      "max_width": null,
      "min_height": null,
      "min_width": null,
      "object_fit": null,
      "object_position": null,
      "order": null,
      "overflow": null,
      "overflow_x": null,
      "overflow_y": null,
      "padding": null,
      "right": null,
      "top": null,
      "visibility": null,
      "width": null
     }
    },
    "67b07c3edb5a41e7adf557a320cd594f": {
     "model_module": "@jupyter-widgets/controls",
     "model_module_version": "1.5.0",
     "model_name": "FloatProgressModel",
     "state": {
      "_dom_classes": [],
      "_model_module": "@jupyter-widgets/controls",
      "_model_module_version": "1.5.0",
      "_model_name": "FloatProgressModel",
      "_view_count": null,
      "_view_module": "@jupyter-widgets/controls",
      "_view_module_version": "1.5.0",
      "_view_name": "ProgressView",
      "bar_style": "success",
      "description": "",
      "description_tooltip": null,
      "layout": "IPY_MODEL_3eed6282686743aa88d26c7415670198",
      "max": 2,
      "min": 0,
      "orientation": "horizontal",
      "style": "IPY_MODEL_927c65b5f12340afb35c073a25854efb",
      "value": 2
     }
    },
    "67c06224c2ab4d299279893dfd9f50c9": {
     "model_module": "@jupyter-widgets/controls",
     "model_module_version": "1.5.0",
     "model_name": "DescriptionStyleModel",
     "state": {
      "_model_module": "@jupyter-widgets/controls",
      "_model_module_version": "1.5.0",
      "_model_name": "DescriptionStyleModel",
      "_view_count": null,
      "_view_module": "@jupyter-widgets/base",
      "_view_module_version": "1.2.0",
      "_view_name": "StyleView",
      "description_width": ""
     }
    },
    "691c9c940faa4d1c8458cd69d4a6314a": {
     "model_module": "@jupyter-widgets/controls",
     "model_module_version": "1.5.0",
     "model_name": "LabelModel",
     "state": {
      "_dom_classes": [],
      "_model_module": "@jupyter-widgets/controls",
      "_model_module_version": "1.5.0",
      "_model_name": "LabelModel",
      "_view_count": null,
      "_view_module": "@jupyter-widgets/controls",
      "_view_module_version": "1.5.0",
      "_view_name": "LabelView",
      "description": "",
      "description_tooltip": null,
      "layout": "IPY_MODEL_dbc54c1695d149c6ae11fbe20f8652df",
      "placeholder": "​",
      "style": "IPY_MODEL_67c06224c2ab4d299279893dfd9f50c9",
      "value": "Connecting..."
     }
    },
    "6d2d1b203e3344d88f5134441ec1b567": {
     "model_module": "@jupyter-widgets/controls",
     "model_module_version": "1.5.0",
     "model_name": "LabelModel",
     "state": {
      "_dom_classes": [],
      "_model_module": "@jupyter-widgets/controls",
      "_model_module_version": "1.5.0",
      "_model_name": "LabelModel",
      "_view_count": null,
      "_view_module": "@jupyter-widgets/controls",
      "_view_module_version": "1.5.0",
      "_view_name": "LabelView",
      "description": "",
      "description_tooltip": null,
      "layout": "IPY_MODEL_754e0c2a4ecb4de895df76e10cde16ef",
      "placeholder": "​",
      "style": "IPY_MODEL_1c408b269a914663bd8c6c00d3b0ed4a",
      "value": "Your token has been saved to /root/.cache/huggingface/token"
     }
    },
    "6dc937b73756450daec9b3c59e8332b1": {
     "model_module": "@jupyter-widgets/controls",
     "model_module_version": "1.5.0",
     "model_name": "DescriptionStyleModel",
     "state": {
      "_model_module": "@jupyter-widgets/controls",
      "_model_module_version": "1.5.0",
      "_model_name": "DescriptionStyleModel",
      "_view_count": null,
      "_view_module": "@jupyter-widgets/base",
      "_view_module_version": "1.2.0",
      "_view_name": "StyleView",
      "description_width": ""
     }
    },
    "754e0c2a4ecb4de895df76e10cde16ef": {
     "model_module": "@jupyter-widgets/base",
     "model_module_version": "1.2.0",
     "model_name": "LayoutModel",
     "state": {
      "_model_module": "@jupyter-widgets/base",
      "_model_module_version": "1.2.0",
      "_model_name": "LayoutModel",
      "_view_count": null,
      "_view_module": "@jupyter-widgets/base",
      "_view_module_version": "1.2.0",
      "_view_name": "LayoutView",
      "align_content": null,
      "align_items": null,
      "align_self": null,
      "border": null,
      "bottom": null,
      "display": null,
      "flex": null,
      "flex_flow": null,
      "grid_area": null,
      "grid_auto_columns": null,
      "grid_auto_flow": null,
      "grid_auto_rows": null,
      "grid_column": null,
      "grid_gap": null,
      "grid_row": null,
      "grid_template_areas": null,
      "grid_template_columns": null,
      "grid_template_rows": null,
      "height": null,
      "justify_content": null,
      "justify_items": null,
      "left": null,
      "margin": null,
      "max_height": null,
      "max_width": null,
      "min_height": null,
      "min_width": null,
      "object_fit": null,
      "object_position": null,
      "order": null,
      "overflow": null,
      "overflow_x": null,
      "overflow_y": null,
      "padding": null,
      "right": null,
      "top": null,
      "visibility": null,
      "width": null
     }
    },
    "7617909aea4e45429c7e03f7cca25fd7": {
     "model_module": "@jupyter-widgets/controls",
     "model_module_version": "1.5.0",
     "model_name": "ButtonModel",
     "state": {
      "_dom_classes": [],
      "_model_module": "@jupyter-widgets/controls",
      "_model_module_version": "1.5.0",
      "_model_name": "ButtonModel",
      "_view_count": null,
      "_view_module": "@jupyter-widgets/controls",
      "_view_module_version": "1.5.0",
      "_view_name": "ButtonView",
      "button_style": "",
      "description": "Login",
      "disabled": false,
      "icon": "",
      "layout": "IPY_MODEL_fd40b11f0ba942ae97d4e2ce376b1e3b",
      "style": "IPY_MODEL_a965c6a74a4d4a17bef4ab2e036abaff",
      "tooltip": ""
     }
    },
    "7688f0b367484ab8b3e4e7359a5642d5": {
     "model_module": "@jupyter-widgets/base",
     "model_module_version": "1.2.0",
     "model_name": "LayoutModel",
     "state": {
      "_model_module": "@jupyter-widgets/base",
      "_model_module_version": "1.2.0",
      "_model_name": "LayoutModel",
      "_view_count": null,
      "_view_module": "@jupyter-widgets/base",
      "_view_module_version": "1.2.0",
      "_view_name": "LayoutView",
      "align_content": null,
      "align_items": null,
      "align_self": null,
      "border": null,
      "bottom": null,
      "display": null,
      "flex": null,
      "flex_flow": null,
      "grid_area": null,
      "grid_auto_columns": null,
      "grid_auto_flow": null,
      "grid_auto_rows": null,
      "grid_column": null,
      "grid_gap": null,
      "grid_row": null,
      "grid_template_areas": null,
      "grid_template_columns": null,
      "grid_template_rows": null,
      "height": null,
      "justify_content": null,
      "justify_items": null,
      "left": null,
      "margin": null,
      "max_height": null,
      "max_width": null,
      "min_height": null,
      "min_width": null,
      "object_fit": null,
      "object_position": null,
      "order": null,
      "overflow": null,
      "overflow_x": null,
      "overflow_y": null,
      "padding": null,
      "right": null,
      "top": null,
      "visibility": null,
      "width": null
     }
    },
    "7696f605258941e291fc4b347e796dc3": {
     "model_module": "@jupyter-widgets/controls",
     "model_module_version": "1.5.0",
     "model_name": "HTMLModel",
     "state": {
      "_dom_classes": [],
      "_model_module": "@jupyter-widgets/controls",
      "_model_module_version": "1.5.0",
      "_model_name": "HTMLModel",
      "_view_count": null,
      "_view_module": "@jupyter-widgets/controls",
      "_view_module_version": "1.5.0",
      "_view_name": "HTMLView",
      "description": "",
      "description_tooltip": null,
      "layout": "IPY_MODEL_913b9c9d13394149a5ac2b25714e53ca",
      "placeholder": "​",
      "style": "IPY_MODEL_2792bfde7dec44b7863fb34dcfd76003",
      "value": "\n<b>Pro Tip:</b> If you don't already have one, you can create a dedicated\n'notebooks' token with 'write' access, that you can then easily reuse for all\nnotebooks. </center>"
     }
    },
    "7d958616100c462b81ba2441e6c9cd16": {
     "model_module": "@jupyter-widgets/base",
     "model_module_version": "1.2.0",
     "model_name": "LayoutModel",
     "state": {
      "_model_module": "@jupyter-widgets/base",
      "_model_module_version": "1.2.0",
      "_model_name": "LayoutModel",
      "_view_count": null,
      "_view_module": "@jupyter-widgets/base",
      "_view_module_version": "1.2.0",
      "_view_name": "LayoutView",
      "align_content": null,
      "align_items": null,
      "align_self": null,
      "border": null,
      "bottom": null,
      "display": null,
      "flex": null,
      "flex_flow": null,
      "grid_area": null,
      "grid_auto_columns": null,
      "grid_auto_flow": null,
      "grid_auto_rows": null,
      "grid_column": null,
      "grid_gap": null,
      "grid_row": null,
      "grid_template_areas": null,
      "grid_template_columns": null,
      "grid_template_rows": null,
      "height": null,
      "justify_content": null,
      "justify_items": null,
      "left": null,
      "margin": null,
      "max_height": null,
      "max_width": null,
      "min_height": null,
      "min_width": null,
      "object_fit": null,
      "object_position": null,
      "order": null,
      "overflow": null,
      "overflow_x": null,
      "overflow_y": null,
      "padding": null,
      "right": null,
      "top": null,
      "visibility": null,
      "width": null
     }
    },
    "8c6d30bc5ada4f6a989ec5cd06a152a3": {
     "model_module": "@jupyter-widgets/controls",
     "model_module_version": "1.5.0",
     "model_name": "HBoxModel",
     "state": {
      "_dom_classes": [],
      "_model_module": "@jupyter-widgets/controls",
      "_model_module_version": "1.5.0",
      "_model_name": "HBoxModel",
      "_view_count": null,
      "_view_module": "@jupyter-widgets/controls",
      "_view_module_version": "1.5.0",
      "_view_name": "HBoxView",
      "box_style": "",
      "children": [
       "IPY_MODEL_8cdda61684e34019af451e5e8d0aba5d",
       "IPY_MODEL_67b07c3edb5a41e7adf557a320cd594f",
       "IPY_MODEL_f5dc0ad331fa4d7f80d8b608b60c9e44"
      ],
      "layout": "IPY_MODEL_f36e66d04b7c48709ae886e78601eaf0"
     }
    },
    "8cdda61684e34019af451e5e8d0aba5d": {
     "model_module": "@jupyter-widgets/controls",
     "model_module_version": "1.5.0",
     "model_name": "HTMLModel",
     "state": {
      "_dom_classes": [],
      "_model_module": "@jupyter-widgets/controls",
      "_model_module_version": "1.5.0",
      "_model_name": "HTMLModel",
      "_view_count": null,
      "_view_module": "@jupyter-widgets/controls",
      "_view_module_version": "1.5.0",
      "_view_name": "HTMLView",
      "description": "",
      "description_tooltip": null,
      "layout": "IPY_MODEL_f0e2ae53f45d4f61a28092303f8c2368",
      "placeholder": "​",
      "style": "IPY_MODEL_ff486779d1754ada97cd7ceb16389967",
      "value": "Upload 2 LFS files: 100%"
     }
    },
    "8d9c72cd5fba4b359595f609918dd618": {
     "model_module": "@jupyter-widgets/base",
     "model_module_version": "1.2.0",
     "model_name": "LayoutModel",
     "state": {
      "_model_module": "@jupyter-widgets/base",
      "_model_module_version": "1.2.0",
      "_model_name": "LayoutModel",
      "_view_count": null,
      "_view_module": "@jupyter-widgets/base",
      "_view_module_version": "1.2.0",
      "_view_name": "LayoutView",
      "align_content": null,
      "align_items": null,
      "align_self": null,
      "border": null,
      "bottom": null,
      "display": null,
      "flex": null,
      "flex_flow": null,
      "grid_area": null,
      "grid_auto_columns": null,
      "grid_auto_flow": null,
      "grid_auto_rows": null,
      "grid_column": null,
      "grid_gap": null,
      "grid_row": null,
      "grid_template_areas": null,
      "grid_template_columns": null,
      "grid_template_rows": null,
      "height": null,
      "justify_content": null,
      "justify_items": null,
      "left": null,
      "margin": null,
      "max_height": null,
      "max_width": null,
      "min_height": null,
      "min_width": null,
      "object_fit": null,
      "object_position": null,
      "order": null,
      "overflow": null,
      "overflow_x": null,
      "overflow_y": null,
      "padding": null,
      "right": null,
      "top": null,
      "visibility": null,
      "width": null
     }
    },
    "913b9c9d13394149a5ac2b25714e53ca": {
     "model_module": "@jupyter-widgets/base",
     "model_module_version": "1.2.0",
     "model_name": "LayoutModel",
     "state": {
      "_model_module": "@jupyter-widgets/base",
      "_model_module_version": "1.2.0",
      "_model_name": "LayoutModel",
      "_view_count": null,
      "_view_module": "@jupyter-widgets/base",
      "_view_module_version": "1.2.0",
      "_view_name": "LayoutView",
      "align_content": null,
      "align_items": null,
      "align_self": null,
      "border": null,
      "bottom": null,
      "display": null,
      "flex": null,
      "flex_flow": null,
      "grid_area": null,
      "grid_auto_columns": null,
      "grid_auto_flow": null,
      "grid_auto_rows": null,
      "grid_column": null,
      "grid_gap": null,
      "grid_row": null,
      "grid_template_areas": null,
      "grid_template_columns": null,
      "grid_template_rows": null,
      "height": null,
      "justify_content": null,
      "justify_items": null,
      "left": null,
      "margin": null,
      "max_height": null,
      "max_width": null,
      "min_height": null,
      "min_width": null,
      "object_fit": null,
      "object_position": null,
      "order": null,
      "overflow": null,
      "overflow_x": null,
      "overflow_y": null,
      "padding": null,
      "right": null,
      "top": null,
      "visibility": null,
      "width": null
     }
    },
    "927c65b5f12340afb35c073a25854efb": {
     "model_module": "@jupyter-widgets/controls",
     "model_module_version": "1.5.0",
     "model_name": "ProgressStyleModel",
     "state": {
      "_model_module": "@jupyter-widgets/controls",
      "_model_module_version": "1.5.0",
      "_model_name": "ProgressStyleModel",
      "_view_count": null,
      "_view_module": "@jupyter-widgets/base",
      "_view_module_version": "1.2.0",
      "_view_name": "StyleView",
      "bar_color": null,
      "description_width": ""
     }
    },
    "97a1ba6ceea74b89b6a482d629d8881c": {
     "model_module": "@jupyter-widgets/controls",
     "model_module_version": "1.5.0",
     "model_name": "HBoxModel",
     "state": {
      "_dom_classes": [],
      "_model_module": "@jupyter-widgets/controls",
      "_model_module_version": "1.5.0",
      "_model_name": "HBoxModel",
      "_view_count": null,
      "_view_module": "@jupyter-widgets/controls",
      "_view_module_version": "1.5.0",
      "_view_name": "HBoxView",
      "box_style": "",
      "children": [
       "IPY_MODEL_35560bdfb97343759e8b194f343e7377",
       "IPY_MODEL_e253b23702bb498ca25ce8d54a33e795",
       "IPY_MODEL_311ee09963c646f8866fed7251954c10"
      ],
      "layout": "IPY_MODEL_e0d645e8ccd3452481e7676bf34b06f1"
     }
    },
    "a0c9daf9dad84703bd57e30b02b6c362": {
     "model_module": "@jupyter-widgets/base",
     "model_module_version": "1.2.0",
     "model_name": "LayoutModel",
     "state": {
      "_model_module": "@jupyter-widgets/base",
      "_model_module_version": "1.2.0",
      "_model_name": "LayoutModel",
      "_view_count": null,
      "_view_module": "@jupyter-widgets/base",
      "_view_module_version": "1.2.0",
      "_view_name": "LayoutView",
      "align_content": null,
      "align_items": null,
      "align_self": null,
      "border": null,
      "bottom": null,
      "display": null,
      "flex": null,
      "flex_flow": null,
      "grid_area": null,
      "grid_auto_columns": null,
      "grid_auto_flow": null,
      "grid_auto_rows": null,
      "grid_column": null,
      "grid_gap": null,
      "grid_row": null,
      "grid_template_areas": null,
      "grid_template_columns": null,
      "grid_template_rows": null,
      "height": null,
      "justify_content": null,
      "justify_items": null,
      "left": null,
      "margin": null,
      "max_height": null,
      "max_width": null,
      "min_height": null,
      "min_width": null,
      "object_fit": null,
      "object_position": null,
      "order": null,
      "overflow": null,
      "overflow_x": null,
      "overflow_y": null,
      "padding": null,
      "right": null,
      "top": null,
      "visibility": null,
      "width": null
     }
    },
    "a965c6a74a4d4a17bef4ab2e036abaff": {
     "model_module": "@jupyter-widgets/controls",
     "model_module_version": "1.5.0",
     "model_name": "ButtonStyleModel",
     "state": {
      "_model_module": "@jupyter-widgets/controls",
      "_model_module_version": "1.5.0",
      "_model_name": "ButtonStyleModel",
      "_view_count": null,
      "_view_module": "@jupyter-widgets/base",
      "_view_module_version": "1.2.0",
      "_view_name": "StyleView",
      "button_color": null,
      "font_weight": ""
     }
    },
    "ab566bdbbd564393a5355afb61470a2a": {
     "model_module": "@jupyter-widgets/controls",
     "model_module_version": "1.5.0",
     "model_name": "DescriptionStyleModel",
     "state": {
      "_model_module": "@jupyter-widgets/controls",
      "_model_module_version": "1.5.0",
      "_model_name": "DescriptionStyleModel",
      "_view_count": null,
      "_view_module": "@jupyter-widgets/base",
      "_view_module_version": "1.2.0",
      "_view_name": "StyleView",
      "description_width": ""
     }
    },
    "b25775e2ed9142b79e16556dfa8e44b7": {
     "model_module": "@jupyter-widgets/controls",
     "model_module_version": "1.5.0",
     "model_name": "ProgressStyleModel",
     "state": {
      "_model_module": "@jupyter-widgets/controls",
      "_model_module_version": "1.5.0",
      "_model_name": "ProgressStyleModel",
      "_view_count": null,
      "_view_module": "@jupyter-widgets/base",
      "_view_module_version": "1.2.0",
      "_view_name": "StyleView",
      "bar_color": null,
      "description_width": ""
     }
    },
    "baea74c5772849778d1d06bb3edc275e": {
     "model_module": "@jupyter-widgets/controls",
     "model_module_version": "1.5.0",
     "model_name": "HTMLModel",
     "state": {
      "_dom_classes": [],
      "_model_module": "@jupyter-widgets/controls",
      "_model_module_version": "1.5.0",
      "_model_name": "HTMLModel",
      "_view_count": null,
      "_view_module": "@jupyter-widgets/controls",
      "_view_module_version": "1.5.0",
      "_view_name": "HTMLView",
      "description": "",
      "description_tooltip": null,
      "layout": "IPY_MODEL_a0c9daf9dad84703bd57e30b02b6c362",
      "placeholder": "​",
      "style": "IPY_MODEL_cb7ec37a494344278e5dcede2409fec8",
      "value": "<center> <img\nsrc=https://huggingface.co/front/assets/huggingface_logo-noborder.svg\nalt='Hugging Face'> <br> Copy a token from <a\nhref=\"https://huggingface.co/settings/tokens\" target=\"_blank\">your Hugging Face\ntokens page</a> and paste it below. <br> Immediately click login after copying\nyour token or it might be stored in plain text in this notebook file. </center>"
     }
    },
    "bc07f5e200c144f0bfc6be1dd67501f6": {
     "model_module": "@jupyter-widgets/controls",
     "model_module_version": "1.5.0",
     "model_name": "DescriptionStyleModel",
     "state": {
      "_model_module": "@jupyter-widgets/controls",
      "_model_module_version": "1.5.0",
      "_model_name": "DescriptionStyleModel",
      "_view_count": null,
      "_view_module": "@jupyter-widgets/base",
      "_view_module_version": "1.2.0",
      "_view_name": "StyleView",
      "description_width": ""
     }
    },
    "c0f5db8683a54051ba8e09c18b937735": {
     "model_module": "@jupyter-widgets/controls",
     "model_module_version": "1.5.0",
     "model_name": "DescriptionStyleModel",
     "state": {
      "_model_module": "@jupyter-widgets/controls",
      "_model_module_version": "1.5.0",
      "_model_name": "DescriptionStyleModel",
      "_view_count": null,
      "_view_module": "@jupyter-widgets/base",
      "_view_module_version": "1.2.0",
      "_view_name": "StyleView",
      "description_width": ""
     }
    },
    "c32973a22ccd4f6bb4e54a47a1171065": {
     "model_module": "@jupyter-widgets/base",
     "model_module_version": "1.2.0",
     "model_name": "LayoutModel",
     "state": {
      "_model_module": "@jupyter-widgets/base",
      "_model_module_version": "1.2.0",
      "_model_name": "LayoutModel",
      "_view_count": null,
      "_view_module": "@jupyter-widgets/base",
      "_view_module_version": "1.2.0",
      "_view_name": "LayoutView",
      "align_content": null,
      "align_items": null,
      "align_self": null,
      "border": null,
      "bottom": null,
      "display": null,
      "flex": null,
      "flex_flow": null,
      "grid_area": null,
      "grid_auto_columns": null,
      "grid_auto_flow": null,
      "grid_auto_rows": null,
      "grid_column": null,
      "grid_gap": null,
      "grid_row": null,
      "grid_template_areas": null,
      "grid_template_columns": null,
      "grid_template_rows": null,
      "height": null,
      "justify_content": null,
      "justify_items": null,
      "left": null,
      "margin": null,
      "max_height": null,
      "max_width": null,
      "min_height": null,
      "min_width": null,
      "object_fit": null,
      "object_position": null,
      "order": null,
      "overflow": null,
      "overflow_x": null,
      "overflow_y": null,
      "padding": null,
      "right": null,
      "top": null,
      "visibility": null,
      "width": null
     }
    },
    "cb7ec37a494344278e5dcede2409fec8": {
     "model_module": "@jupyter-widgets/controls",
     "model_module_version": "1.5.0",
     "model_name": "DescriptionStyleModel",
     "state": {
      "_model_module": "@jupyter-widgets/controls",
      "_model_module_version": "1.5.0",
      "_model_name": "DescriptionStyleModel",
      "_view_count": null,
      "_view_module": "@jupyter-widgets/base",
      "_view_module_version": "1.2.0",
      "_view_name": "StyleView",
      "description_width": ""
     }
    },
    "cbb8e24978294ea0a9ee3e3e637d4c6f": {
     "model_module": "@jupyter-widgets/controls",
     "model_module_version": "1.5.0",
     "model_name": "PasswordModel",
     "state": {
      "_dom_classes": [],
      "_model_module": "@jupyter-widgets/controls",
      "_model_module_version": "1.5.0",
      "_model_name": "PasswordModel",
      "_view_count": null,
      "_view_module": "@jupyter-widgets/controls",
      "_view_module_version": "1.5.0",
      "_view_name": "PasswordView",
      "continuous_update": true,
      "description": "Token:",
      "description_tooltip": null,
      "disabled": false,
      "layout": "IPY_MODEL_0ebe55af4f694e12997eba593291c69d",
      "placeholder": "​",
      "style": "IPY_MODEL_fcf67a330d7f4c03815abb9b50664256",
      "value": ""
     }
    },
    "d37f751babc649bfac92a80d2fef5b87": {
     "model_module": "@jupyter-widgets/base",
     "model_module_version": "1.2.0",
     "model_name": "LayoutModel",
     "state": {
      "_model_module": "@jupyter-widgets/base",
      "_model_module_version": "1.2.0",
      "_model_name": "LayoutModel",
      "_view_count": null,
      "_view_module": "@jupyter-widgets/base",
      "_view_module_version": "1.2.0",
      "_view_name": "LayoutView",
      "align_content": null,
      "align_items": "center",
      "align_self": null,
      "border": null,
      "bottom": null,
      "display": "flex",
      "flex": null,
      "flex_flow": "column",
      "grid_area": null,
      "grid_auto_columns": null,
      "grid_auto_flow": null,
      "grid_auto_rows": null,
      "grid_column": null,
      "grid_gap": null,
      "grid_row": null,
      "grid_template_areas": null,
      "grid_template_columns": null,
      "grid_template_rows": null,
      "height": null,
      "justify_content": null,
      "justify_items": null,
      "left": null,
      "margin": null,
      "max_height": null,
      "max_width": null,
      "min_height": null,
      "min_width": null,
      "object_fit": null,
      "object_position": null,
      "order": null,
      "overflow": null,
      "overflow_x": null,
      "overflow_y": null,
      "padding": null,
      "right": null,
      "top": null,
      "visibility": null,
      "width": "50%"
     }
    },
    "dbc54c1695d149c6ae11fbe20f8652df": {
     "model_module": "@jupyter-widgets/base",
     "model_module_version": "1.2.0",
     "model_name": "LayoutModel",
     "state": {
      "_model_module": "@jupyter-widgets/base",
      "_model_module_version": "1.2.0",
      "_model_name": "LayoutModel",
      "_view_count": null,
      "_view_module": "@jupyter-widgets/base",
      "_view_module_version": "1.2.0",
      "_view_name": "LayoutView",
      "align_content": null,
      "align_items": null,
      "align_self": null,
      "border": null,
      "bottom": null,
      "display": null,
      "flex": null,
      "flex_flow": null,
      "grid_area": null,
      "grid_auto_columns": null,
      "grid_auto_flow": null,
      "grid_auto_rows": null,
      "grid_column": null,
      "grid_gap": null,
      "grid_row": null,
      "grid_template_areas": null,
      "grid_template_columns": null,
      "grid_template_rows": null,
      "height": null,
      "justify_content": null,
      "justify_items": null,
      "left": null,
      "margin": null,
      "max_height": null,
      "max_width": null,
      "min_height": null,
      "min_width": null,
      "object_fit": null,
      "object_position": null,
      "order": null,
      "overflow": null,
      "overflow_x": null,
      "overflow_y": null,
      "padding": null,
      "right": null,
      "top": null,
      "visibility": null,
      "width": null
     }
    },
    "de95f370a2644d79a1b18692393daed9": {
     "model_module": "@jupyter-widgets/controls",
     "model_module_version": "1.5.0",
     "model_name": "HTMLModel",
     "state": {
      "_dom_classes": [],
      "_model_module": "@jupyter-widgets/controls",
      "_model_module_version": "1.5.0",
      "_model_name": "HTMLModel",
      "_view_count": null,
      "_view_module": "@jupyter-widgets/controls",
      "_view_module_version": "1.5.0",
      "_view_name": "HTMLView",
      "description": "",
      "description_tooltip": null,
      "layout": "IPY_MODEL_c32973a22ccd4f6bb4e54a47a1171065",
      "placeholder": "​",
      "style": "IPY_MODEL_fca263ee57744f4d8d451715904d9790",
      "value": "dqn-LunarLander-v2.zip: 100%"
     }
    },
    "e0d645e8ccd3452481e7676bf34b06f1": {
     "model_module": "@jupyter-widgets/base",
     "model_module_version": "1.2.0",
     "model_name": "LayoutModel",
     "state": {
      "_model_module": "@jupyter-widgets/base",
      "_model_module_version": "1.2.0",
      "_model_name": "LayoutModel",
      "_view_count": null,
      "_view_module": "@jupyter-widgets/base",
      "_view_module_version": "1.2.0",
      "_view_name": "LayoutView",
      "align_content": null,
      "align_items": null,
      "align_self": null,
      "border": null,
      "bottom": null,
      "display": null,
      "flex": null,
      "flex_flow": null,
      "grid_area": null,
      "grid_auto_columns": null,
      "grid_auto_flow": null,
      "grid_auto_rows": null,
      "grid_column": null,
      "grid_gap": null,
      "grid_row": null,
      "grid_template_areas": null,
      "grid_template_columns": null,
      "grid_template_rows": null,
      "height": null,
      "justify_content": null,
      "justify_items": null,
      "left": null,
      "margin": null,
      "max_height": null,
      "max_width": null,
      "min_height": null,
      "min_width": null,
      "object_fit": null,
      "object_position": null,
      "order": null,
      "overflow": null,
      "overflow_x": null,
      "overflow_y": null,
      "padding": null,
      "right": null,
      "top": null,
      "visibility": null,
      "width": null
     }
    },
    "e253b23702bb498ca25ce8d54a33e795": {
     "model_module": "@jupyter-widgets/controls",
     "model_module_version": "1.5.0",
     "model_name": "FloatProgressModel",
     "state": {
      "_dom_classes": [],
      "_model_module": "@jupyter-widgets/controls",
      "_model_module_version": "1.5.0",
      "_model_name": "FloatProgressModel",
      "_view_count": null,
      "_view_module": "@jupyter-widgets/controls",
      "_view_module_version": "1.5.0",
      "_view_name": "ProgressView",
      "bar_style": "success",
      "description": "",
      "description_tooltip": null,
      "layout": "IPY_MODEL_67878ea260a544baa780e44da6616bea",
      "max": 146324,
      "min": 0,
      "orientation": "horizontal",
      "style": "IPY_MODEL_b25775e2ed9142b79e16556dfa8e44b7",
      "value": 146324
     }
    },
    "f0e2ae53f45d4f61a28092303f8c2368": {
     "model_module": "@jupyter-widgets/base",
     "model_module_version": "1.2.0",
     "model_name": "LayoutModel",
     "state": {
      "_model_module": "@jupyter-widgets/base",
      "_model_module_version": "1.2.0",
      "_model_name": "LayoutModel",
      "_view_count": null,
      "_view_module": "@jupyter-widgets/base",
      "_view_module_version": "1.2.0",
      "_view_name": "LayoutView",
      "align_content": null,
      "align_items": null,
      "align_self": null,
      "border": null,
      "bottom": null,
      "display": null,
      "flex": null,
      "flex_flow": null,
      "grid_area": null,
      "grid_auto_columns": null,
      "grid_auto_flow": null,
      "grid_auto_rows": null,
      "grid_column": null,
      "grid_gap": null,
      "grid_row": null,
      "grid_template_areas": null,
      "grid_template_columns": null,
      "grid_template_rows": null,
      "height": null,
      "justify_content": null,
      "justify_items": null,
      "left": null,
      "margin": null,
      "max_height": null,
      "max_width": null,
      "min_height": null,
      "min_width": null,
      "object_fit": null,
      "object_position": null,
      "order": null,
      "overflow": null,
      "overflow_x": null,
      "overflow_y": null,
      "padding": null,
      "right": null,
      "top": null,
      "visibility": null,
      "width": null
     }
    },
    "f12dfb7c74124ddb8c5339756ed5d14c": {
     "model_module": "@jupyter-widgets/base",
     "model_module_version": "1.2.0",
     "model_name": "LayoutModel",
     "state": {
      "_model_module": "@jupyter-widgets/base",
      "_model_module_version": "1.2.0",
      "_model_name": "LayoutModel",
      "_view_count": null,
      "_view_module": "@jupyter-widgets/base",
      "_view_module_version": "1.2.0",
      "_view_name": "LayoutView",
      "align_content": null,
      "align_items": null,
      "align_self": null,
      "border": null,
      "bottom": null,
      "display": null,
      "flex": null,
      "flex_flow": null,
      "grid_area": null,
      "grid_auto_columns": null,
      "grid_auto_flow": null,
      "grid_auto_rows": null,
      "grid_column": null,
      "grid_gap": null,
      "grid_row": null,
      "grid_template_areas": null,
      "grid_template_columns": null,
      "grid_template_rows": null,
      "height": null,
      "justify_content": null,
      "justify_items": null,
      "left": null,
      "margin": null,
      "max_height": null,
      "max_width": null,
      "min_height": null,
      "min_width": null,
      "object_fit": null,
      "object_position": null,
      "order": null,
      "overflow": null,
      "overflow_x": null,
      "overflow_y": null,
      "padding": null,
      "right": null,
      "top": null,
      "visibility": null,
      "width": null
     }
    },
    "f19dfe5c1b2848de96a3d3601916cc7c": {
     "model_module": "@jupyter-widgets/base",
     "model_module_version": "1.2.0",
     "model_name": "LayoutModel",
     "state": {
      "_model_module": "@jupyter-widgets/base",
      "_model_module_version": "1.2.0",
      "_model_name": "LayoutModel",
      "_view_count": null,
      "_view_module": "@jupyter-widgets/base",
      "_view_module_version": "1.2.0",
      "_view_name": "LayoutView",
      "align_content": null,
      "align_items": null,
      "align_self": null,
      "border": null,
      "bottom": null,
      "display": null,
      "flex": null,
      "flex_flow": null,
      "grid_area": null,
      "grid_auto_columns": null,
      "grid_auto_flow": null,
      "grid_auto_rows": null,
      "grid_column": null,
      "grid_gap": null,
      "grid_row": null,
      "grid_template_areas": null,
      "grid_template_columns": null,
      "grid_template_rows": null,
      "height": null,
      "justify_content": null,
      "justify_items": null,
      "left": null,
      "margin": null,
      "max_height": null,
      "max_width": null,
      "min_height": null,
      "min_width": null,
      "object_fit": null,
      "object_position": null,
      "order": null,
      "overflow": null,
      "overflow_x": null,
      "overflow_y": null,
      "padding": null,
      "right": null,
      "top": null,
      "visibility": null,
      "width": null
     }
    },
    "f36e66d04b7c48709ae886e78601eaf0": {
     "model_module": "@jupyter-widgets/base",
     "model_module_version": "1.2.0",
     "model_name": "LayoutModel",
     "state": {
      "_model_module": "@jupyter-widgets/base",
      "_model_module_version": "1.2.0",
      "_model_name": "LayoutModel",
      "_view_count": null,
      "_view_module": "@jupyter-widgets/base",
      "_view_module_version": "1.2.0",
      "_view_name": "LayoutView",
      "align_content": null,
      "align_items": null,
      "align_self": null,
      "border": null,
      "bottom": null,
      "display": null,
      "flex": null,
      "flex_flow": null,
      "grid_area": null,
      "grid_auto_columns": null,
      "grid_auto_flow": null,
      "grid_auto_rows": null,
      "grid_column": null,
      "grid_gap": null,
      "grid_row": null,
      "grid_template_areas": null,
      "grid_template_columns": null,
      "grid_template_rows": null,
      "height": null,
      "justify_content": null,
      "justify_items": null,
      "left": null,
      "margin": null,
      "max_height": null,
      "max_width": null,
      "min_height": null,
      "min_width": null,
      "object_fit": null,
      "object_position": null,
      "order": null,
      "overflow": null,
      "overflow_x": null,
      "overflow_y": null,
      "padding": null,
      "right": null,
      "top": null,
      "visibility": null,
      "width": null
     }
    },
    "f5dc0ad331fa4d7f80d8b608b60c9e44": {
     "model_module": "@jupyter-widgets/controls",
     "model_module_version": "1.5.0",
     "model_name": "HTMLModel",
     "state": {
      "_dom_classes": [],
      "_model_module": "@jupyter-widgets/controls",
      "_model_module_version": "1.5.0",
      "_model_name": "HTMLModel",
      "_view_count": null,
      "_view_module": "@jupyter-widgets/controls",
      "_view_module_version": "1.5.0",
      "_view_name": "HTMLView",
      "description": "",
      "description_tooltip": null,
      "layout": "IPY_MODEL_18b620a0db8e43db8674d0b7899ea788",
      "placeholder": "​",
      "style": "IPY_MODEL_ab566bdbbd564393a5355afb61470a2a",
      "value": " 2/2 [00:00&lt;00:00,  2.41it/s]"
     }
    },
    "faedbb1b2bda4fdaaae073b2328b6662": {
     "model_module": "@jupyter-widgets/controls",
     "model_module_version": "1.5.0",
     "model_name": "VBoxModel",
     "state": {
      "_dom_classes": [],
      "_model_module": "@jupyter-widgets/controls",
      "_model_module_version": "1.5.0",
      "_model_name": "VBoxModel",
      "_view_count": null,
      "_view_module": "@jupyter-widgets/controls",
      "_view_module_version": "1.5.0",
      "_view_name": "VBoxView",
      "box_style": "",
      "children": [
       "IPY_MODEL_4bcce309087643a1982cbf898736e842",
       "IPY_MODEL_4a82c737e0984deb9e3bffe62e94d60b",
       "IPY_MODEL_6d2d1b203e3344d88f5134441ec1b567",
       "IPY_MODEL_1d1efa33832e45c98a2c7bcb5e1164eb"
      ],
      "layout": "IPY_MODEL_d37f751babc649bfac92a80d2fef5b87"
     }
    },
    "fca263ee57744f4d8d451715904d9790": {
     "model_module": "@jupyter-widgets/controls",
     "model_module_version": "1.5.0",
     "model_name": "DescriptionStyleModel",
     "state": {
      "_model_module": "@jupyter-widgets/controls",
      "_model_module_version": "1.5.0",
      "_model_name": "DescriptionStyleModel",
      "_view_count": null,
      "_view_module": "@jupyter-widgets/base",
      "_view_module_version": "1.2.0",
      "_view_name": "StyleView",
      "description_width": ""
     }
    },
    "fcf67a330d7f4c03815abb9b50664256": {
     "model_module": "@jupyter-widgets/controls",
     "model_module_version": "1.5.0",
     "model_name": "DescriptionStyleModel",
     "state": {
      "_model_module": "@jupyter-widgets/controls",
      "_model_module_version": "1.5.0",
      "_model_name": "DescriptionStyleModel",
      "_view_count": null,
      "_view_module": "@jupyter-widgets/base",
      "_view_module_version": "1.2.0",
      "_view_name": "StyleView",
      "description_width": ""
     }
    },
    "fd40b11f0ba942ae97d4e2ce376b1e3b": {
     "model_module": "@jupyter-widgets/base",
     "model_module_version": "1.2.0",
     "model_name": "LayoutModel",
     "state": {
      "_model_module": "@jupyter-widgets/base",
      "_model_module_version": "1.2.0",
      "_model_name": "LayoutModel",
      "_view_count": null,
      "_view_module": "@jupyter-widgets/base",
      "_view_module_version": "1.2.0",
      "_view_name": "LayoutView",
      "align_content": null,
      "align_items": null,
      "align_self": null,
      "border": null,
      "bottom": null,
      "display": null,
      "flex": null,
      "flex_flow": null,
      "grid_area": null,
      "grid_auto_columns": null,
      "grid_auto_flow": null,
      "grid_auto_rows": null,
      "grid_column": null,
      "grid_gap": null,
      "grid_row": null,
      "grid_template_areas": null,
      "grid_template_columns": null,
      "grid_template_rows": null,
      "height": null,
      "justify_content": null,
      "justify_items": null,
      "left": null,
      "margin": null,
      "max_height": null,
      "max_width": null,
      "min_height": null,
      "min_width": null,
      "object_fit": null,
      "object_position": null,
      "order": null,
      "overflow": null,
      "overflow_x": null,
      "overflow_y": null,
      "padding": null,
      "right": null,
      "top": null,
      "visibility": null,
      "width": null
     }
    },
    "fd7a614d07bd4c629f419965961730f8": {
     "model_module": "@jupyter-widgets/controls",
     "model_module_version": "1.5.0",
     "model_name": "FloatProgressModel",
     "state": {
      "_dom_classes": [],
      "_model_module": "@jupyter-widgets/controls",
      "_model_module_version": "1.5.0",
      "_model_name": "FloatProgressModel",
      "_view_count": null,
      "_view_module": "@jupyter-widgets/controls",
      "_view_module_version": "1.5.0",
      "_view_name": "ProgressView",
      "bar_style": "success",
      "description": "",
      "description_tooltip": null,
      "layout": "IPY_MODEL_7688f0b367484ab8b3e4e7359a5642d5",
      "max": 105421,
      "min": 0,
      "orientation": "horizontal",
      "style": "IPY_MODEL_06ada10b2c264218896da24f6857fecc",
      "value": 105421
     }
    },
    "ff486779d1754ada97cd7ceb16389967": {
     "model_module": "@jupyter-widgets/controls",
     "model_module_version": "1.5.0",
     "model_name": "DescriptionStyleModel",
     "state": {
      "_model_module": "@jupyter-widgets/controls",
      "_model_module_version": "1.5.0",
      "_model_name": "DescriptionStyleModel",
      "_view_count": null,
      "_view_module": "@jupyter-widgets/base",
      "_view_module_version": "1.2.0",
      "_view_name": "StyleView",
      "description_width": ""
     }
    }
   }
  }
 },
 "nbformat": 4,
 "nbformat_minor": 4
}
