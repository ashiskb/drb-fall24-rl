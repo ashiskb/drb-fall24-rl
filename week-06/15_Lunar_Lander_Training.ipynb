{
 "cells": [
  {
   "cell_type": "markdown",
   "metadata": {
    "id": "hyyN-2qyK_T2"
   },
   "source": [
    "# Train Lunar Lander Agent\n",
    "\n",
    "In this Notebook we will train the agent and then share the result using Huggingface ecosystem. We will be using following libraries:\n",
    "\n",
    "1. [gymnasium](https://gymnasium.farama.org/) is a standard API for reinforcement learning, and a diverse collection of reference environments.\n",
    "2. While, to gain understanding, we will be writing our own implementation code for lots of algorithms taught in the book, for actual work it makes sense to use standard libraries for all such RL tasks. One such library is [`Stable Baselines3 SB3`](https://stable-baselines3.readthedocs.io/en/master/) which is a set of reliable implementations of reinforcement learning algorithms in PyTorch. Accompanying this there is another library[`RL Baseline Zoo`](https://github.com/DLR-RM/rl-baselines3-zoo) which provides a collection of pre-trained agents, scripts for training, evaluating agents, tuning hyperparameters, plotting results and recording.\n",
    "3. We will also be using Huggingface to host the trained agents and be able to share the results with others. The book walks you through details of what is Huggingface and what all is available under huggingface ecosystem. Here, we will be using it to upload trained agents and demo videos so that the same can be shared with others. We will be using [`Huggingface sb3`](https://github.com/huggingface/huggingface_sb3) which is a library to load and upload Stable-baselines3.  models from the Hub. Before we can use it, we need a login to be created on [`Huggingface`](https://huggingface.co/join). You can follow the link to create an account."
   ]
  },
  {
   "cell_type": "markdown",
   "metadata": {
    "id": "gpyVcmMPIMJZ"
   },
   "source": [
    "#### Running in Colab/Kaggle\n",
    "\n",
    "If you are running this on Colab or Kaggle, please uncomment below cell and run this to install required dependencies."
   ]
  },
  {
   "cell_type": "code",
   "execution_count": 1,
   "metadata": {},
   "outputs": [],
   "source": [
    "## uncomment and execute this cell to install all the the dependencies if running in Google Colab or Kaggle\n",
    "\n",
    "# !apt-get update \n",
    "# !apt-get install -y swig cmake ffmpeg freeglut3-dev xvfb"
   ]
  },
  {
   "cell_type": "code",
   "execution_count": 16,
   "metadata": {
    "id": "gWskDE2c9WoN"
   },
   "outputs": [],
   "source": [
    "## uncomment and execute this cell to install all the the dependencies if running in Google Colab or Kaggle\n",
    "\n",
    "#!pip install \"box2d-py==2.3.8\"\n",
    "#!pip install \"stable-baselines3[extra]==2.1.0\"\n",
    "#!pip install \"huggingface_sb3>=3.0\"\n",
    "#!pip install \"moviepy==1.0.3\"\n",
    "#!pip install ipywidgets"
   ]
  },
  {
   "cell_type": "markdown",
   "metadata": {
    "id": "FtY8FhliLsGm"
   },
   "source": [
    "## Import policy, RL agent\n",
    "\n",
    "We will using DQN (Deep Q Network) policy to train the agent. For now we will treat this as a black box, diving deeper into it in a subsequent chapter."
   ]
  },
  {
   "cell_type": "code",
   "execution_count": 3,
   "metadata": {
    "colab": {
     "base_uri": "https://localhost:8080/"
    },
    "id": "BIedd7Pz9sOs",
    "outputId": "a0082d96-8669-4b40-d9ce-6cffcc9d3f96"
   },
   "outputs": [],
   "source": [
    "import gymnasium as gym\n",
    "\n",
    "from stable_baselines3 import DQN"
   ]
  },
  {
   "cell_type": "markdown",
   "metadata": {
    "id": "RapkYvTXL7Cd"
   },
   "source": [
    "## Create the Gym env and instantiate the agent\n",
    "\n",
    "For this example, we will use Lunar Lander environment.\n",
    "\n",
    "\"Landing outside landing pad is possible. Fuel is infinite, so an agent can learn to fly and then land on its first attempt. Four discrete actions available: do nothing, fire left orientation engine, fire main engine, fire right orientation engine. \"\n",
    "\n",
    "[Lunar Lander environment](https://gymnasium.farama.org/environments/box2d/lunar_lander/)\n",
    "\n",
    "![Lunar Lander](figs/lunar_lander.gif)\n",
    "\n",
    "\n",
    "We chose the MlpPolicy because input of Lunar Lander is a feature vector, not images. The type of action to use (discrete/continuous) will be automatically deduced from the environment action space\n",
    "\n"
   ]
  },
  {
   "cell_type": "code",
   "execution_count": 2,
   "metadata": {
    "colab": {
     "base_uri": "https://localhost:8080/"
    },
    "id": "pUWGZp3i9wyf",
    "outputId": "af792e1a-17cb-4048-b31d-0fad4426f626"
   },
   "outputs": [
    {
     "name": "stdout",
     "output_type": "stream",
     "text": [
      "Using cpu device\n",
      "Creating environment from the given name 'LunarLander-v2'\n",
      "Wrapping the env with a `Monitor` wrapper\n",
      "Wrapping the env in a DummyVecEnv.\n"
     ]
    }
   ],
   "source": [
    "model = DQN(\n",
    "    \"MlpPolicy\", #policy\n",
    "    \"LunarLander-v2\", #env\n",
    "    verbose=1, #verbosity level\n",
    "    target_update_interval=250,\n",
    "    train_freq=16,\n",
    "    gradient_steps=8,\n",
    "    gamma=0.99,\n",
    "    exploration_fraction=0.2,\n",
    "    exploration_final_eps=0.1,\n",
    "    target_update_interval=600,\n",
    "    learning_starts=1000,\n",
    "    buffer_size=10000,\n",
    "    batch_size=128,\n",
    "    learning_rate=4e-3,\n",
    "    policy_kwargs=dict(net_arch=[256, 256]),\n",
    "    seed=2,\n",
    ")"
   ]
  },
  {
   "cell_type": "markdown",
   "metadata": {
    "id": "4efFdrQ7MBvl"
   },
   "source": [
    "We load a helper function to evaluate the agent:"
   ]
  },
  {
   "cell_type": "code",
   "execution_count": 3,
   "metadata": {
    "id": "PeaVBGuJwK97"
   },
   "outputs": [],
   "source": [
    "from stable_baselines3.common.evaluation import evaluate_policy"
   ]
  },
  {
   "cell_type": "markdown",
   "metadata": {
    "id": "zjEVOIY8NVeK"
   },
   "source": [
    "Let's evaluate the un-trained agent, this should be a random agent."
   ]
  },
  {
   "cell_type": "code",
   "execution_count": 4,
   "metadata": {
    "colab": {
     "base_uri": "https://localhost:8080/"
    },
    "id": "xDHLMA6NFk95",
    "outputId": "0605d334-37f8-4ea6-dbb8-5179bfeb28dc"
   },
   "outputs": [
    {
     "name": "stderr",
     "output_type": "stream",
     "text": [
      "/Users/ashis/venv-directory/venv-p310-RL-workspace/lib/python3.10/site-packages/stable_baselines3/common/evaluation.py:67: UserWarning: Evaluation environment is not wrapped with a ``Monitor`` wrapper. This may result in reporting modified episode lengths and rewards, if other wrappers happen to modify these. Consider wrapping environment first with ``Monitor`` wrapper.\n",
      "  warnings.warn(\n"
     ]
    },
    {
     "name": "stdout",
     "output_type": "stream",
     "text": [
      "mean_reward=-1019.55 +/- 916.8801345573\n"
     ]
    }
   ],
   "source": [
    "# Separate env for evaluation\n",
    "eval_env = gym.make(\"LunarLander-v2\")\n",
    "\n",
    "# Random Agent, before training\n",
    "mean_reward, std_reward = evaluate_policy(\n",
    "    model,\n",
    "    eval_env, #or, model.get_env()\n",
    "    n_eval_episodes=10,\n",
    "    deterministic=True,\n",
    ")\n",
    "\n",
    "print(f\"mean_reward={mean_reward:.2f} +/- {std_reward}\")"
   ]
  },
  {
   "cell_type": "markdown",
   "metadata": {
    "id": "r5UoXTZPNdFE"
   },
   "source": [
    "## Train the agent and save it\n",
    "\n",
    "Warning: this may take a while"
   ]
  },
  {
   "cell_type": "code",
   "execution_count": 5,
   "metadata": {
    "colab": {
     "base_uri": "https://localhost:8080/",
     "height": 241,
     "referenced_widgets": [
      "1489b32e36794bb0ad04f8250cba921a",
      "060c33f79563429983f38920ea56501d"
     ]
    },
    "id": "e4cfSXIB-pTF",
    "outputId": "fc800a57-0740-47d2-f63a-6fd43df5c0f6"
   },
   "outputs": [
    {
     "data": {
      "application/vnd.jupyter.widget-view+json": {
       "model_id": "a8f174e034c44eb9814e589bd9b43be4",
       "version_major": 2,
       "version_minor": 0
      },
      "text/plain": [
       "Output()"
      ]
     },
     "metadata": {},
     "output_type": "display_data"
    },
    {
     "name": "stdout",
     "output_type": "stream",
     "text": [
      "----------------------------------\n",
      "| rollout/            |          |\n",
      "|    ep_len_mean      | 90.5     |\n",
      "|    ep_rew_mean      | -182     |\n",
      "|    exploration_rate | 0.1      |\n",
      "| time/               |          |\n",
      "|    episodes         | 400      |\n",
      "|    fps              | 3820     |\n",
      "|    time_elapsed     | 9        |\n",
      "|    total_timesteps  | 36450    |\n",
      "----------------------------------\n"
     ]
    },
    {
     "data": {
      "text/html": [
       "<pre style=\"white-space:pre;overflow-x:auto;line-height:normal;font-family:Menlo,'DejaVu Sans Mono',consolas,'Courier New',monospace\"></pre>\n"
      ],
      "text/plain": []
     },
     "metadata": {},
     "output_type": "display_data"
    },
    {
     "name": "stdout",
     "output_type": "stream",
     "text": [
      "CPU times: user 6min 12s, sys: 9.49 s, total: 6min 21s\n",
      "Wall time: 1min 56s\n"
     ]
    }
   ],
   "source": [
    "%%time\n",
    "# Train the agent\n",
    "model.learn(total_timesteps=int(1e5), log_interval=400, progress_bar=True)\n",
    "# Save the agent\n",
    "model.save(\"dqn_lunar\")\n",
    "del model  # delete trained model to demonstrate loading"
   ]
  },
  {
   "cell_type": "markdown",
   "metadata": {
    "id": "T31dZJYNrJwF"
   },
   "source": [
    "## Load the trained agent"
   ]
  },
  {
   "cell_type": "code",
   "execution_count": 6,
   "metadata": {
    "id": "K1ExgtyZrIA6"
   },
   "outputs": [],
   "source": [
    "model = DQN.load(\"dqn_lunar\")"
   ]
  },
  {
   "cell_type": "code",
   "execution_count": 7,
   "metadata": {
    "colab": {
     "base_uri": "https://localhost:8080/"
    },
    "id": "ygl_gVmV_QP7",
    "outputId": "a9e4e267-0b20-40c0-83c7-73c7de84856c"
   },
   "outputs": [
    {
     "name": "stdout",
     "output_type": "stream",
     "text": [
      "mean_reward=-20.30 +/- 78.75088567920638\n"
     ]
    }
   ],
   "source": [
    "# Evaluate the trained agent\n",
    "mean_reward, std_reward = evaluate_policy(model, eval_env, n_eval_episodes=10, deterministic=True)\n",
    "\n",
    "print(f\"mean_reward={mean_reward:.2f} +/- {std_reward}\")"
   ]
  },
  {
   "cell_type": "markdown",
   "metadata": {
    "id": "AdlkHUBVIMJf"
   },
   "source": [
    "## Record the video of trained agent"
   ]
  },
  {
   "cell_type": "code",
   "execution_count": 8,
   "metadata": {
    "colab": {
     "base_uri": "https://localhost:8080/"
    },
    "id": "aQDZI5VEGnUq",
    "outputId": "edc264a2-da02-4604-8c3c-984e15865e84"
   },
   "outputs": [
    {
     "name": "stdout",
     "output_type": "stream",
     "text": [
      "Saving video to /Users/ashis/Documents/Teaching/Reinforcement-Learning/Lectures/2024-lectures/drl-ashiskb/videos/random-agent-LunarLander-v2-step-0-to-step-1000.mp4\n",
      "Moviepy - Building video /Users/ashis/Documents/Teaching/Reinforcement-Learning/Lectures/2024-lectures/drl-ashiskb/videos/random-agent-LunarLander-v2-step-0-to-step-1000.mp4.\n",
      "Moviepy - Writing video /Users/ashis/Documents/Teaching/Reinforcement-Learning/Lectures/2024-lectures/drl-ashiskb/videos/random-agent-LunarLander-v2-step-0-to-step-1000.mp4\n",
      "\n"
     ]
    },
    {
     "name": "stderr",
     "output_type": "stream",
     "text": [
      "                                                                \r"
     ]
    },
    {
     "name": "stdout",
     "output_type": "stream",
     "text": [
      "Moviepy - Done !\n",
      "Moviepy - video ready /Users/ashis/Documents/Teaching/Reinforcement-Learning/Lectures/2024-lectures/drl-ashiskb/videos/random-agent-LunarLander-v2-step-0-to-step-1000.mp4\n"
     ]
    }
   ],
   "source": [
    "import gymnasium as gym\n",
    "from stable_baselines3.common.vec_env import VecVideoRecorder, DummyVecEnv\n",
    "\n",
    "env_id = \"LunarLander-v2\"\n",
    "video_folder = \"videos/\"\n",
    "video_length = 1000\n",
    "\n",
    "vec_env = DummyVecEnv([lambda: gym.make(env_id, render_mode=\"rgb_array\")])\n",
    "\n",
    "obs = vec_env.reset()\n",
    "\n",
    "# Record the video starting at the first step\n",
    "vec_env = VecVideoRecorder(vec_env, video_folder,\n",
    "                       record_video_trigger=lambda x: x == 0, video_length=video_length,\n",
    "                       name_prefix=f\"random-agent-{env_id}\")\n",
    "\n",
    "vec_env.reset()\n",
    "for _ in range(video_length + 1):\n",
    "  action, _state = model.predict(obs)\n",
    "  obs, _, _, _ = vec_env.step(action)\n",
    "# Save the video\n",
    "vec_env.close()"
   ]
  },
  {
   "cell_type": "code",
   "execution_count": 9,
   "metadata": {
    "colab": {
     "base_uri": "https://localhost:8080/",
     "height": 288
    },
    "id": "QdFnRIDYDNzI",
    "outputId": "e68d7e93-7eba-410a-b7d5-8402b7d8bc17"
   },
   "outputs": [
    {
     "data": {
      "text/html": [
       "\n",
       "<video width=400 controls>\n",
       "      <source src=\"data:video/mp4;base64,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\" type=\"video/mp4\">\n",
       "</video>\n"
      ],
      "text/plain": [
       "<IPython.core.display.HTML object>"
      ]
     },
     "execution_count": 9,
     "metadata": {},
     "output_type": "execute_result"
    }
   ],
   "source": [
    "from IPython.display import HTML\n",
    "from base64 import b64encode\n",
    "\n",
    "mp4 = open('videos/random-agent-LunarLander-v2-step-0-to-step-1000.mp4','rb').read()\n",
    "data_url = \"data:video/mp4;base64,\" + b64encode(mp4).decode()\n",
    "HTML(\"\"\"\n",
    "<video width=400 controls>\n",
    "      <source src=\"%s\" type=\"video/mp4\">\n",
    "</video>\n",
    "\"\"\" % data_url)"
   ]
  },
  {
   "cell_type": "markdown",
   "metadata": {
    "id": "hHWlV9U-EBar",
    "outputId": "d908af0f-abf4-45e4-fddb-661e1e636832"
   },
   "source": [
    "## Upload the Video to Huggingface\n",
    "\n",
    "We will need to login into huggingface using token which will allow this notebook to be able to upload files into your huggingface account. You can create/find huggingface token at https://huggingface.co/settings/tokens. This token will need to be inputed when we run `login()` below."
   ]
  },
  {
   "cell_type": "code",
   "execution_count": 1,
   "metadata": {},
   "outputs": [],
   "source": [
    "from huggingface_hub import login"
   ]
  },
  {
   "cell_type": "code",
   "execution_count": 2,
   "metadata": {},
   "outputs": [
    {
     "data": {
      "application/vnd.jupyter.widget-view+json": {
       "model_id": "8021aaa0f9f3476f8938a48ffb821e34",
       "version_major": 2,
       "version_minor": 0
      },
      "text/plain": [
       "VBox(children=(HTML(value='<center> <img\\nsrc=https://huggingface.co/front/assets/huggingface_logo-noborder.sv…"
      ]
     },
     "metadata": {},
     "output_type": "display_data"
    }
   ],
   "source": [
    "login()\n"
   ]
  },
  {
   "cell_type": "code",
   "execution_count": 12,
   "metadata": {
    "colab": {
     "base_uri": "https://localhost:8080/",
     "height": 162,
     "referenced_widgets": [
      "faedbb1b2bda4fdaaae073b2328b6662",
      "baea74c5772849778d1d06bb3edc275e",
      "cbb8e24978294ea0a9ee3e3e637d4c6f",
      "65ac3f1c152b41c18ef1f95f493b227e",
      "7617909aea4e45429c7e03f7cca25fd7",
      "7696f605258941e291fc4b347e796dc3",
      "d37f751babc649bfac92a80d2fef5b87",
      "a0c9daf9dad84703bd57e30b02b6c362",
      "cb7ec37a494344278e5dcede2409fec8",
      "0ebe55af4f694e12997eba593291c69d",
      "fcf67a330d7f4c03815abb9b50664256",
      "7d958616100c462b81ba2441e6c9cd16",
      "bc07f5e200c144f0bfc6be1dd67501f6",
      "fd40b11f0ba942ae97d4e2ce376b1e3b",
      "a965c6a74a4d4a17bef4ab2e036abaff",
      "913b9c9d13394149a5ac2b25714e53ca",
      "2792bfde7dec44b7863fb34dcfd76003",
      "691c9c940faa4d1c8458cd69d4a6314a",
      "dbc54c1695d149c6ae11fbe20f8652df",
      "67c06224c2ab4d299279893dfd9f50c9",
      "4bcce309087643a1982cbf898736e842",
      "4a82c737e0984deb9e3bffe62e94d60b",
      "6d2d1b203e3344d88f5134441ec1b567",
      "1d1efa33832e45c98a2c7bcb5e1164eb",
      "f12dfb7c74124ddb8c5339756ed5d14c",
      "0d65dee0591c421eaade75278e889de4",
      "f19dfe5c1b2848de96a3d3601916cc7c",
      "6dc937b73756450daec9b3c59e8332b1",
      "754e0c2a4ecb4de895df76e10cde16ef",
      "1c408b269a914663bd8c6c00d3b0ed4a",
      "64d2d28c8d294e518d75900b5193cbab",
      "0587c605a85b4502936fd1fec25630a7"
     ]
    },
    "id": "7byeWx0bEGL5",
    "outputId": "b86cc4bb-44c9-4018-8f14-58b9fd598649"
   },
   "outputs": [],
   "source": [
    "from huggingface_sb3 import load_from_hub, package_to_hub, push_to_hub\n",
    "#from huggingface_hub import notebook_login # To log to our Hugging Face account to be able to upload models to the Hub.\n",
    "\n",
    "#notebook_login()\n",
    "#!git config --global credential.helper store"
   ]
  },
  {
   "cell_type": "markdown",
   "metadata": {},
   "source": [
    "**IMPORTANT**\n",
    "Some users have reported facing following error while running the `package_to_hub` upload function. \n",
    "\n",
    "```\n",
    "\"Token is required (write-access action) but no token found. You need to provide a token or be logged in to Hugging Face with `huggingface-cli login` or `huggingface_hub.login`. See https://huggingface.co/settings/tokens.\"\n",
    "```\n",
    "\n",
    "In such a case the following command will help you over come the issue\n",
    "\n",
    "```\n",
    "import huggingface_hub\n",
    "\n",
    "huggingface_hub.login(token= <YOUR_HF_TOKEN>,\n",
    "                     write_permission = True,\n",
    "                    add_to_git_credential = True)\n",
    "\t\t\t\t\t\n",
    "```\n",
    "\n",
    "Another alternative is to use following command from command shell where the `venv` or `conda` environment for this repository has been activated and then follow the instructions to set the HuggingFace token.\n",
    "\n",
    "```\n",
    "huggingface-cli login\n",
    "\n",
    "```"
   ]
  },
  {
   "cell_type": "code",
   "execution_count": 13,
   "metadata": {
    "colab": {
     "base_uri": "https://localhost:8080/",
     "height": 446,
     "referenced_widgets": [
      "8c6d30bc5ada4f6a989ec5cd06a152a3",
      "8cdda61684e34019af451e5e8d0aba5d",
      "67b07c3edb5a41e7adf557a320cd594f",
      "f5dc0ad331fa4d7f80d8b608b60c9e44",
      "f36e66d04b7c48709ae886e78601eaf0",
      "f0e2ae53f45d4f61a28092303f8c2368",
      "ff486779d1754ada97cd7ceb16389967",
      "3eed6282686743aa88d26c7415670198",
      "927c65b5f12340afb35c073a25854efb",
      "18b620a0db8e43db8674d0b7899ea788",
      "ab566bdbbd564393a5355afb61470a2a",
      "391f473a1d3e4e2fbb95a89015e5f7bf",
      "de95f370a2644d79a1b18692393daed9",
      "fd7a614d07bd4c629f419965961730f8",
      "0e4046a1ee004d09a5de6fe25359df9e",
      "8d9c72cd5fba4b359595f609918dd618",
      "c32973a22ccd4f6bb4e54a47a1171065",
      "fca263ee57744f4d8d451715904d9790",
      "7688f0b367484ab8b3e4e7359a5642d5",
      "06ada10b2c264218896da24f6857fecc",
      "4e7672f426674a32adcd749b24d45c6d",
      "065fa85413064f60a8a28894ec3fa759",
      "97a1ba6ceea74b89b6a482d629d8881c",
      "35560bdfb97343759e8b194f343e7377",
      "e253b23702bb498ca25ce8d54a33e795",
      "311ee09963c646f8866fed7251954c10",
      "e0d645e8ccd3452481e7676bf34b06f1",
      "415cbfa6c36d46bc9f269e760c03acb1",
      "3e85b50b62244209af90462431fc32d8",
      "67878ea260a544baa780e44da6616bea",
      "b25775e2ed9142b79e16556dfa8e44b7",
      "2e4be5aa34a84297935fc95f3253b1ff",
      "c0f5db8683a54051ba8e09c18b937735"
     ]
    },
    "id": "vUfaMkSAD4L9",
    "outputId": "49598cd9-b970-46a6-d5f8-e888960a54c4"
   },
   "outputs": [
    {
     "name": "stdout",
     "output_type": "stream",
     "text": [
      "\u001b[38;5;4mℹ This function will save, evaluate, generate a video of your agent,\n",
      "create a model card and push everything to the hub. It might take up to 1min.\n",
      "This is a work in progress: if you encounter a bug, please open an issue.\u001b[0m\n"
     ]
    },
    {
     "name": "stderr",
     "output_type": "stream",
     "text": [
      "/Users/ashis/venv-directory/venv-p310-RL-workspace/lib/python3.10/site-packages/stable_baselines3/common/evaluation.py:67: UserWarning: Evaluation environment is not wrapped with a ``Monitor`` wrapper. This may result in reporting modified episode lengths and rewards, if other wrappers happen to modify these. Consider wrapping environment first with ``Monitor`` wrapper.\n",
      "  warnings.warn(\n"
     ]
    },
    {
     "name": "stdout",
     "output_type": "stream",
     "text": [
      "Saving video to /var/folders/12/sb6k1cdx1dn2gkn_2l4ty8dr0000gn/T/tmpsq0dj9j3/-step-0-to-step-1000.mp4\n",
      "Moviepy - Building video /var/folders/12/sb6k1cdx1dn2gkn_2l4ty8dr0000gn/T/tmpsq0dj9j3/-step-0-to-step-1000.mp4.\n",
      "Moviepy - Writing video /var/folders/12/sb6k1cdx1dn2gkn_2l4ty8dr0000gn/T/tmpsq0dj9j3/-step-0-to-step-1000.mp4\n",
      "\n"
     ]
    },
    {
     "name": "stderr",
     "output_type": "stream",
     "text": [
      "                                                                \r"
     ]
    },
    {
     "name": "stdout",
     "output_type": "stream",
     "text": [
      "Moviepy - Done !\n",
      "Moviepy - video ready /var/folders/12/sb6k1cdx1dn2gkn_2l4ty8dr0000gn/T/tmpsq0dj9j3/-step-0-to-step-1000.mp4\n"
     ]
    },
    {
     "name": "stderr",
     "output_type": "stream",
     "text": [
      "ffmpeg version 7.0.2 Copyright (c) 2000-2024 the FFmpeg developers\n",
      "  built with Apple clang version 15.0.0 (clang-1500.3.9.4)\n",
      "  configuration: --prefix=/usr/local/Cellar/ffmpeg/7.0.2 --enable-shared --enable-pthreads --enable-version3 --cc=clang --host-cflags= --host-ldflags='-Wl,-ld_classic' --enable-ffplay --enable-gnutls --enable-gpl --enable-libaom --enable-libaribb24 --enable-libbluray --enable-libdav1d --enable-libharfbuzz --enable-libjxl --enable-libmp3lame --enable-libopus --enable-librav1e --enable-librist --enable-librubberband --enable-libsnappy --enable-libsrt --enable-libssh --enable-libsvtav1 --enable-libtesseract --enable-libtheora --enable-libvidstab --enable-libvmaf --enable-libvorbis --enable-libvpx --enable-libwebp --enable-libx264 --enable-libx265 --enable-libxml2 --enable-libxvid --enable-lzma --enable-libfontconfig --enable-libfreetype --enable-frei0r --enable-libass --enable-libopencore-amrnb --enable-libopencore-amrwb --enable-libopenjpeg --enable-libspeex --enable-libsoxr --enable-libzmq --enable-libzimg --disable-libjack --disable-indev=jack --enable-videotoolbox --enable-audiotoolbox\n",
      "  libavutil      59.  8.100 / 59.  8.100\n",
      "  libavcodec     61.  3.100 / 61.  3.100\n",
      "  libavformat    61.  1.100 / 61.  1.100\n",
      "  libavdevice    61.  1.100 / 61.  1.100\n",
      "  libavfilter    10.  1.100 / 10.  1.100\n",
      "  libswscale      8.  1.100 /  8.  1.100\n",
      "  libswresample   5.  1.100 /  5.  1.100\n",
      "  libpostproc    58.  1.100 / 58.  1.100\n",
      "Input #0, mov,mp4,m4a,3gp,3g2,mj2, from '/var/folders/12/sb6k1cdx1dn2gkn_2l4ty8dr0000gn/T/tmpsq0dj9j3/-step-0-to-step-1000.mp4':\n",
      "  Metadata:\n",
      "    major_brand     : isom\n",
      "    minor_version   : 512\n",
      "    compatible_brands: isomiso2avc1mp41\n",
      "    encoder         : Lavf58.29.100\n",
      "  Duration: 00:00:20.02, start: 0.000000, bitrate: 74 kb/s\n",
      "  Stream #0:0[0x1](und): Video: h264 (High) (avc1 / 0x31637661), yuv420p(progressive), 600x400, 69 kb/s, 50 fps, 50 tbr, 12800 tbn (default)\n",
      "      Metadata:\n",
      "        handler_name    : VideoHandler\n",
      "        vendor_id       : [0][0][0][0]\n",
      "Stream mapping:\n",
      "  Stream #0:0 -> #0:0 (h264 (native) -> h264 (libx264))\n",
      "Press [q] to stop, [?] for help\n",
      "[libx264 @ 0x7fd199920500] using cpu capabilities: MMX2 SSE2Fast SSSE3 SSE4.2 AVX FMA3 BMI2 AVX2\n",
      "[libx264 @ 0x7fd199920500] profile High, level 3.1, 4:2:0, 8-bit\n",
      "[libx264 @ 0x7fd199920500] 264 - core 164 r3108 31e19f9 - H.264/MPEG-4 AVC codec - Copyleft 2003-2023 - http://www.videolan.org/x264.html - options: cabac=1 ref=3 deblock=1:0:0 analyse=0x3:0x113 me=hex subme=7 psy=1 psy_rd=1.00:0.00 mixed_ref=1 me_range=16 chroma_me=1 trellis=1 8x8dct=1 cqm=0 deadzone=21,11 fast_pskip=1 chroma_qp_offset=-2 threads=12 lookahead_threads=2 sliced_threads=0 nr=0 decimate=1 interlaced=0 bluray_compat=0 constrained_intra=0 bframes=3 b_pyramid=2 b_adapt=1 b_bias=0 direct=1 weightb=1 open_gop=0 weightp=2 keyint=250 keyint_min=25 scenecut=40 intra_refresh=0 rc_lookahead=40 rc=crf mbtree=1 crf=23.0 qcomp=0.60 qpmin=0 qpmax=69 qpstep=4 ip_ratio=1.40 aq=1:1.00\n",
      "Output #0, mp4, to '/var/folders/12/sb6k1cdx1dn2gkn_2l4ty8dr0000gn/T/tmpd64t_a5x/replay.mp4':\n",
      "  Metadata:\n",
      "    major_brand     : isom\n",
      "    minor_version   : 512\n",
      "    compatible_brands: isomiso2avc1mp41\n",
      "    encoder         : Lavf61.1.100\n",
      "  Stream #0:0(und): Video: h264 (avc1 / 0x31637661), yuv420p(progressive), 600x400, q=2-31, 50 fps, 12800 tbn (default)\n",
      "      Metadata:\n",
      "        handler_name    : VideoHandler\n",
      "        vendor_id       : [0][0][0][0]\n",
      "        encoder         : Lavc61.3.100 libx264\n",
      "      Side data:\n",
      "        cpb: bitrate max/min/avg: 0/0/0 buffer size: 0 vbv_delay: N/A\n",
      "[out#0/mp4 @ 0x7fd199a04200] video:164KiB audio:0KiB subtitle:0KiB other streams:0KiB global headers:0KiB muxing overhead: 7.619586%\n",
      "frame= 1001 fps=0.0 q=-1.0 Lsize=     177KiB time=00:00:19.98 bitrate=  72.4kbits/s speed=26.8x    \n",
      "[libx264 @ 0x7fd199920500] frame I:5     Avg QP:10.94  size:  1779\n",
      "[libx264 @ 0x7fd199920500] frame P:258   Avg QP:23.09  size:   226\n",
      "[libx264 @ 0x7fd199920500] frame B:738   Avg QP:25.61  size:   136\n",
      "[libx264 @ 0x7fd199920500] consecutive B-frames:  0.6%  2.4%  2.7% 94.3%\n",
      "[libx264 @ 0x7fd199920500] mb I  I16..4: 93.2%  1.0%  5.8%\n",
      "[libx264 @ 0x7fd199920500] mb P  I16..4:  0.1%  0.4%  0.1%  P16..4:  1.7%  0.5%  0.2%  0.0%  0.0%    skip:97.0%\n",
      "[libx264 @ 0x7fd199920500] mb B  I16..4:  0.0%  0.0%  0.1%  B16..8:  2.7%  0.2%  0.0%  direct: 0.1%  skip:96.7%  L0:54.8% L1:44.3% BI: 0.8%\n",
      "[libx264 @ 0x7fd199920500] 8x8 transform intra:17.3% inter:18.5%\n",
      "[libx264 @ 0x7fd199920500] coded y,uvDC,uvAC intra: 7.9% 13.0% 12.0% inter: 0.2% 0.3% 0.3%\n",
      "[libx264 @ 0x7fd199920500] i16 v,h,dc,p: 88%  8%  4%  0%\n",
      "[libx264 @ 0x7fd199920500] i8 v,h,dc,ddl,ddr,vr,hd,vl,hu:  3%  3% 94%  0%  0%  0%  0%  0%  0%\n",
      "[libx264 @ 0x7fd199920500] i4 v,h,dc,ddl,ddr,vr,hd,vl,hu: 10% 12% 67%  2%  3%  1%  2%  1%  2%\n",
      "[libx264 @ 0x7fd199920500] i8c dc,h,v,p: 91%  5%  4%  0%\n",
      "[libx264 @ 0x7fd199920500] Weighted P-Frames: Y:0.0% UV:0.0%\n",
      "[libx264 @ 0x7fd199920500] ref P L0: 57.7%  1.9% 24.9% 15.5%\n",
      "[libx264 @ 0x7fd199920500] ref B L0: 68.5% 27.0%  4.5%\n",
      "[libx264 @ 0x7fd199920500] ref B L1: 92.8%  7.2%\n",
      "[libx264 @ 0x7fd199920500] kb/s:66.89\n"
     ]
    },
    {
     "name": "stdout",
     "output_type": "stream",
     "text": [
      "\u001b[38;5;4mℹ Pushing repo ashiskb/dqn-LunarLander-v2 to the Hugging Face Hub\u001b[0m\n"
     ]
    },
    {
     "data": {
      "application/vnd.jupyter.widget-view+json": {
       "model_id": "20ae810e181d443792eadc18c77828c9",
       "version_major": 2,
       "version_minor": 0
      },
      "text/plain": [
       "policy.optimizer.pth:   0%|          | 0.00/45.2k [00:00<?, ?B/s]"
      ]
     },
     "metadata": {},
     "output_type": "display_data"
    },
    {
     "data": {
      "application/vnd.jupyter.widget-view+json": {
       "model_id": "f7e296b7ec2b4e30844be3605d14a6af",
       "version_major": 2,
       "version_minor": 0
      },
      "text/plain": [
       "dqn-LunarLander-v2.zip:   0%|          | 0.00/107k [00:00<?, ?B/s]"
      ]
     },
     "metadata": {},
     "output_type": "display_data"
    },
    {
     "data": {
      "application/vnd.jupyter.widget-view+json": {
       "model_id": "58185952cb7a49f78af7ac2edfe71ddd",
       "version_major": 2,
       "version_minor": 0
      },
      "text/plain": [
       "Upload 4 LFS files:   0%|          | 0/4 [00:00<?, ?it/s]"
      ]
     },
     "metadata": {},
     "output_type": "display_data"
    },
    {
     "data": {
      "application/vnd.jupyter.widget-view+json": {
       "model_id": "697346bba42447fa9af93ae78d3dcc2b",
       "version_major": 2,
       "version_minor": 0
      },
      "text/plain": [
       "policy.pth:   0%|          | 0.00/44.3k [00:00<?, ?B/s]"
      ]
     },
     "metadata": {},
     "output_type": "display_data"
    },
    {
     "data": {
      "application/vnd.jupyter.widget-view+json": {
       "model_id": "9769d49a60544dd9be7d3ae07425ba3a",
       "version_major": 2,
       "version_minor": 0
      },
      "text/plain": [
       "pytorch_variables.pth:   0%|          | 0.00/864 [00:00<?, ?B/s]"
      ]
     },
     "metadata": {},
     "output_type": "display_data"
    },
    {
     "name": "stdout",
     "output_type": "stream",
     "text": [
      "\u001b[38;5;4mℹ Your model is pushed to the Hub. You can view your model here:\n",
      "https://huggingface.co/ashiskb/dqn-LunarLander-v2/tree/main/\u001b[0m\n"
     ]
    },
    {
     "data": {
      "text/plain": [
       "CommitInfo(commit_url='https://huggingface.co/ashiskb/dqn-LunarLander-v2/commit/7a0d2ff861fa154bbcb8ec9cef0038dd47bf99d8', commit_message='Push to Hub', commit_description='', oid='7a0d2ff861fa154bbcb8ec9cef0038dd47bf99d8', pr_url=None, repo_url=RepoUrl('https://huggingface.co/ashiskb/dqn-LunarLander-v2', endpoint='https://huggingface.co', repo_type='model', repo_id='ashiskb/dqn-LunarLander-v2'), pr_revision=None, pr_num=None)"
      ]
     },
     "execution_count": 13,
     "metadata": {},
     "output_type": "execute_result"
    }
   ],
   "source": [
    "eval_env = gym.make(\"LunarLander-v2\", render_mode='rgb_array')\n",
    "\n",
    "# method save, evaluate, generate a model card and record a replay video of your agent before pushing the repo to the hub\n",
    "\n",
    "# Please note repo_id is of the form <huggingface_id>/<name of repo>\n",
    "# you will need to change this to \"<your_huggingface_id>/dqn-LunarLander-v2\"\n",
    "\n",
    "package_to_hub(model=model, # Our trained model\n",
    "               model_name=\"dqn-LunarLander-v2\", # The name of our trained model\n",
    "               model_architecture=\"DQN\", # The model architecture we used: in our case PPO\n",
    "               env_id=\"LunarLander-v2\", # Name of the environment\n",
    "               eval_env=eval_env, # Evaluation Environment\n",
    "               repo_id=\"ashiskb/dqn-LunarLander-v2\", # id of the model repository from the Hugging Face Hub (repo_id = {organization}/{repo_name} for instance ashiskb/dqn-LunarLander-v2\n",
    "               commit_message=\"Push to Hub\")"
   ]
  },
  {
   "cell_type": "markdown",
   "metadata": {
    "id": "ShY8CHnLIMJg"
   },
   "source": [
    "## Checking the Results on Huggingface\n",
    "\n",
    "After successful upload, you will see a message at the end of above cell output giving you a link where you can view the model. **It will have a pattern like `https://huggingface.co/<yourusername>/dqn-LunarLander-v2/`**\n",
    "\n",
    "Please click on this link to access the trained agent. You can also share this link with others to show the result of training. Share the url without the ending paths \"tree/main\" so that the link takes them to Model Card tab where they can see the animation. e.g. in my case it will be:<br/>\n",
    "`https://huggingface.co/ashiskb/dqn-LunarLander-v2/`<br/>\n",
    "instead of<br/>\n",
    "`https://huggingface.co/ashiskb/dqn-LunarLander-v2/tree/main/`\n",
    "\n",
    "\n"
   ]
  },
  {
   "cell_type": "markdown",
   "metadata": {},
   "source": []
  }
 ],
 "metadata": {
  "kernelspec": {
   "display_name": "Python 3 (ipykernel)",
   "language": "python",
   "name": "python3"
  },
  "language_info": {
   "codemirror_mode": {
    "name": "ipython",
    "version": 3
   },
   "file_extension": ".py",
   "mimetype": "text/x-python",
   "name": "python",
   "nbconvert_exporter": "python",
   "pygments_lexer": "ipython3",
   "version": "3.10.15"
  },
  "vscode": {
   "interpreter": {
    "hash": "3201c96db5836b171d01fee72ea1be894646622d4b41771abf25c98b548a611d"
   }
  },
  "widgets": {
   "application/vnd.jupyter.widget-state+json": {
    "0587c605a85b4502936fd1fec25630a7": {
     "model_module": "@jupyter-widgets/controls",
     "model_module_version": "1.5.0",
     "model_name": "DescriptionStyleModel",
     "state": {
      "_model_module": "@jupyter-widgets/controls",
      "_model_module_version": "1.5.0",
      "_model_name": "DescriptionStyleModel",
      "_view_count": null,
      "_view_module": "@jupyter-widgets/base",
      "_view_module_version": "1.2.0",
      "_view_name": "StyleView",
      "description_width": ""
     }
    },
    "060c33f79563429983f38920ea56501d": {
     "model_module": "@jupyter-widgets/base",
     "model_module_version": "1.2.0",
     "model_name": "LayoutModel",
     "state": {
      "_model_module": "@jupyter-widgets/base",
      "_model_module_version": "1.2.0",
      "_model_name": "LayoutModel",
      "_view_count": null,
      "_view_module": "@jupyter-widgets/base",
      "_view_module_version": "1.2.0",
      "_view_name": "LayoutView",
      "align_content": null,
      "align_items": null,
      "align_self": null,
      "border": null,
      "bottom": null,
      "display": null,
      "flex": null,
      "flex_flow": null,
      "grid_area": null,
      "grid_auto_columns": null,
      "grid_auto_flow": null,
      "grid_auto_rows": null,
      "grid_column": null,
      "grid_gap": null,
      "grid_row": null,
      "grid_template_areas": null,
      "grid_template_columns": null,
      "grid_template_rows": null,
      "height": null,
      "justify_content": null,
      "justify_items": null,
      "left": null,
      "margin": null,
      "max_height": null,
      "max_width": null,
      "min_height": null,
      "min_width": null,
      "object_fit": null,
      "object_position": null,
      "order": null,
      "overflow": null,
      "overflow_x": null,
      "overflow_y": null,
      "padding": null,
      "right": null,
      "top": null,
      "visibility": null,
      "width": null
     }
    },
    "065fa85413064f60a8a28894ec3fa759": {
     "model_module": "@jupyter-widgets/controls",
     "model_module_version": "1.5.0",
     "model_name": "DescriptionStyleModel",
     "state": {
      "_model_module": "@jupyter-widgets/controls",
      "_model_module_version": "1.5.0",
      "_model_name": "DescriptionStyleModel",
      "_view_count": null,
      "_view_module": "@jupyter-widgets/base",
      "_view_module_version": "1.2.0",
      "_view_name": "StyleView",
      "description_width": ""
     }
    },
    "06ada10b2c264218896da24f6857fecc": {
     "model_module": "@jupyter-widgets/controls",
     "model_module_version": "1.5.0",
     "model_name": "ProgressStyleModel",
     "state": {
      "_model_module": "@jupyter-widgets/controls",
      "_model_module_version": "1.5.0",
      "_model_name": "ProgressStyleModel",
      "_view_count": null,
      "_view_module": "@jupyter-widgets/base",
      "_view_module_version": "1.2.0",
      "_view_name": "StyleView",
      "bar_color": null,
      "description_width": ""
     }
    },
    "0d65dee0591c421eaade75278e889de4": {
     "model_module": "@jupyter-widgets/controls",
     "model_module_version": "1.5.0",
     "model_name": "DescriptionStyleModel",
     "state": {
      "_model_module": "@jupyter-widgets/controls",
      "_model_module_version": "1.5.0",
      "_model_name": "DescriptionStyleModel",
      "_view_count": null,
      "_view_module": "@jupyter-widgets/base",
      "_view_module_version": "1.2.0",
      "_view_name": "StyleView",
      "description_width": ""
     }
    },
    "0e4046a1ee004d09a5de6fe25359df9e": {
     "model_module": "@jupyter-widgets/controls",
     "model_module_version": "1.5.0",
     "model_name": "HTMLModel",
     "state": {
      "_dom_classes": [],
      "_model_module": "@jupyter-widgets/controls",
      "_model_module_version": "1.5.0",
      "_model_name": "HTMLModel",
      "_view_count": null,
      "_view_module": "@jupyter-widgets/controls",
      "_view_module_version": "1.5.0",
      "_view_name": "HTMLView",
      "description": "",
      "description_tooltip": null,
      "layout": "IPY_MODEL_4e7672f426674a32adcd749b24d45c6d",
      "placeholder": "​",
      "style": "IPY_MODEL_065fa85413064f60a8a28894ec3fa759",
      "value": " 105k/105k [00:00&lt;00:00, 473kB/s]"
     }
    },
    "0ebe55af4f694e12997eba593291c69d": {
     "model_module": "@jupyter-widgets/base",
     "model_module_version": "1.2.0",
     "model_name": "LayoutModel",
     "state": {
      "_model_module": "@jupyter-widgets/base",
      "_model_module_version": "1.2.0",
      "_model_name": "LayoutModel",
      "_view_count": null,
      "_view_module": "@jupyter-widgets/base",
      "_view_module_version": "1.2.0",
      "_view_name": "LayoutView",
      "align_content": null,
      "align_items": null,
      "align_self": null,
      "border": null,
      "bottom": null,
      "display": null,
      "flex": null,
      "flex_flow": null,
      "grid_area": null,
      "grid_auto_columns": null,
      "grid_auto_flow": null,
      "grid_auto_rows": null,
      "grid_column": null,
      "grid_gap": null,
      "grid_row": null,
      "grid_template_areas": null,
      "grid_template_columns": null,
      "grid_template_rows": null,
      "height": null,
      "justify_content": null,
      "justify_items": null,
      "left": null,
      "margin": null,
      "max_height": null,
      "max_width": null,
      "min_height": null,
      "min_width": null,
      "object_fit": null,
      "object_position": null,
      "order": null,
      "overflow": null,
      "overflow_x": null,
      "overflow_y": null,
      "padding": null,
      "right": null,
      "top": null,
      "visibility": null,
      "width": null
     }
    },
    "1489b32e36794bb0ad04f8250cba921a": {
     "model_module": "@jupyter-widgets/output",
     "model_module_version": "1.0.0",
     "model_name": "OutputModel",
     "state": {
      "_dom_classes": [],
      "_model_module": "@jupyter-widgets/output",
      "_model_module_version": "1.0.0",
      "_model_name": "OutputModel",
      "_view_count": null,
      "_view_module": "@jupyter-widgets/output",
      "_view_module_version": "1.0.0",
      "_view_name": "OutputView",
      "layout": "IPY_MODEL_060c33f79563429983f38920ea56501d",
      "msg_id": "",
      "outputs": [
       {
        "data": {
         "text/html": "<pre style=\"white-space:pre;overflow-x:auto;line-height:normal;font-family:Menlo,'DejaVu Sans Mono',consolas,'Courier New',monospace\"><span style=\"color: #800080; text-decoration-color: #800080\"> 100%</span> <span style=\"color: #f92672; text-decoration-color: #f92672\">━━━━━━━━━━━━━━━━━━━━━━━━━━━━━━━━━━━━━━━━━━━━━━━━━━━━━━━━━━━╸</span> <span style=\"color: #008000; text-decoration-color: #008000\">99,970/100,000 </span> [ <span style=\"color: #808000; text-decoration-color: #808000\">0:02:27</span> &lt; <span style=\"color: #008080; text-decoration-color: #008080\">0:00:01</span> , <span style=\"color: #800000; text-decoration-color: #800000\">400 it/s</span> ]\n</pre>\n",
         "text/plain": "\u001b[35m 100%\u001b[0m \u001b[38;2;249;38;114m━━━━━━━━━━━━━━━━━━━━━━━━━━━━━━━━━━━━━━━━━━━━━━━━━━━━━━━━━━━\u001b[0m\u001b[38;2;249;38;114m╸\u001b[0m \u001b[32m99,970/100,000 \u001b[0m [ \u001b[33m0:02:27\u001b[0m < \u001b[36m0:00:01\u001b[0m , \u001b[31m400 it/s\u001b[0m ]\n"
        },
        "metadata": {},
        "output_type": "display_data"
       }
      ]
     }
    },
    "18b620a0db8e43db8674d0b7899ea788": {
     "model_module": "@jupyter-widgets/base",
     "model_module_version": "1.2.0",
     "model_name": "LayoutModel",
     "state": {
      "_model_module": "@jupyter-widgets/base",
      "_model_module_version": "1.2.0",
      "_model_name": "LayoutModel",
      "_view_count": null,
      "_view_module": "@jupyter-widgets/base",
      "_view_module_version": "1.2.0",
      "_view_name": "LayoutView",
      "align_content": null,
      "align_items": null,
      "align_self": null,
      "border": null,
      "bottom": null,
      "display": null,
      "flex": null,
      "flex_flow": null,
      "grid_area": null,
      "grid_auto_columns": null,
      "grid_auto_flow": null,
      "grid_auto_rows": null,
      "grid_column": null,
      "grid_gap": null,
      "grid_row": null,
      "grid_template_areas": null,
      "grid_template_columns": null,
      "grid_template_rows": null,
      "height": null,
      "justify_content": null,
      "justify_items": null,
      "left": null,
      "margin": null,
      "max_height": null,
      "max_width": null,
      "min_height": null,
      "min_width": null,
      "object_fit": null,
      "object_position": null,
      "order": null,
      "overflow": null,
      "overflow_x": null,
      "overflow_y": null,
      "padding": null,
      "right": null,
      "top": null,
      "visibility": null,
      "width": null
     }
    },
    "1c408b269a914663bd8c6c00d3b0ed4a": {
     "model_module": "@jupyter-widgets/controls",
     "model_module_version": "1.5.0",
     "model_name": "DescriptionStyleModel",
     "state": {
      "_model_module": "@jupyter-widgets/controls",
      "_model_module_version": "1.5.0",
      "_model_name": "DescriptionStyleModel",
      "_view_count": null,
      "_view_module": "@jupyter-widgets/base",
      "_view_module_version": "1.2.0",
      "_view_name": "StyleView",
      "description_width": ""
     }
    },
    "1d1efa33832e45c98a2c7bcb5e1164eb": {
     "model_module": "@jupyter-widgets/controls",
     "model_module_version": "1.5.0",
     "model_name": "LabelModel",
     "state": {
      "_dom_classes": [],
      "_model_module": "@jupyter-widgets/controls",
      "_model_module_version": "1.5.0",
      "_model_name": "LabelModel",
      "_view_count": null,
      "_view_module": "@jupyter-widgets/controls",
      "_view_module_version": "1.5.0",
      "_view_name": "LabelView",
      "description": "",
      "description_tooltip": null,
      "layout": "IPY_MODEL_64d2d28c8d294e518d75900b5193cbab",
      "placeholder": "​",
      "style": "IPY_MODEL_0587c605a85b4502936fd1fec25630a7",
      "value": "Login successful"
     }
    },
    "2792bfde7dec44b7863fb34dcfd76003": {
     "model_module": "@jupyter-widgets/controls",
     "model_module_version": "1.5.0",
     "model_name": "DescriptionStyleModel",
     "state": {
      "_model_module": "@jupyter-widgets/controls",
      "_model_module_version": "1.5.0",
      "_model_name": "DescriptionStyleModel",
      "_view_count": null,
      "_view_module": "@jupyter-widgets/base",
      "_view_module_version": "1.2.0",
      "_view_name": "StyleView",
      "description_width": ""
     }
    },
    "2e4be5aa34a84297935fc95f3253b1ff": {
     "model_module": "@jupyter-widgets/base",
     "model_module_version": "1.2.0",
     "model_name": "LayoutModel",
     "state": {
      "_model_module": "@jupyter-widgets/base",
      "_model_module_version": "1.2.0",
      "_model_name": "LayoutModel",
      "_view_count": null,
      "_view_module": "@jupyter-widgets/base",
      "_view_module_version": "1.2.0",
      "_view_name": "LayoutView",
      "align_content": null,
      "align_items": null,
      "align_self": null,
      "border": null,
      "bottom": null,
      "display": null,
      "flex": null,
      "flex_flow": null,
      "grid_area": null,
      "grid_auto_columns": null,
      "grid_auto_flow": null,
      "grid_auto_rows": null,
      "grid_column": null,
      "grid_gap": null,
      "grid_row": null,
      "grid_template_areas": null,
      "grid_template_columns": null,
      "grid_template_rows": null,
      "height": null,
      "justify_content": null,
      "justify_items": null,
      "left": null,
      "margin": null,
      "max_height": null,
      "max_width": null,
      "min_height": null,
      "min_width": null,
      "object_fit": null,
      "object_position": null,
      "order": null,
      "overflow": null,
      "overflow_x": null,
      "overflow_y": null,
      "padding": null,
      "right": null,
      "top": null,
      "visibility": null,
      "width": null
     }
    },
    "311ee09963c646f8866fed7251954c10": {
     "model_module": "@jupyter-widgets/controls",
     "model_module_version": "1.5.0",
     "model_name": "HTMLModel",
     "state": {
      "_dom_classes": [],
      "_model_module": "@jupyter-widgets/controls",
      "_model_module_version": "1.5.0",
      "_model_name": "HTMLModel",
      "_view_count": null,
      "_view_module": "@jupyter-widgets/controls",
      "_view_module_version": "1.5.0",
      "_view_name": "HTMLView",
      "description": "",
      "description_tooltip": null,
      "layout": "IPY_MODEL_2e4be5aa34a84297935fc95f3253b1ff",
      "placeholder": "​",
      "style": "IPY_MODEL_c0f5db8683a54051ba8e09c18b937735",
      "value": " 146k/146k [00:00&lt;00:00, 431kB/s]"
     }
    },
    "35560bdfb97343759e8b194f343e7377": {
     "model_module": "@jupyter-widgets/controls",
     "model_module_version": "1.5.0",
     "model_name": "HTMLModel",
     "state": {
      "_dom_classes": [],
      "_model_module": "@jupyter-widgets/controls",
      "_model_module_version": "1.5.0",
      "_model_name": "HTMLModel",
      "_view_count": null,
      "_view_module": "@jupyter-widgets/controls",
      "_view_module_version": "1.5.0",
      "_view_name": "HTMLView",
      "description": "",
      "description_tooltip": null,
      "layout": "IPY_MODEL_415cbfa6c36d46bc9f269e760c03acb1",
      "placeholder": "​",
      "style": "IPY_MODEL_3e85b50b62244209af90462431fc32d8",
      "value": "replay.mp4: 100%"
     }
    },
    "391f473a1d3e4e2fbb95a89015e5f7bf": {
     "model_module": "@jupyter-widgets/controls",
     "model_module_version": "1.5.0",
     "model_name": "HBoxModel",
     "state": {
      "_dom_classes": [],
      "_model_module": "@jupyter-widgets/controls",
      "_model_module_version": "1.5.0",
      "_model_name": "HBoxModel",
      "_view_count": null,
      "_view_module": "@jupyter-widgets/controls",
      "_view_module_version": "1.5.0",
      "_view_name": "HBoxView",
      "box_style": "",
      "children": [
       "IPY_MODEL_de95f370a2644d79a1b18692393daed9",
       "IPY_MODEL_fd7a614d07bd4c629f419965961730f8",
       "IPY_MODEL_0e4046a1ee004d09a5de6fe25359df9e"
      ],
      "layout": "IPY_MODEL_8d9c72cd5fba4b359595f609918dd618"
     }
    },
    "3e85b50b62244209af90462431fc32d8": {
     "model_module": "@jupyter-widgets/controls",
     "model_module_version": "1.5.0",
     "model_name": "DescriptionStyleModel",
     "state": {
      "_model_module": "@jupyter-widgets/controls",
      "_model_module_version": "1.5.0",
      "_model_name": "DescriptionStyleModel",
      "_view_count": null,
      "_view_module": "@jupyter-widgets/base",
      "_view_module_version": "1.2.0",
      "_view_name": "StyleView",
      "description_width": ""
     }
    },
    "3eed6282686743aa88d26c7415670198": {
     "model_module": "@jupyter-widgets/base",
     "model_module_version": "1.2.0",
     "model_name": "LayoutModel",
     "state": {
      "_model_module": "@jupyter-widgets/base",
      "_model_module_version": "1.2.0",
      "_model_name": "LayoutModel",
      "_view_count": null,
      "_view_module": "@jupyter-widgets/base",
      "_view_module_version": "1.2.0",
      "_view_name": "LayoutView",
      "align_content": null,
      "align_items": null,
      "align_self": null,
      "border": null,
      "bottom": null,
      "display": null,
      "flex": null,
      "flex_flow": null,
      "grid_area": null,
      "grid_auto_columns": null,
      "grid_auto_flow": null,
      "grid_auto_rows": null,
      "grid_column": null,
      "grid_gap": null,
      "grid_row": null,
      "grid_template_areas": null,
      "grid_template_columns": null,
      "grid_template_rows": null,
      "height": null,
      "justify_content": null,
      "justify_items": null,
      "left": null,
      "margin": null,
      "max_height": null,
      "max_width": null,
      "min_height": null,
      "min_width": null,
      "object_fit": null,
      "object_position": null,
      "order": null,
      "overflow": null,
      "overflow_x": null,
      "overflow_y": null,
      "padding": null,
      "right": null,
      "top": null,
      "visibility": null,
      "width": null
     }
    },
    "415cbfa6c36d46bc9f269e760c03acb1": {
     "model_module": "@jupyter-widgets/base",
     "model_module_version": "1.2.0",
     "model_name": "LayoutModel",
     "state": {
      "_model_module": "@jupyter-widgets/base",
      "_model_module_version": "1.2.0",
      "_model_name": "LayoutModel",
      "_view_count": null,
      "_view_module": "@jupyter-widgets/base",
      "_view_module_version": "1.2.0",
      "_view_name": "LayoutView",
      "align_content": null,
      "align_items": null,
      "align_self": null,
      "border": null,
      "bottom": null,
      "display": null,
      "flex": null,
      "flex_flow": null,
      "grid_area": null,
      "grid_auto_columns": null,
      "grid_auto_flow": null,
      "grid_auto_rows": null,
      "grid_column": null,
      "grid_gap": null,
      "grid_row": null,
      "grid_template_areas": null,
      "grid_template_columns": null,
      "grid_template_rows": null,
      "height": null,
      "justify_content": null,
      "justify_items": null,
      "left": null,
      "margin": null,
      "max_height": null,
      "max_width": null,
      "min_height": null,
      "min_width": null,
      "object_fit": null,
      "object_position": null,
      "order": null,
      "overflow": null,
      "overflow_x": null,
      "overflow_y": null,
      "padding": null,
      "right": null,
      "top": null,
      "visibility": null,
      "width": null
     }
    },
    "4a82c737e0984deb9e3bffe62e94d60b": {
     "model_module": "@jupyter-widgets/controls",
     "model_module_version": "1.5.0",
     "model_name": "LabelModel",
     "state": {
      "_dom_classes": [],
      "_model_module": "@jupyter-widgets/controls",
      "_model_module_version": "1.5.0",
      "_model_name": "LabelModel",
      "_view_count": null,
      "_view_module": "@jupyter-widgets/controls",
      "_view_module_version": "1.5.0",
      "_view_name": "LabelView",
      "description": "",
      "description_tooltip": null,
      "layout": "IPY_MODEL_f19dfe5c1b2848de96a3d3601916cc7c",
      "placeholder": "​",
      "style": "IPY_MODEL_6dc937b73756450daec9b3c59e8332b1",
      "value": "Your token has been saved in your configured git credential helpers (store)."
     }
    },
    "4bcce309087643a1982cbf898736e842": {
     "model_module": "@jupyter-widgets/controls",
     "model_module_version": "1.5.0",
     "model_name": "LabelModel",
     "state": {
      "_dom_classes": [],
      "_model_module": "@jupyter-widgets/controls",
      "_model_module_version": "1.5.0",
      "_model_name": "LabelModel",
      "_view_count": null,
      "_view_module": "@jupyter-widgets/controls",
      "_view_module_version": "1.5.0",
      "_view_name": "LabelView",
      "description": "",
      "description_tooltip": null,
      "layout": "IPY_MODEL_f12dfb7c74124ddb8c5339756ed5d14c",
      "placeholder": "​",
      "style": "IPY_MODEL_0d65dee0591c421eaade75278e889de4",
      "value": "Token is valid (permission: write)."
     }
    },
    "4e7672f426674a32adcd749b24d45c6d": {
     "model_module": "@jupyter-widgets/base",
     "model_module_version": "1.2.0",
     "model_name": "LayoutModel",
     "state": {
      "_model_module": "@jupyter-widgets/base",
      "_model_module_version": "1.2.0",
      "_model_name": "LayoutModel",
      "_view_count": null,
      "_view_module": "@jupyter-widgets/base",
      "_view_module_version": "1.2.0",
      "_view_name": "LayoutView",
      "align_content": null,
      "align_items": null,
      "align_self": null,
      "border": null,
      "bottom": null,
      "display": null,
      "flex": null,
      "flex_flow": null,
      "grid_area": null,
      "grid_auto_columns": null,
      "grid_auto_flow": null,
      "grid_auto_rows": null,
      "grid_column": null,
      "grid_gap": null,
      "grid_row": null,
      "grid_template_areas": null,
      "grid_template_columns": null,
      "grid_template_rows": null,
      "height": null,
      "justify_content": null,
      "justify_items": null,
      "left": null,
      "margin": null,
      "max_height": null,
      "max_width": null,
      "min_height": null,
      "min_width": null,
      "object_fit": null,
      "object_position": null,
      "order": null,
      "overflow": null,
      "overflow_x": null,
      "overflow_y": null,
      "padding": null,
      "right": null,
      "top": null,
      "visibility": null,
      "width": null
     }
    },
    "64d2d28c8d294e518d75900b5193cbab": {
     "model_module": "@jupyter-widgets/base",
     "model_module_version": "1.2.0",
     "model_name": "LayoutModel",
     "state": {
      "_model_module": "@jupyter-widgets/base",
      "_model_module_version": "1.2.0",
      "_model_name": "LayoutModel",
      "_view_count": null,
      "_view_module": "@jupyter-widgets/base",
      "_view_module_version": "1.2.0",
      "_view_name": "LayoutView",
      "align_content": null,
      "align_items": null,
      "align_self": null,
      "border": null,
      "bottom": null,
      "display": null,
      "flex": null,
      "flex_flow": null,
      "grid_area": null,
      "grid_auto_columns": null,
      "grid_auto_flow": null,
      "grid_auto_rows": null,
      "grid_column": null,
      "grid_gap": null,
      "grid_row": null,
      "grid_template_areas": null,
      "grid_template_columns": null,
      "grid_template_rows": null,
      "height": null,
      "justify_content": null,
      "justify_items": null,
      "left": null,
      "margin": null,
      "max_height": null,
      "max_width": null,
      "min_height": null,
      "min_width": null,
      "object_fit": null,
      "object_position": null,
      "order": null,
      "overflow": null,
      "overflow_x": null,
      "overflow_y": null,
      "padding": null,
      "right": null,
      "top": null,
      "visibility": null,
      "width": null
     }
    },
    "65ac3f1c152b41c18ef1f95f493b227e": {
     "model_module": "@jupyter-widgets/controls",
     "model_module_version": "1.5.0",
     "model_name": "CheckboxModel",
     "state": {
      "_dom_classes": [],
      "_model_module": "@jupyter-widgets/controls",
      "_model_module_version": "1.5.0",
      "_model_name": "CheckboxModel",
      "_view_count": null,
      "_view_module": "@jupyter-widgets/controls",
      "_view_module_version": "1.5.0",
      "_view_name": "CheckboxView",
      "description": "Add token as git credential?",
      "description_tooltip": null,
      "disabled": false,
      "indent": true,
      "layout": "IPY_MODEL_7d958616100c462b81ba2441e6c9cd16",
      "style": "IPY_MODEL_bc07f5e200c144f0bfc6be1dd67501f6",
      "value": true
     }
    },
    "67878ea260a544baa780e44da6616bea": {
     "model_module": "@jupyter-widgets/base",
     "model_module_version": "1.2.0",
     "model_name": "LayoutModel",
     "state": {
      "_model_module": "@jupyter-widgets/base",
      "_model_module_version": "1.2.0",
      "_model_name": "LayoutModel",
      "_view_count": null,
      "_view_module": "@jupyter-widgets/base",
      "_view_module_version": "1.2.0",
      "_view_name": "LayoutView",
      "align_content": null,
      "align_items": null,
      "align_self": null,
      "border": null,
      "bottom": null,
      "display": null,
      "flex": null,
      "flex_flow": null,
      "grid_area": null,
      "grid_auto_columns": null,
      "grid_auto_flow": null,
      "grid_auto_rows": null,
      "grid_column": null,
      "grid_gap": null,
      "grid_row": null,
      "grid_template_areas": null,
      "grid_template_columns": null,
      "grid_template_rows": null,
      "height": null,
      "justify_content": null,
      "justify_items": null,
      "left": null,
      "margin": null,
      "max_height": null,
      "max_width": null,
      "min_height": null,
      "min_width": null,
      "object_fit": null,
      "object_position": null,
      "order": null,
      "overflow": null,
      "overflow_x": null,
      "overflow_y": null,
      "padding": null,
      "right": null,
      "top": null,
      "visibility": null,
      "width": null
     }
    },
    "67b07c3edb5a41e7adf557a320cd594f": {
     "model_module": "@jupyter-widgets/controls",
     "model_module_version": "1.5.0",
     "model_name": "FloatProgressModel",
     "state": {
      "_dom_classes": [],
      "_model_module": "@jupyter-widgets/controls",
      "_model_module_version": "1.5.0",
      "_model_name": "FloatProgressModel",
      "_view_count": null,
      "_view_module": "@jupyter-widgets/controls",
      "_view_module_version": "1.5.0",
      "_view_name": "ProgressView",
      "bar_style": "success",
      "description": "",
      "description_tooltip": null,
      "layout": "IPY_MODEL_3eed6282686743aa88d26c7415670198",
      "max": 2,
      "min": 0,
      "orientation": "horizontal",
      "style": "IPY_MODEL_927c65b5f12340afb35c073a25854efb",
      "value": 2
     }
    },
    "67c06224c2ab4d299279893dfd9f50c9": {
     "model_module": "@jupyter-widgets/controls",
     "model_module_version": "1.5.0",
     "model_name": "DescriptionStyleModel",
     "state": {
      "_model_module": "@jupyter-widgets/controls",
      "_model_module_version": "1.5.0",
      "_model_name": "DescriptionStyleModel",
      "_view_count": null,
      "_view_module": "@jupyter-widgets/base",
      "_view_module_version": "1.2.0",
      "_view_name": "StyleView",
      "description_width": ""
     }
    },
    "691c9c940faa4d1c8458cd69d4a6314a": {
     "model_module": "@jupyter-widgets/controls",
     "model_module_version": "1.5.0",
     "model_name": "LabelModel",
     "state": {
      "_dom_classes": [],
      "_model_module": "@jupyter-widgets/controls",
      "_model_module_version": "1.5.0",
      "_model_name": "LabelModel",
      "_view_count": null,
      "_view_module": "@jupyter-widgets/controls",
      "_view_module_version": "1.5.0",
      "_view_name": "LabelView",
      "description": "",
      "description_tooltip": null,
      "layout": "IPY_MODEL_dbc54c1695d149c6ae11fbe20f8652df",
      "placeholder": "​",
      "style": "IPY_MODEL_67c06224c2ab4d299279893dfd9f50c9",
      "value": "Connecting..."
     }
    },
    "6d2d1b203e3344d88f5134441ec1b567": {
     "model_module": "@jupyter-widgets/controls",
     "model_module_version": "1.5.0",
     "model_name": "LabelModel",
     "state": {
      "_dom_classes": [],
      "_model_module": "@jupyter-widgets/controls",
      "_model_module_version": "1.5.0",
      "_model_name": "LabelModel",
      "_view_count": null,
      "_view_module": "@jupyter-widgets/controls",
      "_view_module_version": "1.5.0",
      "_view_name": "LabelView",
      "description": "",
      "description_tooltip": null,
      "layout": "IPY_MODEL_754e0c2a4ecb4de895df76e10cde16ef",
      "placeholder": "​",
      "style": "IPY_MODEL_1c408b269a914663bd8c6c00d3b0ed4a",
      "value": "Your token has been saved to /root/.cache/huggingface/token"
     }
    },
    "6dc937b73756450daec9b3c59e8332b1": {
     "model_module": "@jupyter-widgets/controls",
     "model_module_version": "1.5.0",
     "model_name": "DescriptionStyleModel",
     "state": {
      "_model_module": "@jupyter-widgets/controls",
      "_model_module_version": "1.5.0",
      "_model_name": "DescriptionStyleModel",
      "_view_count": null,
      "_view_module": "@jupyter-widgets/base",
      "_view_module_version": "1.2.0",
      "_view_name": "StyleView",
      "description_width": ""
     }
    },
    "754e0c2a4ecb4de895df76e10cde16ef": {
     "model_module": "@jupyter-widgets/base",
     "model_module_version": "1.2.0",
     "model_name": "LayoutModel",
     "state": {
      "_model_module": "@jupyter-widgets/base",
      "_model_module_version": "1.2.0",
      "_model_name": "LayoutModel",
      "_view_count": null,
      "_view_module": "@jupyter-widgets/base",
      "_view_module_version": "1.2.0",
      "_view_name": "LayoutView",
      "align_content": null,
      "align_items": null,
      "align_self": null,
      "border": null,
      "bottom": null,
      "display": null,
      "flex": null,
      "flex_flow": null,
      "grid_area": null,
      "grid_auto_columns": null,
      "grid_auto_flow": null,
      "grid_auto_rows": null,
      "grid_column": null,
      "grid_gap": null,
      "grid_row": null,
      "grid_template_areas": null,
      "grid_template_columns": null,
      "grid_template_rows": null,
      "height": null,
      "justify_content": null,
      "justify_items": null,
      "left": null,
      "margin": null,
      "max_height": null,
      "max_width": null,
      "min_height": null,
      "min_width": null,
      "object_fit": null,
      "object_position": null,
      "order": null,
      "overflow": null,
      "overflow_x": null,
      "overflow_y": null,
      "padding": null,
      "right": null,
      "top": null,
      "visibility": null,
      "width": null
     }
    },
    "7617909aea4e45429c7e03f7cca25fd7": {
     "model_module": "@jupyter-widgets/controls",
     "model_module_version": "1.5.0",
     "model_name": "ButtonModel",
     "state": {
      "_dom_classes": [],
      "_model_module": "@jupyter-widgets/controls",
      "_model_module_version": "1.5.0",
      "_model_name": "ButtonModel",
      "_view_count": null,
      "_view_module": "@jupyter-widgets/controls",
      "_view_module_version": "1.5.0",
      "_view_name": "ButtonView",
      "button_style": "",
      "description": "Login",
      "disabled": false,
      "icon": "",
      "layout": "IPY_MODEL_fd40b11f0ba942ae97d4e2ce376b1e3b",
      "style": "IPY_MODEL_a965c6a74a4d4a17bef4ab2e036abaff",
      "tooltip": ""
     }
    },
    "7688f0b367484ab8b3e4e7359a5642d5": {
     "model_module": "@jupyter-widgets/base",
     "model_module_version": "1.2.0",
     "model_name": "LayoutModel",
     "state": {
      "_model_module": "@jupyter-widgets/base",
      "_model_module_version": "1.2.0",
      "_model_name": "LayoutModel",
      "_view_count": null,
      "_view_module": "@jupyter-widgets/base",
      "_view_module_version": "1.2.0",
      "_view_name": "LayoutView",
      "align_content": null,
      "align_items": null,
      "align_self": null,
      "border": null,
      "bottom": null,
      "display": null,
      "flex": null,
      "flex_flow": null,
      "grid_area": null,
      "grid_auto_columns": null,
      "grid_auto_flow": null,
      "grid_auto_rows": null,
      "grid_column": null,
      "grid_gap": null,
      "grid_row": null,
      "grid_template_areas": null,
      "grid_template_columns": null,
      "grid_template_rows": null,
      "height": null,
      "justify_content": null,
      "justify_items": null,
      "left": null,
      "margin": null,
      "max_height": null,
      "max_width": null,
      "min_height": null,
      "min_width": null,
      "object_fit": null,
      "object_position": null,
      "order": null,
      "overflow": null,
      "overflow_x": null,
      "overflow_y": null,
      "padding": null,
      "right": null,
      "top": null,
      "visibility": null,
      "width": null
     }
    },
    "7696f605258941e291fc4b347e796dc3": {
     "model_module": "@jupyter-widgets/controls",
     "model_module_version": "1.5.0",
     "model_name": "HTMLModel",
     "state": {
      "_dom_classes": [],
      "_model_module": "@jupyter-widgets/controls",
      "_model_module_version": "1.5.0",
      "_model_name": "HTMLModel",
      "_view_count": null,
      "_view_module": "@jupyter-widgets/controls",
      "_view_module_version": "1.5.0",
      "_view_name": "HTMLView",
      "description": "",
      "description_tooltip": null,
      "layout": "IPY_MODEL_913b9c9d13394149a5ac2b25714e53ca",
      "placeholder": "​",
      "style": "IPY_MODEL_2792bfde7dec44b7863fb34dcfd76003",
      "value": "\n<b>Pro Tip:</b> If you don't already have one, you can create a dedicated\n'notebooks' token with 'write' access, that you can then easily reuse for all\nnotebooks. </center>"
     }
    },
    "7d958616100c462b81ba2441e6c9cd16": {
     "model_module": "@jupyter-widgets/base",
     "model_module_version": "1.2.0",
     "model_name": "LayoutModel",
     "state": {
      "_model_module": "@jupyter-widgets/base",
      "_model_module_version": "1.2.0",
      "_model_name": "LayoutModel",
      "_view_count": null,
      "_view_module": "@jupyter-widgets/base",
      "_view_module_version": "1.2.0",
      "_view_name": "LayoutView",
      "align_content": null,
      "align_items": null,
      "align_self": null,
      "border": null,
      "bottom": null,
      "display": null,
      "flex": null,
      "flex_flow": null,
      "grid_area": null,
      "grid_auto_columns": null,
      "grid_auto_flow": null,
      "grid_auto_rows": null,
      "grid_column": null,
      "grid_gap": null,
      "grid_row": null,
      "grid_template_areas": null,
      "grid_template_columns": null,
      "grid_template_rows": null,
      "height": null,
      "justify_content": null,
      "justify_items": null,
      "left": null,
      "margin": null,
      "max_height": null,
      "max_width": null,
      "min_height": null,
      "min_width": null,
      "object_fit": null,
      "object_position": null,
      "order": null,
      "overflow": null,
      "overflow_x": null,
      "overflow_y": null,
      "padding": null,
      "right": null,
      "top": null,
      "visibility": null,
      "width": null
     }
    },
    "8c6d30bc5ada4f6a989ec5cd06a152a3": {
     "model_module": "@jupyter-widgets/controls",
     "model_module_version": "1.5.0",
     "model_name": "HBoxModel",
     "state": {
      "_dom_classes": [],
      "_model_module": "@jupyter-widgets/controls",
      "_model_module_version": "1.5.0",
      "_model_name": "HBoxModel",
      "_view_count": null,
      "_view_module": "@jupyter-widgets/controls",
      "_view_module_version": "1.5.0",
      "_view_name": "HBoxView",
      "box_style": "",
      "children": [
       "IPY_MODEL_8cdda61684e34019af451e5e8d0aba5d",
       "IPY_MODEL_67b07c3edb5a41e7adf557a320cd594f",
       "IPY_MODEL_f5dc0ad331fa4d7f80d8b608b60c9e44"
      ],
      "layout": "IPY_MODEL_f36e66d04b7c48709ae886e78601eaf0"
     }
    },
    "8cdda61684e34019af451e5e8d0aba5d": {
     "model_module": "@jupyter-widgets/controls",
     "model_module_version": "1.5.0",
     "model_name": "HTMLModel",
     "state": {
      "_dom_classes": [],
      "_model_module": "@jupyter-widgets/controls",
      "_model_module_version": "1.5.0",
      "_model_name": "HTMLModel",
      "_view_count": null,
      "_view_module": "@jupyter-widgets/controls",
      "_view_module_version": "1.5.0",
      "_view_name": "HTMLView",
      "description": "",
      "description_tooltip": null,
      "layout": "IPY_MODEL_f0e2ae53f45d4f61a28092303f8c2368",
      "placeholder": "​",
      "style": "IPY_MODEL_ff486779d1754ada97cd7ceb16389967",
      "value": "Upload 2 LFS files: 100%"
     }
    },
    "8d9c72cd5fba4b359595f609918dd618": {
     "model_module": "@jupyter-widgets/base",
     "model_module_version": "1.2.0",
     "model_name": "LayoutModel",
     "state": {
      "_model_module": "@jupyter-widgets/base",
      "_model_module_version": "1.2.0",
      "_model_name": "LayoutModel",
      "_view_count": null,
      "_view_module": "@jupyter-widgets/base",
      "_view_module_version": "1.2.0",
      "_view_name": "LayoutView",
      "align_content": null,
      "align_items": null,
      "align_self": null,
      "border": null,
      "bottom": null,
      "display": null,
      "flex": null,
      "flex_flow": null,
      "grid_area": null,
      "grid_auto_columns": null,
      "grid_auto_flow": null,
      "grid_auto_rows": null,
      "grid_column": null,
      "grid_gap": null,
      "grid_row": null,
      "grid_template_areas": null,
      "grid_template_columns": null,
      "grid_template_rows": null,
      "height": null,
      "justify_content": null,
      "justify_items": null,
      "left": null,
      "margin": null,
      "max_height": null,
      "max_width": null,
      "min_height": null,
      "min_width": null,
      "object_fit": null,
      "object_position": null,
      "order": null,
      "overflow": null,
      "overflow_x": null,
      "overflow_y": null,
      "padding": null,
      "right": null,
      "top": null,
      "visibility": null,
      "width": null
     }
    },
    "913b9c9d13394149a5ac2b25714e53ca": {
     "model_module": "@jupyter-widgets/base",
     "model_module_version": "1.2.0",
     "model_name": "LayoutModel",
     "state": {
      "_model_module": "@jupyter-widgets/base",
      "_model_module_version": "1.2.0",
      "_model_name": "LayoutModel",
      "_view_count": null,
      "_view_module": "@jupyter-widgets/base",
      "_view_module_version": "1.2.0",
      "_view_name": "LayoutView",
      "align_content": null,
      "align_items": null,
      "align_self": null,
      "border": null,
      "bottom": null,
      "display": null,
      "flex": null,
      "flex_flow": null,
      "grid_area": null,
      "grid_auto_columns": null,
      "grid_auto_flow": null,
      "grid_auto_rows": null,
      "grid_column": null,
      "grid_gap": null,
      "grid_row": null,
      "grid_template_areas": null,
      "grid_template_columns": null,
      "grid_template_rows": null,
      "height": null,
      "justify_content": null,
      "justify_items": null,
      "left": null,
      "margin": null,
      "max_height": null,
      "max_width": null,
      "min_height": null,
      "min_width": null,
      "object_fit": null,
      "object_position": null,
      "order": null,
      "overflow": null,
      "overflow_x": null,
      "overflow_y": null,
      "padding": null,
      "right": null,
      "top": null,
      "visibility": null,
      "width": null
     }
    },
    "927c65b5f12340afb35c073a25854efb": {
     "model_module": "@jupyter-widgets/controls",
     "model_module_version": "1.5.0",
     "model_name": "ProgressStyleModel",
     "state": {
      "_model_module": "@jupyter-widgets/controls",
      "_model_module_version": "1.5.0",
      "_model_name": "ProgressStyleModel",
      "_view_count": null,
      "_view_module": "@jupyter-widgets/base",
      "_view_module_version": "1.2.0",
      "_view_name": "StyleView",
      "bar_color": null,
      "description_width": ""
     }
    },
    "97a1ba6ceea74b89b6a482d629d8881c": {
     "model_module": "@jupyter-widgets/controls",
     "model_module_version": "1.5.0",
     "model_name": "HBoxModel",
     "state": {
      "_dom_classes": [],
      "_model_module": "@jupyter-widgets/controls",
      "_model_module_version": "1.5.0",
      "_model_name": "HBoxModel",
      "_view_count": null,
      "_view_module": "@jupyter-widgets/controls",
      "_view_module_version": "1.5.0",
      "_view_name": "HBoxView",
      "box_style": "",
      "children": [
       "IPY_MODEL_35560bdfb97343759e8b194f343e7377",
       "IPY_MODEL_e253b23702bb498ca25ce8d54a33e795",
       "IPY_MODEL_311ee09963c646f8866fed7251954c10"
      ],
      "layout": "IPY_MODEL_e0d645e8ccd3452481e7676bf34b06f1"
     }
    },
    "a0c9daf9dad84703bd57e30b02b6c362": {
     "model_module": "@jupyter-widgets/base",
     "model_module_version": "1.2.0",
     "model_name": "LayoutModel",
     "state": {
      "_model_module": "@jupyter-widgets/base",
      "_model_module_version": "1.2.0",
      "_model_name": "LayoutModel",
      "_view_count": null,
      "_view_module": "@jupyter-widgets/base",
      "_view_module_version": "1.2.0",
      "_view_name": "LayoutView",
      "align_content": null,
      "align_items": null,
      "align_self": null,
      "border": null,
      "bottom": null,
      "display": null,
      "flex": null,
      "flex_flow": null,
      "grid_area": null,
      "grid_auto_columns": null,
      "grid_auto_flow": null,
      "grid_auto_rows": null,
      "grid_column": null,
      "grid_gap": null,
      "grid_row": null,
      "grid_template_areas": null,
      "grid_template_columns": null,
      "grid_template_rows": null,
      "height": null,
      "justify_content": null,
      "justify_items": null,
      "left": null,
      "margin": null,
      "max_height": null,
      "max_width": null,
      "min_height": null,
      "min_width": null,
      "object_fit": null,
      "object_position": null,
      "order": null,
      "overflow": null,
      "overflow_x": null,
      "overflow_y": null,
      "padding": null,
      "right": null,
      "top": null,
      "visibility": null,
      "width": null
     }
    },
    "a965c6a74a4d4a17bef4ab2e036abaff": {
     "model_module": "@jupyter-widgets/controls",
     "model_module_version": "1.5.0",
     "model_name": "ButtonStyleModel",
     "state": {
      "_model_module": "@jupyter-widgets/controls",
      "_model_module_version": "1.5.0",
      "_model_name": "ButtonStyleModel",
      "_view_count": null,
      "_view_module": "@jupyter-widgets/base",
      "_view_module_version": "1.2.0",
      "_view_name": "StyleView",
      "button_color": null,
      "font_weight": ""
     }
    },
    "ab566bdbbd564393a5355afb61470a2a": {
     "model_module": "@jupyter-widgets/controls",
     "model_module_version": "1.5.0",
     "model_name": "DescriptionStyleModel",
     "state": {
      "_model_module": "@jupyter-widgets/controls",
      "_model_module_version": "1.5.0",
      "_model_name": "DescriptionStyleModel",
      "_view_count": null,
      "_view_module": "@jupyter-widgets/base",
      "_view_module_version": "1.2.0",
      "_view_name": "StyleView",
      "description_width": ""
     }
    },
    "b25775e2ed9142b79e16556dfa8e44b7": {
     "model_module": "@jupyter-widgets/controls",
     "model_module_version": "1.5.0",
     "model_name": "ProgressStyleModel",
     "state": {
      "_model_module": "@jupyter-widgets/controls",
      "_model_module_version": "1.5.0",
      "_model_name": "ProgressStyleModel",
      "_view_count": null,
      "_view_module": "@jupyter-widgets/base",
      "_view_module_version": "1.2.0",
      "_view_name": "StyleView",
      "bar_color": null,
      "description_width": ""
     }
    },
    "baea74c5772849778d1d06bb3edc275e": {
     "model_module": "@jupyter-widgets/controls",
     "model_module_version": "1.5.0",
     "model_name": "HTMLModel",
     "state": {
      "_dom_classes": [],
      "_model_module": "@jupyter-widgets/controls",
      "_model_module_version": "1.5.0",
      "_model_name": "HTMLModel",
      "_view_count": null,
      "_view_module": "@jupyter-widgets/controls",
      "_view_module_version": "1.5.0",
      "_view_name": "HTMLView",
      "description": "",
      "description_tooltip": null,
      "layout": "IPY_MODEL_a0c9daf9dad84703bd57e30b02b6c362",
      "placeholder": "​",
      "style": "IPY_MODEL_cb7ec37a494344278e5dcede2409fec8",
      "value": "<center> <img\nsrc=https://huggingface.co/front/assets/huggingface_logo-noborder.svg\nalt='Hugging Face'> <br> Copy a token from <a\nhref=\"https://huggingface.co/settings/tokens\" target=\"_blank\">your Hugging Face\ntokens page</a> and paste it below. <br> Immediately click login after copying\nyour token or it might be stored in plain text in this notebook file. </center>"
     }
    },
    "bc07f5e200c144f0bfc6be1dd67501f6": {
     "model_module": "@jupyter-widgets/controls",
     "model_module_version": "1.5.0",
     "model_name": "DescriptionStyleModel",
     "state": {
      "_model_module": "@jupyter-widgets/controls",
      "_model_module_version": "1.5.0",
      "_model_name": "DescriptionStyleModel",
      "_view_count": null,
      "_view_module": "@jupyter-widgets/base",
      "_view_module_version": "1.2.0",
      "_view_name": "StyleView",
      "description_width": ""
     }
    },
    "c0f5db8683a54051ba8e09c18b937735": {
     "model_module": "@jupyter-widgets/controls",
     "model_module_version": "1.5.0",
     "model_name": "DescriptionStyleModel",
     "state": {
      "_model_module": "@jupyter-widgets/controls",
      "_model_module_version": "1.5.0",
      "_model_name": "DescriptionStyleModel",
      "_view_count": null,
      "_view_module": "@jupyter-widgets/base",
      "_view_module_version": "1.2.0",
      "_view_name": "StyleView",
      "description_width": ""
     }
    },
    "c32973a22ccd4f6bb4e54a47a1171065": {
     "model_module": "@jupyter-widgets/base",
     "model_module_version": "1.2.0",
     "model_name": "LayoutModel",
     "state": {
      "_model_module": "@jupyter-widgets/base",
      "_model_module_version": "1.2.0",
      "_model_name": "LayoutModel",
      "_view_count": null,
      "_view_module": "@jupyter-widgets/base",
      "_view_module_version": "1.2.0",
      "_view_name": "LayoutView",
      "align_content": null,
      "align_items": null,
      "align_self": null,
      "border": null,
      "bottom": null,
      "display": null,
      "flex": null,
      "flex_flow": null,
      "grid_area": null,
      "grid_auto_columns": null,
      "grid_auto_flow": null,
      "grid_auto_rows": null,
      "grid_column": null,
      "grid_gap": null,
      "grid_row": null,
      "grid_template_areas": null,
      "grid_template_columns": null,
      "grid_template_rows": null,
      "height": null,
      "justify_content": null,
      "justify_items": null,
      "left": null,
      "margin": null,
      "max_height": null,
      "max_width": null,
      "min_height": null,
      "min_width": null,
      "object_fit": null,
      "object_position": null,
      "order": null,
      "overflow": null,
      "overflow_x": null,
      "overflow_y": null,
      "padding": null,
      "right": null,
      "top": null,
      "visibility": null,
      "width": null
     }
    },
    "cb7ec37a494344278e5dcede2409fec8": {
     "model_module": "@jupyter-widgets/controls",
     "model_module_version": "1.5.0",
     "model_name": "DescriptionStyleModel",
     "state": {
      "_model_module": "@jupyter-widgets/controls",
      "_model_module_version": "1.5.0",
      "_model_name": "DescriptionStyleModel",
      "_view_count": null,
      "_view_module": "@jupyter-widgets/base",
      "_view_module_version": "1.2.0",
      "_view_name": "StyleView",
      "description_width": ""
     }
    },
    "cbb8e24978294ea0a9ee3e3e637d4c6f": {
     "model_module": "@jupyter-widgets/controls",
     "model_module_version": "1.5.0",
     "model_name": "PasswordModel",
     "state": {
      "_dom_classes": [],
      "_model_module": "@jupyter-widgets/controls",
      "_model_module_version": "1.5.0",
      "_model_name": "PasswordModel",
      "_view_count": null,
      "_view_module": "@jupyter-widgets/controls",
      "_view_module_version": "1.5.0",
      "_view_name": "PasswordView",
      "continuous_update": true,
      "description": "Token:",
      "description_tooltip": null,
      "disabled": false,
      "layout": "IPY_MODEL_0ebe55af4f694e12997eba593291c69d",
      "placeholder": "​",
      "style": "IPY_MODEL_fcf67a330d7f4c03815abb9b50664256",
      "value": ""
     }
    },
    "d37f751babc649bfac92a80d2fef5b87": {
     "model_module": "@jupyter-widgets/base",
     "model_module_version": "1.2.0",
     "model_name": "LayoutModel",
     "state": {
      "_model_module": "@jupyter-widgets/base",
      "_model_module_version": "1.2.0",
      "_model_name": "LayoutModel",
      "_view_count": null,
      "_view_module": "@jupyter-widgets/base",
      "_view_module_version": "1.2.0",
      "_view_name": "LayoutView",
      "align_content": null,
      "align_items": "center",
      "align_self": null,
      "border": null,
      "bottom": null,
      "display": "flex",
      "flex": null,
      "flex_flow": "column",
      "grid_area": null,
      "grid_auto_columns": null,
      "grid_auto_flow": null,
      "grid_auto_rows": null,
      "grid_column": null,
      "grid_gap": null,
      "grid_row": null,
      "grid_template_areas": null,
      "grid_template_columns": null,
      "grid_template_rows": null,
      "height": null,
      "justify_content": null,
      "justify_items": null,
      "left": null,
      "margin": null,
      "max_height": null,
      "max_width": null,
      "min_height": null,
      "min_width": null,
      "object_fit": null,
      "object_position": null,
      "order": null,
      "overflow": null,
      "overflow_x": null,
      "overflow_y": null,
      "padding": null,
      "right": null,
      "top": null,
      "visibility": null,
      "width": "50%"
     }
    },
    "dbc54c1695d149c6ae11fbe20f8652df": {
     "model_module": "@jupyter-widgets/base",
     "model_module_version": "1.2.0",
     "model_name": "LayoutModel",
     "state": {
      "_model_module": "@jupyter-widgets/base",
      "_model_module_version": "1.2.0",
      "_model_name": "LayoutModel",
      "_view_count": null,
      "_view_module": "@jupyter-widgets/base",
      "_view_module_version": "1.2.0",
      "_view_name": "LayoutView",
      "align_content": null,
      "align_items": null,
      "align_self": null,
      "border": null,
      "bottom": null,
      "display": null,
      "flex": null,
      "flex_flow": null,
      "grid_area": null,
      "grid_auto_columns": null,
      "grid_auto_flow": null,
      "grid_auto_rows": null,
      "grid_column": null,
      "grid_gap": null,
      "grid_row": null,
      "grid_template_areas": null,
      "grid_template_columns": null,
      "grid_template_rows": null,
      "height": null,
      "justify_content": null,
      "justify_items": null,
      "left": null,
      "margin": null,
      "max_height": null,
      "max_width": null,
      "min_height": null,
      "min_width": null,
      "object_fit": null,
      "object_position": null,
      "order": null,
      "overflow": null,
      "overflow_x": null,
      "overflow_y": null,
      "padding": null,
      "right": null,
      "top": null,
      "visibility": null,
      "width": null
     }
    },
    "de95f370a2644d79a1b18692393daed9": {
     "model_module": "@jupyter-widgets/controls",
     "model_module_version": "1.5.0",
     "model_name": "HTMLModel",
     "state": {
      "_dom_classes": [],
      "_model_module": "@jupyter-widgets/controls",
      "_model_module_version": "1.5.0",
      "_model_name": "HTMLModel",
      "_view_count": null,
      "_view_module": "@jupyter-widgets/controls",
      "_view_module_version": "1.5.0",
      "_view_name": "HTMLView",
      "description": "",
      "description_tooltip": null,
      "layout": "IPY_MODEL_c32973a22ccd4f6bb4e54a47a1171065",
      "placeholder": "​",
      "style": "IPY_MODEL_fca263ee57744f4d8d451715904d9790",
      "value": "dqn-LunarLander-v2.zip: 100%"
     }
    },
    "e0d645e8ccd3452481e7676bf34b06f1": {
     "model_module": "@jupyter-widgets/base",
     "model_module_version": "1.2.0",
     "model_name": "LayoutModel",
     "state": {
      "_model_module": "@jupyter-widgets/base",
      "_model_module_version": "1.2.0",
      "_model_name": "LayoutModel",
      "_view_count": null,
      "_view_module": "@jupyter-widgets/base",
      "_view_module_version": "1.2.0",
      "_view_name": "LayoutView",
      "align_content": null,
      "align_items": null,
      "align_self": null,
      "border": null,
      "bottom": null,
      "display": null,
      "flex": null,
      "flex_flow": null,
      "grid_area": null,
      "grid_auto_columns": null,
      "grid_auto_flow": null,
      "grid_auto_rows": null,
      "grid_column": null,
      "grid_gap": null,
      "grid_row": null,
      "grid_template_areas": null,
      "grid_template_columns": null,
      "grid_template_rows": null,
      "height": null,
      "justify_content": null,
      "justify_items": null,
      "left": null,
      "margin": null,
      "max_height": null,
      "max_width": null,
      "min_height": null,
      "min_width": null,
      "object_fit": null,
      "object_position": null,
      "order": null,
      "overflow": null,
      "overflow_x": null,
      "overflow_y": null,
      "padding": null,
      "right": null,
      "top": null,
      "visibility": null,
      "width": null
     }
    },
    "e253b23702bb498ca25ce8d54a33e795": {
     "model_module": "@jupyter-widgets/controls",
     "model_module_version": "1.5.0",
     "model_name": "FloatProgressModel",
     "state": {
      "_dom_classes": [],
      "_model_module": "@jupyter-widgets/controls",
      "_model_module_version": "1.5.0",
      "_model_name": "FloatProgressModel",
      "_view_count": null,
      "_view_module": "@jupyter-widgets/controls",
      "_view_module_version": "1.5.0",
      "_view_name": "ProgressView",
      "bar_style": "success",
      "description": "",
      "description_tooltip": null,
      "layout": "IPY_MODEL_67878ea260a544baa780e44da6616bea",
      "max": 146324,
      "min": 0,
      "orientation": "horizontal",
      "style": "IPY_MODEL_b25775e2ed9142b79e16556dfa8e44b7",
      "value": 146324
     }
    },
    "f0e2ae53f45d4f61a28092303f8c2368": {
     "model_module": "@jupyter-widgets/base",
     "model_module_version": "1.2.0",
     "model_name": "LayoutModel",
     "state": {
      "_model_module": "@jupyter-widgets/base",
      "_model_module_version": "1.2.0",
      "_model_name": "LayoutModel",
      "_view_count": null,
      "_view_module": "@jupyter-widgets/base",
      "_view_module_version": "1.2.0",
      "_view_name": "LayoutView",
      "align_content": null,
      "align_items": null,
      "align_self": null,
      "border": null,
      "bottom": null,
      "display": null,
      "flex": null,
      "flex_flow": null,
      "grid_area": null,
      "grid_auto_columns": null,
      "grid_auto_flow": null,
      "grid_auto_rows": null,
      "grid_column": null,
      "grid_gap": null,
      "grid_row": null,
      "grid_template_areas": null,
      "grid_template_columns": null,
      "grid_template_rows": null,
      "height": null,
      "justify_content": null,
      "justify_items": null,
      "left": null,
      "margin": null,
      "max_height": null,
      "max_width": null,
      "min_height": null,
      "min_width": null,
      "object_fit": null,
      "object_position": null,
      "order": null,
      "overflow": null,
      "overflow_x": null,
      "overflow_y": null,
      "padding": null,
      "right": null,
      "top": null,
      "visibility": null,
      "width": null
     }
    },
    "f12dfb7c74124ddb8c5339756ed5d14c": {
     "model_module": "@jupyter-widgets/base",
     "model_module_version": "1.2.0",
     "model_name": "LayoutModel",
     "state": {
      "_model_module": "@jupyter-widgets/base",
      "_model_module_version": "1.2.0",
      "_model_name": "LayoutModel",
      "_view_count": null,
      "_view_module": "@jupyter-widgets/base",
      "_view_module_version": "1.2.0",
      "_view_name": "LayoutView",
      "align_content": null,
      "align_items": null,
      "align_self": null,
      "border": null,
      "bottom": null,
      "display": null,
      "flex": null,
      "flex_flow": null,
      "grid_area": null,
      "grid_auto_columns": null,
      "grid_auto_flow": null,
      "grid_auto_rows": null,
      "grid_column": null,
      "grid_gap": null,
      "grid_row": null,
      "grid_template_areas": null,
      "grid_template_columns": null,
      "grid_template_rows": null,
      "height": null,
      "justify_content": null,
      "justify_items": null,
      "left": null,
      "margin": null,
      "max_height": null,
      "max_width": null,
      "min_height": null,
      "min_width": null,
      "object_fit": null,
      "object_position": null,
      "order": null,
      "overflow": null,
      "overflow_x": null,
      "overflow_y": null,
      "padding": null,
      "right": null,
      "top": null,
      "visibility": null,
      "width": null
     }
    },
    "f19dfe5c1b2848de96a3d3601916cc7c": {
     "model_module": "@jupyter-widgets/base",
     "model_module_version": "1.2.0",
     "model_name": "LayoutModel",
     "state": {
      "_model_module": "@jupyter-widgets/base",
      "_model_module_version": "1.2.0",
      "_model_name": "LayoutModel",
      "_view_count": null,
      "_view_module": "@jupyter-widgets/base",
      "_view_module_version": "1.2.0",
      "_view_name": "LayoutView",
      "align_content": null,
      "align_items": null,
      "align_self": null,
      "border": null,
      "bottom": null,
      "display": null,
      "flex": null,
      "flex_flow": null,
      "grid_area": null,
      "grid_auto_columns": null,
      "grid_auto_flow": null,
      "grid_auto_rows": null,
      "grid_column": null,
      "grid_gap": null,
      "grid_row": null,
      "grid_template_areas": null,
      "grid_template_columns": null,
      "grid_template_rows": null,
      "height": null,
      "justify_content": null,
      "justify_items": null,
      "left": null,
      "margin": null,
      "max_height": null,
      "max_width": null,
      "min_height": null,
      "min_width": null,
      "object_fit": null,
      "object_position": null,
      "order": null,
      "overflow": null,
      "overflow_x": null,
      "overflow_y": null,
      "padding": null,
      "right": null,
      "top": null,
      "visibility": null,
      "width": null
     }
    },
    "f36e66d04b7c48709ae886e78601eaf0": {
     "model_module": "@jupyter-widgets/base",
     "model_module_version": "1.2.0",
     "model_name": "LayoutModel",
     "state": {
      "_model_module": "@jupyter-widgets/base",
      "_model_module_version": "1.2.0",
      "_model_name": "LayoutModel",
      "_view_count": null,
      "_view_module": "@jupyter-widgets/base",
      "_view_module_version": "1.2.0",
      "_view_name": "LayoutView",
      "align_content": null,
      "align_items": null,
      "align_self": null,
      "border": null,
      "bottom": null,
      "display": null,
      "flex": null,
      "flex_flow": null,
      "grid_area": null,
      "grid_auto_columns": null,
      "grid_auto_flow": null,
      "grid_auto_rows": null,
      "grid_column": null,
      "grid_gap": null,
      "grid_row": null,
      "grid_template_areas": null,
      "grid_template_columns": null,
      "grid_template_rows": null,
      "height": null,
      "justify_content": null,
      "justify_items": null,
      "left": null,
      "margin": null,
      "max_height": null,
      "max_width": null,
      "min_height": null,
      "min_width": null,
      "object_fit": null,
      "object_position": null,
      "order": null,
      "overflow": null,
      "overflow_x": null,
      "overflow_y": null,
      "padding": null,
      "right": null,
      "top": null,
      "visibility": null,
      "width": null
     }
    },
    "f5dc0ad331fa4d7f80d8b608b60c9e44": {
     "model_module": "@jupyter-widgets/controls",
     "model_module_version": "1.5.0",
     "model_name": "HTMLModel",
     "state": {
      "_dom_classes": [],
      "_model_module": "@jupyter-widgets/controls",
      "_model_module_version": "1.5.0",
      "_model_name": "HTMLModel",
      "_view_count": null,
      "_view_module": "@jupyter-widgets/controls",
      "_view_module_version": "1.5.0",
      "_view_name": "HTMLView",
      "description": "",
      "description_tooltip": null,
      "layout": "IPY_MODEL_18b620a0db8e43db8674d0b7899ea788",
      "placeholder": "​",
      "style": "IPY_MODEL_ab566bdbbd564393a5355afb61470a2a",
      "value": " 2/2 [00:00&lt;00:00,  2.41it/s]"
     }
    },
    "faedbb1b2bda4fdaaae073b2328b6662": {
     "model_module": "@jupyter-widgets/controls",
     "model_module_version": "1.5.0",
     "model_name": "VBoxModel",
     "state": {
      "_dom_classes": [],
      "_model_module": "@jupyter-widgets/controls",
      "_model_module_version": "1.5.0",
      "_model_name": "VBoxModel",
      "_view_count": null,
      "_view_module": "@jupyter-widgets/controls",
      "_view_module_version": "1.5.0",
      "_view_name": "VBoxView",
      "box_style": "",
      "children": [
       "IPY_MODEL_4bcce309087643a1982cbf898736e842",
       "IPY_MODEL_4a82c737e0984deb9e3bffe62e94d60b",
       "IPY_MODEL_6d2d1b203e3344d88f5134441ec1b567",
       "IPY_MODEL_1d1efa33832e45c98a2c7bcb5e1164eb"
      ],
      "layout": "IPY_MODEL_d37f751babc649bfac92a80d2fef5b87"
     }
    },
    "fca263ee57744f4d8d451715904d9790": {
     "model_module": "@jupyter-widgets/controls",
     "model_module_version": "1.5.0",
     "model_name": "DescriptionStyleModel",
     "state": {
      "_model_module": "@jupyter-widgets/controls",
      "_model_module_version": "1.5.0",
      "_model_name": "DescriptionStyleModel",
      "_view_count": null,
      "_view_module": "@jupyter-widgets/base",
      "_view_module_version": "1.2.0",
      "_view_name": "StyleView",
      "description_width": ""
     }
    },
    "fcf67a330d7f4c03815abb9b50664256": {
     "model_module": "@jupyter-widgets/controls",
     "model_module_version": "1.5.0",
     "model_name": "DescriptionStyleModel",
     "state": {
      "_model_module": "@jupyter-widgets/controls",
      "_model_module_version": "1.5.0",
      "_model_name": "DescriptionStyleModel",
      "_view_count": null,
      "_view_module": "@jupyter-widgets/base",
      "_view_module_version": "1.2.0",
      "_view_name": "StyleView",
      "description_width": ""
     }
    },
    "fd40b11f0ba942ae97d4e2ce376b1e3b": {
     "model_module": "@jupyter-widgets/base",
     "model_module_version": "1.2.0",
     "model_name": "LayoutModel",
     "state": {
      "_model_module": "@jupyter-widgets/base",
      "_model_module_version": "1.2.0",
      "_model_name": "LayoutModel",
      "_view_count": null,
      "_view_module": "@jupyter-widgets/base",
      "_view_module_version": "1.2.0",
      "_view_name": "LayoutView",
      "align_content": null,
      "align_items": null,
      "align_self": null,
      "border": null,
      "bottom": null,
      "display": null,
      "flex": null,
      "flex_flow": null,
      "grid_area": null,
      "grid_auto_columns": null,
      "grid_auto_flow": null,
      "grid_auto_rows": null,
      "grid_column": null,
      "grid_gap": null,
      "grid_row": null,
      "grid_template_areas": null,
      "grid_template_columns": null,
      "grid_template_rows": null,
      "height": null,
      "justify_content": null,
      "justify_items": null,
      "left": null,
      "margin": null,
      "max_height": null,
      "max_width": null,
      "min_height": null,
      "min_width": null,
      "object_fit": null,
      "object_position": null,
      "order": null,
      "overflow": null,
      "overflow_x": null,
      "overflow_y": null,
      "padding": null,
      "right": null,
      "top": null,
      "visibility": null,
      "width": null
     }
    },
    "fd7a614d07bd4c629f419965961730f8": {
     "model_module": "@jupyter-widgets/controls",
     "model_module_version": "1.5.0",
     "model_name": "FloatProgressModel",
     "state": {
      "_dom_classes": [],
      "_model_module": "@jupyter-widgets/controls",
      "_model_module_version": "1.5.0",
      "_model_name": "FloatProgressModel",
      "_view_count": null,
      "_view_module": "@jupyter-widgets/controls",
      "_view_module_version": "1.5.0",
      "_view_name": "ProgressView",
      "bar_style": "success",
      "description": "",
      "description_tooltip": null,
      "layout": "IPY_MODEL_7688f0b367484ab8b3e4e7359a5642d5",
      "max": 105421,
      "min": 0,
      "orientation": "horizontal",
      "style": "IPY_MODEL_06ada10b2c264218896da24f6857fecc",
      "value": 105421
     }
    },
    "ff486779d1754ada97cd7ceb16389967": {
     "model_module": "@jupyter-widgets/controls",
     "model_module_version": "1.5.0",
     "model_name": "DescriptionStyleModel",
     "state": {
      "_model_module": "@jupyter-widgets/controls",
      "_model_module_version": "1.5.0",
      "_model_name": "DescriptionStyleModel",
      "_view_count": null,
      "_view_module": "@jupyter-widgets/base",
      "_view_module_version": "1.2.0",
      "_view_name": "StyleView",
      "description_width": ""
     }
    }
   }
  }
 },
 "nbformat": 4,
 "nbformat_minor": 4
}
