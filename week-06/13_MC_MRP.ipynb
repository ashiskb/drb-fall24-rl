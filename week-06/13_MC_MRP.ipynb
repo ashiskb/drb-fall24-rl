{
 "cells": [
  {
   "cell_type": "markdown",
   "metadata": {
    "id": "C9LspitiAK83"
   },
   "source": [
    "## Markov Processes\n",
    "\n",
    "### Markov Chain - Continuing\n",
    "\n",
    "These are the chains which have no terminations.\n",
    "\n",
    "![Markov Chain](figs/mcchain_continuing.png \"Markov Chain\")"
   ]
  },
  {
   "cell_type": "code",
   "execution_count": 17,
   "metadata": {
    "id": "mJGPHIKfAK86"
   },
   "outputs": [],
   "source": [
    "import numpy as np"
   ]
  },
  {
   "cell_type": "code",
   "execution_count": 18,
   "metadata": {},
   "outputs": [
    {
     "name": "stdout",
     "output_type": "stream",
     "text": [
      "Transition Matrix:\n",
      "[[0.3 0.7]\n",
      " [0.2 0.8]]\n",
      "Step 0. State Probability vector S = [0.25 0.75]\n",
      "Step 5. State Probability vector S = [0.2222225 0.7777775]\n",
      "Step 10. State Probability vector S = [0.22222222 0.77777778]\n",
      "Step 15. State Probability vector S = [0.22222222 0.77777778]\n",
      "Step 20. State Probability vector S = [0.22222222 0.77777778]\n",
      "Step 25. State Probability vector S = [0.22222222 0.77777778]\n",
      "Step 30. State Probability vector S = [0.22222222 0.77777778]\n",
      "Step 35. State Probability vector S = [0.22222222 0.77777778]\n",
      "Step 40. State Probability vector S = [0.22222222 0.77777778]\n",
      "Step 45. State Probability vector S = [0.22222222 0.77777778]\n",
      "Step 50. State Probability vector S = [0.22222222 0.77777778]\n",
      "Step 55. State Probability vector S = [0.22222222 0.77777778]\n",
      "Step 60. State Probability vector S = [0.22222222 0.77777778]\n",
      "Step 65. State Probability vector S = [0.22222222 0.77777778]\n",
      "Step 70. State Probability vector S = [0.22222222 0.77777778]\n",
      "Step 75. State Probability vector S = [0.22222222 0.77777778]\n",
      "Step 80. State Probability vector S = [0.22222222 0.77777778]\n",
      "Step 85. State Probability vector S = [0.22222222 0.77777778]\n",
      "Step 90. State Probability vector S = [0.22222222 0.77777778]\n",
      "Step 95. State Probability vector S = [0.22222222 0.77777778]\n",
      "\\Final Vector S=[0.22222222 0.77777778]\n"
     ]
    }
   ],
   "source": [
    "# 2-state Markov Chain (non-episodic)\n",
    "\n",
    "import numpy as np\n",
    "\n",
    "# define transition probability matrix\n",
    "P = np.array([[0.3, 0.7], [0.2, 0.8]])\n",
    "print(f\"Transition Matrix:\\n{P}\")\n",
    "\n",
    "# define a random starting solution for state probabilities\n",
    "# Here we assume equal probabilities for all the states\n",
    "S = np.array([0.5, 0.5])\n",
    "\n",
    "# run through 100 iterations to calculate steady state\n",
    "# transition probabilities\n",
    "for i in range(100):\n",
    "    S = np.dot(S, P)\n",
    "    if i % 5 == 0:\n",
    "        print(f\"Step {i}. State Probability vector S = {S}\")\n",
    "\n",
    "\n",
    "print(f\"\\nFinal Vector S={S}\")"
   ]
  },
  {
   "cell_type": "markdown",
   "metadata": {
    "id": "Kz4UtBbdAK89"
   },
   "source": [
    "### Markov Chain - Episodic\n",
    "\n",
    "\n",
    "![Markov Chain Episodic](figs/mc_episodic.png \"Markov Chain Episodic\")"
   ]
  },
  {
   "cell_type": "code",
   "execution_count": 19,
   "metadata": {
    "colab": {
     "base_uri": "https://localhost:8080/"
    },
    "id": "jKWlO0R5AK8-",
    "outputId": "fd0bc6be-a2c4-433f-ad0b-949e211edacc"
   },
   "outputs": [
    {
     "name": "stdout",
     "output_type": "stream",
     "text": [
      "Transition Matrix:\n",
      "[[0.3 0.5 0.2 0. ]\n",
      " [0.1 0.9 0.  0. ]\n",
      " [0.4 0.  0.  0.6]\n",
      " [0.  0.  0.  1. ]]\n",
      "Step 0. State Probability vector S = [0.3 0.5 0.2 0. ]\n",
      "Step 100. State Probability vector S = [0.02146917 0.12918418 0.00436767 0.84497898]\n",
      "Step 200. State Probability vector S = [3.90276420e-03 2.34836952e-02 7.93974834e-04 9.71819566e-01]\n",
      "Step 300. State Probability vector S = [7.09462447e-04 4.26897424e-03 1.44332401e-04 9.94877231e-01]\n",
      "Step 400. State Probability vector S = [1.28969351e-04 7.76033795e-04 2.62374085e-05 9.99068759e-01]\n",
      "Step 500. State Probability vector S = [2.34446424e-05 1.41070997e-04 4.76955694e-06 9.99830715e-01]\n",
      "Step 600. State Probability vector S = [4.26187505e-06 2.56445354e-05 8.67032023e-07 9.99969227e-01]\n",
      "Step 700. State Probability vector S = [7.74743272e-07 4.66178173e-06 1.57613074e-07 9.99994406e-01]\n",
      "Step 800. State Probability vector S = [1.40836399e-07 8.47440149e-07 2.86516303e-08 9.99998983e-01]\n",
      "Step 900. State Probability vector S = [2.56018892e-08 1.54051573e-07 5.20842529e-09 9.99999815e-01]\n",
      "\n",
      "Final Vector S=[4.73405766e-09 2.84857504e-08 9.63092427e-10 9.99999966e-01]\n"
     ]
    }
   ],
   "source": [
    "# MC Episodic\n",
    "\n",
    "import numpy as np\n",
    "\n",
    "# define transition matrix\n",
    "P = np.array([\n",
    "    [0.3, 0.5, 0.2, 0.0],\n",
    "    [0.1, 0.9, 0.0, 0.0],\n",
    "    [0.4, 0, 0, 0.6],\n",
    "    [0, 0, 0, 1]\n",
    "])\n",
    "\n",
    "print(f\"Transition Matrix:\\n{P}\")\n",
    "\n",
    "# define any starting solution to state probabilities\n",
    "S = np.array([1, 0, 0, 0])\n",
    "\n",
    "# run through 1000 iterations to calculate steady state\n",
    "# transition probabilities which should give prob ~ 1 for terminal state\n",
    "for i in range(1000):\n",
    "    S = np.dot(S, P)\n",
    "    if i % 100 == 0:\n",
    "        print(f\"Step {i}. State Probability vector S = {S}\")\n",
    "\n",
    "\n",
    "print(f\"\\nFinal Vector S={S}\")"
   ]
  },
  {
   "cell_type": "markdown",
   "metadata": {
    "id": "LtONXG4JAK8_"
   },
   "source": [
    "### Markov Reward Process - Continuing\n",
    "\n",
    "Now the process has a reward for each transition in addition to the transition probabilities.\n",
    "\n",
    "![Markov Reward Process](figs/mrp_continuing.png \"Markov Reward Process\")"
   ]
  },
  {
   "cell_type": "code",
   "execution_count": 20,
   "metadata": {},
   "outputs": [
    {
     "name": "stdout",
     "output_type": "stream",
     "text": [
      "Transition Matrix:\n",
      "[[0.3 0.7]\n",
      " [0.2 0.8]]\n",
      "Rewards Matrix:\n",
      "[[-2  3]\n",
      " [ 0  2]]\n"
     ]
    }
   ],
   "source": [
    "# 2-state Markov Reward Process (non-episodic)\n",
    "\n",
    "import numpy as np\n",
    "\n",
    "# define transition probability matrix\n",
    "P = np.array([[0.3, 0.7], [0.2, 0.8]])\n",
    "print(f\"Transition Matrix:\\n{P}\")\n",
    "\n",
    "# define reward matrix\n",
    "R = np.array([[-2,3],[0,2]])\n",
    "print(f\"Rewards Matrix:\\n{R}\")\n"
   ]
  },
  {
   "cell_type": "code",
   "execution_count": 21,
   "metadata": {},
   "outputs": [
    {
     "data": {
      "text/plain": [
       "0"
      ]
     },
     "execution_count": 21,
     "metadata": {},
     "output_type": "execute_result"
    }
   ],
   "source": [
    "import random\n",
    "random.randint(0,1)"
   ]
  },
  {
   "cell_type": "code",
   "execution_count": 32,
   "metadata": {},
   "outputs": [
    {
     "name": "stdout",
     "output_type": "stream",
     "text": [
      "1 -> 1-> 0-> 1-> 0-> 1-> 1-> 1-> 1-> 1-> 1-> 1-> 1-> 1 [ Chain Length = 13]\n",
      "1 -> 1-> 1-> 0-> 1-> 1-> 1-> 0-> 1 [ Chain Length = 8]\n",
      "1 -> 0-> 1-> 1-> 1-> 1-> 1-> 1-> 1 [ Chain Length = 8]\n",
      "0 -> 0-> 1-> 1-> 0-> 1-> 0-> 1-> 1-> 1-> 0-> 1-> 1-> 1-> 1-> 1-> 1-> 1-> 0-> 1-> 1 [ Chain Length = 20]\n",
      "0 -> 0-> 0-> 1-> 1-> 1-> 1-> 1-> 1 [ Chain Length = 8]\n",
      "0 -> 1-> 0-> 0-> 1-> 1-> 1-> 0-> 1-> 1-> 1-> 1-> 1 [ Chain Length = 12]\n",
      "1 -> 1-> 1-> 1-> 1-> 0-> 1-> 1-> 0-> 0-> 1-> 1-> 1-> 1-> 1-> 0-> 0-> 1-> 1 [ Chain Length = 18]\n",
      "1 -> 1-> 1-> 0-> 0-> 1-> 1-> 0-> 1-> 1-> 0-> 1-> 0-> 0-> 1-> 1-> 1-> 1-> 1-> 0-> 0 [ Chain Length = 20]\n",
      "0 -> 1-> 1-> 1-> 1-> 0-> 0-> 0-> 1-> 1-> 1-> 1-> 1-> 1-> 1-> 1-> 1-> 1-> 1 [ Chain Length = 18]\n",
      "0 -> 1-> 1-> 1-> 1-> 1-> 1-> 0 [ Chain Length = 7]\n",
      "0 -> 1-> 1 [ Chain Length = 2]\n",
      "1 -> 1-> 1-> 1-> 1-> 1-> 1-> 1-> 1-> 1-> 1-> 1-> 1-> 1-> 1-> 1-> 0-> 1-> 0 [ Chain Length = 18]\n",
      "0 -> 1-> 1-> 1-> 0-> 0-> 0-> 0-> 1-> 1-> 1-> 0-> 1-> 0 [ Chain Length = 13]\n",
      "0 -> 1-> 0-> 0-> 1-> 0-> 1-> 1-> 1-> 0-> 0-> 0-> 0-> 1-> 1-> 0-> 1-> 1 [ Chain Length = 17]\n",
      "0 -> 1-> 1 [ Chain Length = 2]\n",
      "0 -> 1-> 1-> 1-> 1-> 0-> 1-> 1-> 1-> 1-> 1-> 1-> 1 [ Chain Length = 12]\n",
      "1 -> 1-> 1-> 1-> 1-> 1-> 0-> 1-> 1 [ Chain Length = 8]\n",
      "1 -> 1-> 1-> 1-> 1-> 1-> 1 [ Chain Length = 6]\n",
      "1 -> 1-> 1-> 1-> 1-> 1-> 1-> 1 [ Chain Length = 7]\n",
      "0 -> 1-> 1-> 0-> 0-> 0-> 1-> 1-> 0-> 1-> 1-> 1-> 1-> 1-> 1-> 1-> 0-> 1-> 1 [ Chain Length = 18]\n",
      "0 -> 1-> 1-> 1-> 0-> 1-> 0-> 0 [ Chain Length = 7]\n",
      "0 -> 1-> 1-> 1-> 1-> 1-> 1-> 1-> 1-> 1-> 1-> 1-> 1-> 1-> 1-> 1-> 0-> 1-> 1 [ Chain Length = 18]\n",
      "1 -> 1-> 1 [ Chain Length = 2]\n",
      "1 -> 1-> 1-> 1-> 1-> 1-> 0-> 1-> 1-> 1-> 1-> 1-> 1-> 1-> 1-> 1-> 1-> 1 [ Chain Length = 17]\n",
      "1 -> 1-> 1-> 0-> 1-> 1-> 1 [ Chain Length = 6]\n",
      "0 -> 1-> 1-> 1-> 1-> 1-> 1-> 1-> 1 [ Chain Length = 8]\n",
      "0 -> 1-> 1-> 1-> 0 [ Chain Length = 4]\n",
      "0 -> 0-> 1-> 1-> 1-> 1-> 1 [ Chain Length = 6]\n",
      "1 -> 0-> 1-> 1-> 1-> 1-> 1-> 1-> 1 [ Chain Length = 8]\n",
      "0 -> 0-> 1-> 1-> 1-> 1-> 0-> 1-> 1-> 0-> 1-> 1-> 1-> 1 [ Chain Length = 13]\n",
      "1 -> 1-> 1-> 1-> 1-> 0-> 1-> 0-> 1-> 1-> 1-> 0-> 1-> 1-> 1-> 1 [ Chain Length = 15]\n",
      "1 -> 1-> 0-> 1-> 1-> 1-> 1-> 1-> 0-> 1-> 1-> 1-> 0-> 0-> 1 [ Chain Length = 14]\n",
      "1 -> 0-> 1-> 0-> 1-> 1-> 1-> 0-> 0-> 1 [ Chain Length = 9]\n",
      "0 -> 1-> 1-> 0-> 0-> 1-> 1-> 1-> 0 [ Chain Length = 8]\n",
      "1 -> 1-> 1-> 1-> 1-> 1-> 1-> 1-> 0-> 1-> 0-> 0-> 1 [ Chain Length = 12]\n",
      "1 -> 1-> 1-> 1-> 1-> 1-> 1-> 1-> 1-> 1-> 1-> 1-> 1-> 1-> 1-> 1-> 1-> 1-> 0-> 1 [ Chain Length = 19]\n",
      "1 -> 1-> 1-> 1-> 0-> 1-> 1-> 1 [ Chain Length = 7]\n",
      "1 -> 1-> 1-> 0-> 0-> 1-> 1-> 1-> 1-> 0-> 1-> 0-> 1-> 1-> 1-> 1-> 1-> 1-> 1-> 1 [ Chain Length = 19]\n",
      "0 -> 0-> 1-> 1-> 1-> 0-> 1-> 1-> 1-> 1-> 1-> 1-> 1-> 1-> 1-> 1-> 1-> 1-> 0 [ Chain Length = 18]\n",
      "0 -> 1-> 0-> 0 [ Chain Length = 3]\n",
      "0 -> 0-> 1-> 1-> 1-> 0 [ Chain Length = 5]\n",
      "0 -> 1-> 1-> 1-> 1-> 1-> 1-> 1-> 1-> 1-> 1-> 1-> 1-> 1-> 1-> 1-> 1-> 1-> 1-> 0-> 0 [ Chain Length = 20]\n",
      "1 -> 0-> 0-> 0-> 1-> 1-> 1-> 1-> 1-> 1 [ Chain Length = 9]\n",
      "0 -> 0-> 0-> 1-> 1-> 1-> 1-> 1-> 0-> 0-> 1-> 1-> 1-> 1-> 1-> 1 [ Chain Length = 15]\n",
      "0 -> 1-> 1 [ Chain Length = 2]\n",
      "0 -> 1-> 1-> 0-> 1-> 1-> 1-> 1-> 1-> 1-> 1-> 1-> 1-> 1 [ Chain Length = 13]\n",
      "0 -> 0-> 1-> 0-> 1-> 1-> 0-> 0-> 1-> 1-> 1 [ Chain Length = 10]\n",
      "1 -> 1-> 1-> 1-> 1-> 0-> 0 [ Chain Length = 6]\n",
      "0 -> 1-> 1-> 1-> 1-> 1-> 0-> 1-> 1-> 1-> 1-> 1-> 1-> 1-> 0-> 1-> 1-> 0 [ Chain Length = 17]\n",
      "1 -> 0-> 1-> 1-> 1-> 1-> 1-> 1-> 1-> 1-> 1-> 1-> 1-> 1-> 1-> 1-> 0-> 0 [ Chain Length = 17]\n",
      "1 -> 1-> 0-> 1-> 1-> 1-> 1-> 0-> 1-> 0-> 1-> 1-> 1-> 1-> 0-> 0-> 1-> 0-> 0-> 1-> 0 [ Chain Length = 20]\n",
      "0 -> 1-> 1-> 1-> 1-> 1-> 1-> 1-> 1-> 0-> 0-> 1-> 1-> 1-> 1-> 1-> 1-> 0 [ Chain Length = 17]\n",
      "0 -> 1-> 1-> 1-> 1-> 0-> 0-> 0-> 1-> 1-> 1-> 1-> 0-> 1-> 1-> 1-> 1-> 1-> 1-> 0-> 1 [ Chain Length = 20]\n",
      "0 -> 0-> 1-> 1-> 1-> 0-> 1-> 1-> 1-> 1-> 1-> 1-> 1-> 1-> 1-> 1-> 1-> 1-> 1-> 0-> 1 [ Chain Length = 20]\n",
      "0 -> 1-> 0-> 1-> 1-> 0-> 1-> 1-> 1-> 0-> 1-> 1-> 1-> 1-> 0-> 0-> 1 [ Chain Length = 16]\n",
      "1 -> 1-> 1-> 1-> 1-> 1-> 1 [ Chain Length = 6]\n",
      "1 -> 1-> 1-> 1-> 1-> 1-> 1-> 1-> 1-> 1-> 1-> 1-> 0-> 1-> 1-> 1-> 1-> 0 [ Chain Length = 17]\n",
      "0 -> 1-> 1-> 1-> 1-> 0-> 0 [ Chain Length = 6]\n",
      "1 -> 1-> 1-> 1-> 1-> 1-> 1-> 1-> 1-> 1-> 1-> 1-> 1-> 1-> 1 [ Chain Length = 14]\n",
      "1 -> 1-> 1-> 1-> 1-> 1-> 1-> 1-> 1-> 0-> 1-> 1-> 1-> 1-> 1-> 1-> 0-> 1 [ Chain Length = 17]\n",
      "1 -> 1-> 0-> 1 [ Chain Length = 3]\n",
      "0 -> 1-> 1-> 1-> 0-> 1-> 1-> 1-> 1-> 1-> 1-> 1-> 0-> 1-> 0-> 1-> 1-> 0-> 0-> 1-> 1 [ Chain Length = 20]\n",
      "0 -> 1-> 1-> 1-> 1-> 1-> 1-> 0-> 1-> 1-> 1-> 1-> 1-> 1-> 1-> 1-> 1-> 0-> 1-> 1 [ Chain Length = 19]\n",
      "1 -> 1-> 1-> 1-> 1-> 1-> 1-> 0-> 1-> 1-> 1-> 1-> 1 [ Chain Length = 12]\n",
      "0 -> 1-> 1-> 1-> 1-> 1-> 0-> 1-> 1-> 1-> 1-> 1-> 0-> 1 [ Chain Length = 13]\n",
      "0 -> 1-> 1-> 1-> 0-> 1-> 1-> 0-> 0 [ Chain Length = 8]\n",
      "1 -> 1-> 1-> 0-> 1-> 1-> 1-> 1-> 1-> 1-> 1-> 1-> 0-> 1-> 1-> 1-> 1-> 0-> 1-> 1-> 1 [ Chain Length = 20]\n",
      "0 -> 1-> 1-> 1-> 1-> 1-> 0 [ Chain Length = 6]\n",
      "1 -> 1-> 0-> 1-> 1-> 0-> 1-> 1-> 0 [ Chain Length = 8]\n",
      "1 -> 1-> 1-> 1-> 0-> 1-> 1-> 1-> 0-> 0-> 0-> 1-> 1-> 1-> 1 [ Chain Length = 14]\n",
      "1 -> 1-> 0-> 1-> 1-> 1-> 1-> 1 [ Chain Length = 7]\n",
      "1 -> 1-> 1-> 1-> 1 [ Chain Length = 4]\n",
      "1 -> 1-> 1-> 1-> 0-> 1-> 0-> 1-> 1-> 0-> 1 [ Chain Length = 10]\n",
      "1 -> 1-> 1-> 0-> 1-> 1-> 0-> 1-> 1-> 1-> 1-> 1 [ Chain Length = 11]\n",
      "0 -> 1-> 1-> 1-> 0-> 1-> 1-> 0-> 1-> 1-> 1-> 1-> 1-> 1 [ Chain Length = 13]\n",
      "1 -> 1-> 1-> 1-> 1-> 1-> 0-> 0-> 0-> 0 [ Chain Length = 9]\n",
      "1 -> 1-> 1-> 0-> 1-> 0-> 0-> 0-> 1-> 1-> 1-> 1-> 1-> 0-> 1-> 1-> 1-> 1 [ Chain Length = 17]\n",
      "0 -> 0-> 0-> 1-> 1-> 1-> 1-> 0-> 1-> 1-> 0 [ Chain Length = 10]\n",
      "1 -> 1-> 0-> 1-> 1-> 1-> 1-> 1-> 1-> 1-> 1-> 1-> 1-> 1-> 0 [ Chain Length = 14]\n",
      "0 -> 0-> 0 [ Chain Length = 2]\n",
      "0 -> 0-> 0-> 0-> 1-> 1-> 1-> 0 [ Chain Length = 7]\n",
      "0 -> 0-> 1-> 1-> 0-> 1-> 1-> 1-> 1-> 1-> 1-> 1-> 1-> 1 [ Chain Length = 13]\n",
      "1 -> 0-> 0 [ Chain Length = 2]\n",
      "1 -> 1-> 1-> 0-> 0-> 1-> 1-> 1-> 1-> 1-> 1-> 1-> 1-> 0-> 0-> 0-> 1-> 0-> 0-> 1-> 1 [ Chain Length = 20]\n",
      "0 -> 1-> 0-> 0-> 0-> 1-> 1 [ Chain Length = 6]\n",
      "0 -> 1-> 1-> 1-> 1-> 1-> 0-> 0-> 1 [ Chain Length = 8]\n",
      "1 -> 1-> 1-> 0-> 1-> 1-> 0-> 1-> 1-> 1-> 1-> 1-> 0-> 1-> 1-> 0-> 1-> 1 [ Chain Length = 17]\n",
      "1 -> 1-> 1-> 1-> 1-> 1-> 1-> 1-> 1 [ Chain Length = 8]\n",
      "1 -> 1-> 1-> 1-> 0-> 1-> 0-> 1-> 1-> 1-> 1 [ Chain Length = 10]\n",
      "0 -> 1-> 0-> 0-> 1-> 1-> 0-> 1-> 0-> 1-> 1-> 1-> 0-> 1-> 1-> 0 [ Chain Length = 15]\n",
      "1 -> 0-> 1-> 1-> 0-> 0-> 1-> 1-> 1-> 1-> 1-> 1-> 1-> 1 [ Chain Length = 13]\n",
      "0 -> 1-> 1-> 1-> 1-> 0-> 1-> 1-> 1-> 1-> 0-> 1 [ Chain Length = 11]\n",
      "0 -> 0-> 1-> 1-> 1-> 1-> 1-> 1-> 1-> 1-> 1-> 1-> 1-> 0 [ Chain Length = 13]\n",
      "1 -> 1-> 1-> 1-> 1-> 1-> 1-> 1-> 1-> 0-> 1-> 1-> 1-> 1 [ Chain Length = 13]\n",
      "0 -> 1-> 1-> 1-> 1-> 1-> 1-> 1-> 0 [ Chain Length = 8]\n",
      "1 -> 0-> 1-> 1-> 1-> 1-> 1-> 1-> 1-> 1-> 1-> 1-> 0-> 1-> 1-> 0-> 0-> 1-> 1-> 1 [ Chain Length = 19]\n",
      "0 -> 1-> 1-> 0-> 0-> 1-> 0-> 0-> 1-> 1-> 1-> 0-> 1-> 0-> 0-> 0-> 1-> 1-> 1-> 0-> 1 [ Chain Length = 20]\n",
      "1 -> 1-> 1-> 0-> 0-> 1-> 1-> 1-> 1-> 1 [ Chain Length = 9]\n",
      "0 -> 1-> 1-> 1-> 1-> 1-> 0-> 1-> 1-> 0-> 1-> 1-> 1-> 0-> 1-> 1-> 1 [ Chain Length = 16]\n",
      "1 -> 1-> 0 [ Chain Length = 2]\n"
     ]
    }
   ],
   "source": [
    "import random\n",
    "gamma = 0.9\n",
    "num_iterations = 100\n",
    "Gt_list = {0:[], 1:[]} #dictionary of Gt values for each state\n",
    "while True:\n",
    "\tchain_length = random.randint(2,20)\n",
    "\ttrajectory = []\n",
    "\t#select start state (uniformly)\n",
    "\ts0 = random.randint(0,1)\n",
    "\tprint(f'{s0} ',end='')\n",
    "\ttrajectory.append([0,s0]) #start state\n",
    "\n",
    "\ts = s0 #current state, s\n",
    "\tfor i in range(chain_length):\n",
    "\t\t#follow a transition using state transition probability\n",
    "\t\tif random.random() < P[s,0]:\n",
    "\t\t\ts_next = 0\n",
    "\t\t\treward = R[s,0]\n",
    "\t\telse:\n",
    "\t\t\ts_next = 1\n",
    "\t\t\treward = R[s,1]\n",
    "\t\tprint(f'-> {s_next}',end = '')\n",
    "\t\ts = s_next #new current state\n",
    "\t\ttrajectory.append([reward,s_next])\n",
    "\tprint(f' [ Chain Length = {chain_length}]')\n",
    "\n",
    "\t#calculate Gt starting from the chosen start state\n",
    "\tt=0\n",
    "\tGt = 0\n",
    "\tfor t,[ri,si] in enumerate(trajectory):\n",
    "\t\tGt = Gt + gamma**t * ri\n",
    "\tGt_list[s0].append(Gt) #Gt at starting state=s0\n",
    "\n",
    "\tnum_iterations -= 1\n",
    "\n",
    "\tif num_iterations == 0:\n",
    "\t\tbreak"
   ]
  },
  {
   "cell_type": "code",
   "execution_count": 33,
   "metadata": {},
   "outputs": [
    {
     "data": {
      "text/plain": [
       "{0: [11.166674734433055,\n",
       "  4.140590220000001,\n",
       "  9.410241753342,\n",
       "  11.408832174654016,\n",
       "  9.334062000000001,\n",
       "  4.32,\n",
       "  6.188432297643001,\n",
       "  6.841859362904804,\n",
       "  4.32,\n",
       "  13.166729343342002,\n",
       "  9.608031412880317,\n",
       "  6.592876200000001,\n",
       "  15.994464343880317,\n",
       "  11.151590220000001,\n",
       "  5.7780000000000005,\n",
       "  5.644062,\n",
       "  9.623893871107802,\n",
       "  6.798745800000001,\n",
       "  11.558568294060018,\n",
       "  1.242,\n",
       "  3.4002,\n",
       "  15.95514325547288,\n",
       "  6.12102168639632,\n",
       "  4.32,\n",
       "  13.5227415090078,\n",
       "  5.5862856882,\n",
       "  14.728333843062117,\n",
       "  13.708819517756687,\n",
       "  11.462889648296626,\n",
       "  12.223487528425725,\n",
       "  12.502063763574053,\n",
       "  6.027318,\n",
       "  14.628756006822057,\n",
       "  15.758891319492285,\n",
       "  13.429383918878703,\n",
       "  7.751417580000001,\n",
       "  8.271180000000001,\n",
       "  13.0768049190078,\n",
       "  4.389304608000001,\n",
       "  -3.42,\n",
       "  -0.6658379999999997,\n",
       "  9.9129315090078,\n",
       "  2.764152,\n",
       "  8.60598783,\n",
       "  9.533505836977922,\n",
       "  12.21832398627,\n",
       "  10.126268343342002,\n",
       "  10.290655800000001,\n",
       "  8.118615109369072,\n",
       "  14.274210781050497],\n",
       " 1: [11.8119315090078,\n",
       "  8.92356363,\n",
       "  9.26159022,\n",
       "  11.600601106020646,\n",
       "  9.300722901618888,\n",
       "  14.794275073286316,\n",
       "  9.667005119999999,\n",
       "  8.434062,\n",
       "  9.390655800000001,\n",
       "  3.42,\n",
       "  14.413522194060016,\n",
       "  7.632162,\n",
       "  9.26159022,\n",
       "  12.773102376597318,\n",
       "  11.164825947363031,\n",
       "  6.943489047000001,\n",
       "  10.772584684263002,\n",
       "  15.403362809361916,\n",
       "  8.668945800000001,\n",
       "  11.305202714589615,\n",
       "  3.726531198000001,\n",
       "  5.127318,\n",
       "  12.970415988302989,\n",
       "  11.830542418281954,\n",
       "  8.434062,\n",
       "  14.353891169937588,\n",
       "  13.88217735810702,\n",
       "  14.368112535386315,\n",
       "  3.987,\n",
       "  12.390141753342,\n",
       "  14.515598728544322,\n",
       "  7.8501168,\n",
       "  9.66894781779702,\n",
       "  8.4996558,\n",
       "  6.1902,\n",
       "  9.9913304403,\n",
       "  10.96492417038,\n",
       "  4.778810801999999,\n",
       "  9.127137662943829,\n",
       "  12.533641509007799,\n",
       "  -1.62,\n",
       "  9.459165840598072,\n",
       "  13.074469458626803,\n",
       "  10.25159022,\n",
       "  10.417492978200002,\n",
       "  9.291922509007803,\n",
       "  12.998478971107799,\n",
       "  13.281575895326148,\n",
       "  7.534521198000001,\n",
       "  1.8]}"
      ]
     },
     "execution_count": 33,
     "metadata": {},
     "output_type": "execute_result"
    }
   ],
   "source": [
    "Gt_list"
   ]
  },
  {
   "cell_type": "code",
   "execution_count": 34,
   "metadata": {},
   "outputs": [
    {
     "name": "stdout",
     "output_type": "stream",
     "text": [
      "V(s=0) = average of Gt = 8.858250200333153\n",
      "V(s=1) = average of Gt = 9.732459367527321\n"
     ]
    }
   ],
   "source": [
    "for s in [0,1]: #two states\n",
    "\tprint(f'V(s={s}) = average of Gt = {np.mean(Gt_list[s])}')"
   ]
  },
  {
   "cell_type": "code",
   "execution_count": null,
   "metadata": {},
   "outputs": [],
   "source": []
  }
 ],
 "metadata": {
  "colab": {
   "provenance": []
  },
  "kernelspec": {
   "display_name": "Python 3 (ipykernel)",
   "language": "python",
   "name": "python3"
  },
  "language_info": {
   "codemirror_mode": {
    "name": "ipython",
    "version": 3
   },
   "file_extension": ".py",
   "mimetype": "text/x-python",
   "name": "python",
   "nbconvert_exporter": "python",
   "pygments_lexer": "ipython3",
   "version": "3.10.15"
  }
 },
 "nbformat": 4,
 "nbformat_minor": 4
}
