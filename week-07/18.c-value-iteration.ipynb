{
 "cells": [
  {
   "cell_type": "markdown",
   "metadata": {},
   "source": [
    "# Dynamic Programming\n",
    "\n",
    "We will be using dynamic programming on sample 4x4 grid world and study **Policy Evaluation** \n",
    "\n",
    "![GridWorld](./figs/gridworld.png \"Grid World\")\n"
   ]
  },
  {
   "cell_type": "markdown",
   "metadata": {},
   "source": [
    "### Value Iteration \n",
    "\n",
    "Value Iteration is carried out by repeatedly applying equation (3.8) from text in a loop till change in state values fall below a threshold. Pseudo code for the algorithm is given in Fig 3-5 in the text."
   ]
  },
  {
   "cell_type": "markdown",
   "metadata": {},
   "source": [
    "#### Running in Colab/Kaggle\n",
    "\n",
    "If you are running this on Colab, please uncomment below cell and run this to install required dependencies."
   ]
  },
  {
   "cell_type": "code",
   "execution_count": null,
   "metadata": {},
   "outputs": [],
   "source": [
    "## Uncomment and execute this cell to install all the the dependencies if running in Google Colab or Kaggle\n",
    "\n",
    "## Uncomment and run for Colab\n",
    "# !git clone https://github.com/nsanghi/drl-2ed\n",
    "# %cd /content/drl-2ed \n",
    "# %cd chapter3\n",
    "\n",
    "\n",
    "## Uncomment and run for Kaggle\n",
    "# !git clone https://github.com/nsanghi/drl-2ed\n",
    "# %cd /content/drl-2ed \n",
    "# %cd chapter3"
   ]
  },
  {
   "cell_type": "code",
   "execution_count": 1,
   "metadata": {},
   "outputs": [],
   "source": [
    "# Initial imports and environment setup\n",
    "import numpy as np\n",
    "import sys\n",
    "import seaborn as sns\n",
    "import matplotlib.pyplot as plt\n",
    "\n",
    "sns.set()\n",
    "\n",
    "# create grid world environment\n",
    "from gridworld_mbased import GridworldEnv\n",
    "env = GridworldEnv()"
   ]
  },
  {
   "cell_type": "code",
   "execution_count": 2,
   "metadata": {},
   "outputs": [],
   "source": [
    "# Custom print to show state values inside the grid\n",
    "def grid_print(V, k=None):\n",
    "    ax = sns.heatmap(V.reshape(env.shape),\n",
    "                     annot=True, square=True,\n",
    "                     cbar=False, cmap='Blues',\n",
    "                     xticklabels=False, yticklabels=False)\n",
    "\n",
    "    if k:\n",
    "        ax.set(title=\"State values after K = {0}\".format(k))\n",
    "    else:\n",
    "        ax.set(title=\"State Values\".format(k))\n",
    "    plt.show()"
   ]
  },
  {
   "cell_type": "code",
   "execution_count": 3,
   "metadata": {},
   "outputs": [],
   "source": [
    "# Value Iteration\n",
    "def value_iteration(env, discount_factor=1.0, theta=0.00001):\n",
    "    \"\"\"\n",
    "    Carry out Value iteration given an environment and a full description\n",
    "    of the environment's dynamics.\n",
    "\n",
    "    Args:\n",
    "        env: OpenAI env. env.P -> transition dynamics of the environment.\n",
    "            env.P[s][a] [(prob, next_state, reward, done)].\n",
    "            env.nS is number of states in the environment.\n",
    "            env.nA is number of actions in the environment.\n",
    "        discount_factor: Gamma discount factor.\n",
    "        theta: tolernace level to stop the iterations\n",
    "\n",
    "    Returns:\n",
    "        policy: [S, A] shaped matrix representing optimal policy.\n",
    "        value : [S] length vector representing optimal value\n",
    "    \"\"\"\n",
    "\n",
    "    def argmax_a(arr):\n",
    "        \"\"\"\n",
    "        Return idx of max element in an array.\n",
    "        \"\"\"\n",
    "        max_idx = []\n",
    "        max_val = float('-inf')\n",
    "        for idx, elem in enumerate(arr):\n",
    "            if elem == max_val:\n",
    "                max_idx.append(idx)\n",
    "            elif elem > max_val:\n",
    "                max_idx = [idx]\n",
    "                max_val = elem\n",
    "        return max_idx\n",
    "\n",
    "    optimal_policy = np.zeros([env.nS, env.nA])\n",
    "    V = np.zeros(env.nS)\n",
    "    V_new = np.copy(V)\n",
    "\n",
    "    while True:\n",
    "        delta = 0\n",
    "        # For each state, perform a \"greedy backup\"\n",
    "        for s in range(env.nS):\n",
    "            q = np.zeros(env.nA)\n",
    "            # Look at the possible next actions\n",
    "            for a in range(env.nA):\n",
    "                # For each action, look at the possible next states\n",
    "                # to calculate q[s,a]\n",
    "                for prob, next_state, reward, done in env.P[s][a]:\n",
    "                    # Calculate the value for each action as per backup diagram\n",
    "                    if not done:\n",
    "                        q[a] += prob*(reward + discount_factor * V[next_state])\n",
    "                    else:\n",
    "                        q[a] += prob * reward\n",
    "\n",
    "            # find the maximum value over all possible actions\n",
    "            # and store updated state value\n",
    "            V_new[s] = q.max()\n",
    "            # How much our value function changed (across any states)\n",
    "            delta = max(delta, np.abs(V_new[s] - V[s]))\n",
    "\n",
    "        V = np.copy(V_new)\n",
    "\n",
    "        # Stop if change is below a threshold\n",
    "        if delta < theta:\n",
    "            break\n",
    "\n",
    "    # V(s) has optimal values. Use these values and one step backup\n",
    "    # to calculate optimal policy\n",
    "    for s in range(env.nS):\n",
    "        q = np.zeros(env.nA)\n",
    "        # Look at the possible next actions\n",
    "        for a in range(env.nA):\n",
    "            # For each action, look at the possible next states\n",
    "            # and calculate q[s,a]\n",
    "            for prob, next_state, reward, done in env.P[s][a]:\n",
    "\n",
    "                # Calculate the value for each action as per backup diagram\n",
    "                if not done:\n",
    "                    q[a] += prob * (reward + discount_factor * V[next_state])\n",
    "                else:\n",
    "                    q[a] += prob * reward\n",
    "\n",
    "        # find the optimal actions\n",
    "        # We are returning stochastic policy which will assign equal\n",
    "        # probability to all those actions which are equal to maximum value\n",
    "        best_actions = argmax_a(q)\n",
    "        optimal_policy[s, best_actions] = 1.0 / len(best_actions)\n",
    "\n",
    "    return optimal_policy, V"
   ]
  },
  {
   "cell_type": "code",
   "execution_count": 4,
   "metadata": {},
   "outputs": [
    {
     "name": "stdout",
     "output_type": "stream",
     "text": [
      "Optimal Policy\n",
      " [[0.25 0.25 0.25 0.25]\n",
      " [0.   0.   0.   1.  ]\n",
      " [0.   0.   0.   1.  ]\n",
      " [0.   0.   0.5  0.5 ]\n",
      " [1.   0.   0.   0.  ]\n",
      " [0.5  0.   0.   0.5 ]\n",
      " [0.25 0.25 0.25 0.25]\n",
      " [0.   0.   1.   0.  ]\n",
      " [1.   0.   0.   0.  ]\n",
      " [0.25 0.25 0.25 0.25]\n",
      " [0.   0.5  0.5  0.  ]\n",
      " [0.   0.   1.   0.  ]\n",
      " [0.5  0.5  0.   0.  ]\n",
      " [0.   1.   0.   0.  ]\n",
      " [0.   1.   0.   0.  ]\n",
      " [0.25 0.25 0.25 0.25]]\n"
     ]
    },
    {
     "data": {
      "image/png": "[encoded data removed]",
      "text/plain": [
       "<Figure size 640x480 with 1 Axes>"
      ]
     },
     "metadata": {},
     "output_type": "display_data"
    }
   ],
   "source": [
    "# Run policy iteration on Grid world\n",
    "pi_star, V_star = value_iteration(env)\n",
    "\n",
    "# Print Optimal policy\n",
    "print(\"Optimal Policy\\n\", pi_star)\n",
    "\n",
    "# Print optimal state values\n",
    "grid_print(V_star.reshape(env.shape))"
   ]
  },
  {
   "cell_type": "markdown",
   "metadata": {},
   "source": [
    "### Conclusion\n",
    "\n",
    "Similar to Policy Iteration in `listing3_3`, we see that optimal state values are negative of number of steps required to each the closest terminal state. As the reward is -1 for each time step till agent reaches terminal state, the optimal policy would take the agent to terminal state in minimal number of possible steps. For some states, more than one action could lead to same number of steps to reach terminal state. For example, look at top right state with value=-3, it takes 3 steps to reach the terminal state at top-left or terminal state at bottom-right. In other words, the state values is negative of Manhattan distance between the state and nearest terminal state."
   ]
  }
 ],
 "metadata": {
  "kernelspec": {
   "display_name": "Python 3 (ipykernel)",
   "language": "python",
   "name": "python3"
  },
  "language_info": {
   "codemirror_mode": {
    "name": "ipython",
    "version": 3
   },
   "file_extension": ".py",
   "mimetype": "text/x-python",
   "name": "python",
   "nbconvert_exporter": "python",
   "pygments_lexer": "ipython3",
   "version": "3.10.15"
  }
 },
 "nbformat": 4,
 "nbformat_minor": 4
}
